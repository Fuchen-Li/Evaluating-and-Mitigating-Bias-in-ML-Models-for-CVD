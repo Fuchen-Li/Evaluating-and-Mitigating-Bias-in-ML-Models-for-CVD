{
 "cells": [
  {
   "cell_type": "code",
   "execution_count": 2,
   "id": "41db13c9",
   "metadata": {},
   "outputs": [],
   "source": [
    "import pandas as pd\n",
    "import seaborn as sns\n",
    "import numpy as np\n",
    "import matplotlib.pyplot as plt\n",
    "%matplotlib inline\n",
    "from os import path\n",
    "\n",
    "import src.lib.utility_classfier_tuning as uclf\n",
    "import src.lib.optimal_threhold_related as thres\n",
    "import src.lib.fairness_tests as fair\n",
    "\n",
    "from sklearn.metrics import balanced_accuracy_score, roc_auc_score\n",
    "import sklearn.preprocessing\n",
    "from sklearn import preprocessing"
   ]
  },
  {
   "cell_type": "code",
   "execution_count": 3,
   "id": "79cbe261",
   "metadata": {},
   "outputs": [],
   "source": [
    "result_path='/Users/lifuchen/Desktop/Evaluating-and-Mitigating-Bias-in-ML-Models-for-CVD/external validation/'\n",
    "filename = \"gbt.csv\"\n",
    "gbt= pd.read_csv(path.join(result_path, filename))"
   ]
  },
  {
   "cell_type": "code",
   "execution_count": 4,
   "id": "4940b456",
   "metadata": {},
   "outputs": [
    {
     "data": {
      "text/html": [
       "<div>\n",
       "<style scoped>\n",
       "    .dataframe tbody tr th:only-of-type {\n",
       "        vertical-align: middle;\n",
       "    }\n",
       "\n",
       "    .dataframe tbody tr th {\n",
       "        vertical-align: top;\n",
       "    }\n",
       "\n",
       "    .dataframe thead th {\n",
       "        text-align: right;\n",
       "    }\n",
       "</style>\n",
       "<table border=\"1\" class=\"dataframe\">\n",
       "  <thead>\n",
       "    <tr style=\"text-align: right;\">\n",
       "      <th></th>\n",
       "      <th>predict_score</th>\n",
       "      <th>true_label</th>\n",
       "      <th>GENDER</th>\n",
       "      <th>Race_B</th>\n",
       "      <th>Race_W</th>\n",
       "    </tr>\n",
       "  </thead>\n",
       "  <tbody>\n",
       "    <tr>\n",
       "      <th>0</th>\n",
       "      <td>0.377786</td>\n",
       "      <td>0</td>\n",
       "      <td>0</td>\n",
       "      <td>0</td>\n",
       "      <td>1</td>\n",
       "    </tr>\n",
       "    <tr>\n",
       "      <th>1</th>\n",
       "      <td>0.103275</td>\n",
       "      <td>0</td>\n",
       "      <td>1</td>\n",
       "      <td>1</td>\n",
       "      <td>0</td>\n",
       "    </tr>\n",
       "    <tr>\n",
       "      <th>2</th>\n",
       "      <td>0.367792</td>\n",
       "      <td>0</td>\n",
       "      <td>1</td>\n",
       "      <td>0</td>\n",
       "      <td>1</td>\n",
       "    </tr>\n",
       "    <tr>\n",
       "      <th>3</th>\n",
       "      <td>0.384708</td>\n",
       "      <td>0</td>\n",
       "      <td>1</td>\n",
       "      <td>0</td>\n",
       "      <td>1</td>\n",
       "    </tr>\n",
       "    <tr>\n",
       "      <th>4</th>\n",
       "      <td>0.501749</td>\n",
       "      <td>0</td>\n",
       "      <td>1</td>\n",
       "      <td>0</td>\n",
       "      <td>1</td>\n",
       "    </tr>\n",
       "    <tr>\n",
       "      <th>...</th>\n",
       "      <td>...</td>\n",
       "      <td>...</td>\n",
       "      <td>...</td>\n",
       "      <td>...</td>\n",
       "      <td>...</td>\n",
       "    </tr>\n",
       "    <tr>\n",
       "      <th>8857</th>\n",
       "      <td>0.595026</td>\n",
       "      <td>1</td>\n",
       "      <td>0</td>\n",
       "      <td>0</td>\n",
       "      <td>1</td>\n",
       "    </tr>\n",
       "    <tr>\n",
       "      <th>8858</th>\n",
       "      <td>0.641625</td>\n",
       "      <td>1</td>\n",
       "      <td>1</td>\n",
       "      <td>0</td>\n",
       "      <td>1</td>\n",
       "    </tr>\n",
       "    <tr>\n",
       "      <th>8859</th>\n",
       "      <td>0.389285</td>\n",
       "      <td>1</td>\n",
       "      <td>1</td>\n",
       "      <td>1</td>\n",
       "      <td>0</td>\n",
       "    </tr>\n",
       "    <tr>\n",
       "      <th>8860</th>\n",
       "      <td>0.212954</td>\n",
       "      <td>1</td>\n",
       "      <td>0</td>\n",
       "      <td>1</td>\n",
       "      <td>0</td>\n",
       "    </tr>\n",
       "    <tr>\n",
       "      <th>8861</th>\n",
       "      <td>0.455838</td>\n",
       "      <td>1</td>\n",
       "      <td>0</td>\n",
       "      <td>0</td>\n",
       "      <td>1</td>\n",
       "    </tr>\n",
       "  </tbody>\n",
       "</table>\n",
       "<p>8862 rows × 5 columns</p>\n",
       "</div>"
      ],
      "text/plain": [
       "      predict_score  true_label  GENDER  Race_B  Race_W\n",
       "0          0.377786           0       0       0       1\n",
       "1          0.103275           0       1       1       0\n",
       "2          0.367792           0       1       0       1\n",
       "3          0.384708           0       1       0       1\n",
       "4          0.501749           0       1       0       1\n",
       "...             ...         ...     ...     ...     ...\n",
       "8857       0.595026           1       0       0       1\n",
       "8858       0.641625           1       1       0       1\n",
       "8859       0.389285           1       1       1       0\n",
       "8860       0.212954           1       0       1       0\n",
       "8861       0.455838           1       0       0       1\n",
       "\n",
       "[8862 rows x 5 columns]"
      ]
     },
     "execution_count": 4,
     "metadata": {},
     "output_type": "execute_result"
    }
   ],
   "source": [
    "gbt"
   ]
  },
  {
   "cell_type": "code",
   "execution_count": 5,
   "id": "f7cfd440",
   "metadata": {},
   "outputs": [],
   "source": [
    "y_test = gbt['true_label']\n",
    "y_score = gbt['predict_score']"
   ]
  },
  {
   "cell_type": "code",
   "execution_count": 6,
   "id": "3c4eac1f",
   "metadata": {},
   "outputs": [
    {
     "name": "stdout",
     "output_type": "stream",
     "text": [
      "3052 3052 5810 5810\n"
     ]
    }
   ],
   "source": [
    "y_score_male = gbt['predict_score'][gbt['GENDER']==0]\n",
    "y_test_male = gbt['true_label'][gbt['GENDER']==0]\n",
    "y_score_female = gbt['predict_score'][gbt['GENDER']==1]\n",
    "y_test_female = gbt['true_label'][gbt['GENDER']==1]\n",
    "print(len(y_score_male), len(y_test_male), len(y_score_female), len(y_test_female))"
   ]
  },
  {
   "cell_type": "code",
   "execution_count": 7,
   "id": "37017231",
   "metadata": {},
   "outputs": [
    {
     "name": "stdout",
     "output_type": "stream",
     "text": [
      "7583 1279\n"
     ]
    }
   ],
   "source": [
    "y_score_white = gbt['predict_score'][gbt['Race_W']==1]\n",
    "y_test_white = gbt['true_label'][gbt['Race_W']==1]\n",
    "y_score_black = gbt['predict_score'][gbt['Race_W']==0]\n",
    "y_test_black = gbt['true_label'][gbt['Race_W']==0]\n",
    "print(len(y_score_white), len(y_score_black))"
   ]
  },
  {
   "cell_type": "code",
   "execution_count": 8,
   "id": "66e08609",
   "metadata": {},
   "outputs": [],
   "source": [
    "def get_result (records, y_test, y_score, y_test_1, y_score_1, y_test_2, y_score_2):    \n",
    "    threshold = 0.1\n",
    "    ba = thres.calculate_balanced_accuracy(y_test, y_score, threshold)\n",
    "    auroc = roc_auc_score(y_test, y_score)\n",
    "    precision, recall, tpr, tnr, pd_overall = thres.calculate_precision_metrics(y_test, y_score,threshold)\n",
    "    \n",
    "    ba_male = thres.calculate_balanced_accuracy(y_test_1, y_score_1, threshold)\n",
    "    precision_male, recall_male, tpr_male, tnr_male, pd_male = thres.calculate_precision_metrics(y_test_1, y_score_1,threshold)\n",
    "    \n",
    "    ba_female = thres.calculate_balanced_accuracy (y_test_2, y_score_2, threshold)\n",
    "    precision_female, recall_female, tpr_female, tnr_female, pd_female = thres.calculate_precision_metrics(y_test_2, y_score_2,threshold)\n",
    "\n",
    "    eod = fair.get_EOD(y_test_1, y_score_1,threshold, y_test_2, y_score_2, threshold)\n",
    "    sp = fair.get_SP(y_test_1, y_score_1,threshold, y_test_2, y_score_2, threshold)\n",
    "\n",
    "    records.append({\n",
    "        'auroc': auroc,\n",
    "        'overall ba test': ba,\n",
    "        'male ba test': ba_male,\n",
    "        'female ba test': ba_female,\n",
    "        'overall precision':precision,\n",
    "        'overall recall':recall,\n",
    "        'overall tpr':tpr,\n",
    "        'overall tnr':tnr,\n",
    "        'overall pd':pd_overall,\n",
    "        'male precision':precision_male,\n",
    "        'male recall':recall_male,\n",
    "        'male tpr':tpr_male,\n",
    "        'male tnr':tnr_male,\n",
    "        'male pd':pd_male,\n",
    "        'female precision':precision_female,\n",
    "        'female recall':recall_female,\n",
    "        'female tpr':tpr_female,\n",
    "        'female tnr':tnr_female,\n",
    "        'female pd':pd_female,\n",
    "        'eod': eod,\n",
    "        'di': sp,\n",
    "        })"
   ]
  },
  {
   "cell_type": "code",
   "execution_count": 9,
   "id": "cbc3c451",
   "metadata": {},
   "outputs": [
    {
     "name": "stdout",
     "output_type": "stream",
     "text": [
      "True positive rate of class 1 is  0.997\n",
      "True positive rate of class 2 is  0.985\n",
      "Positive prediction rate of class 1 is  0.977\n",
      "Positive prediction rate of class 2 is  0.963\n"
     ]
    }
   ],
   "source": [
    "records_gbt = []\n",
    "get_result(records_gbt, y_test, y_score, y_test_male, y_score_male, y_test_female, y_score_female)"
   ]
  },
  {
   "cell_type": "code",
   "execution_count": 10,
   "id": "32976fa9",
   "metadata": {},
   "outputs": [
    {
     "data": {
      "text/plain": [
       "[{'auroc': 0.6903449826345819,\n",
       "  'overall ba test': 0.5121173406102704,\n",
       "  'male ba test': 0.5109480122324159,\n",
       "  'female ba test': 0.5120870257934457,\n",
       "  'overall precision': 0.5061349693251533,\n",
       "  'overall recall': 0.99,\n",
       "  'overall tpr': 0.99,\n",
       "  'overall tnr': 0.034,\n",
       "  'overall pd': 0.968,\n",
       "  'male precision': 0.505578093306288,\n",
       "  'male recall': 0.997,\n",
       "  'male tpr': 0.997,\n",
       "  'male tnr': 0.025,\n",
       "  'male pd': 0.977,\n",
       "  'female precision': 0.5061664953751285,\n",
       "  'female recall': 0.985,\n",
       "  'female tpr': 0.985,\n",
       "  'female tnr': 0.039,\n",
       "  'female pd': 0.963,\n",
       "  'eod': 0.01200000000000001,\n",
       "  'di': 1.0145379023883696}]"
      ]
     },
     "execution_count": 10,
     "metadata": {},
     "output_type": "execute_result"
    }
   ],
   "source": [
    "records_gbt"
   ]
  },
  {
   "cell_type": "code",
   "execution_count": 11,
   "id": "e851260e",
   "metadata": {},
   "outputs": [
    {
     "name": "stdout",
     "output_type": "stream",
     "text": [
      "True positive rate of class 1 is  0.99\n",
      "True positive rate of class 2 is  0.99\n",
      "Positive prediction rate of class 1 is  0.97\n",
      "Positive prediction rate of class 2 is  0.955\n"
     ]
    },
    {
     "data": {
      "text/plain": [
       "[{'auroc': 0.6903449826345819,\n",
       "  'overall ba test': 0.5121173406102704,\n",
       "  'male ba test': 0.5108558211806298,\n",
       "  'female ba test': 0.5203397543560055,\n",
       "  'overall precision': 0.5061349693251533,\n",
       "  'overall recall': 0.99,\n",
       "  'overall tpr': 0.99,\n",
       "  'overall tnr': 0.034,\n",
       "  'overall pd': 0.968,\n",
       "  'male precision': 0.5056179775280899,\n",
       "  'male recall': 0.99,\n",
       "  'male tpr': 0.99,\n",
       "  'male tnr': 0.032,\n",
       "  'male pd': 0.97,\n",
       "  'female precision': 0.5105724600309438,\n",
       "  'female recall': 0.99,\n",
       "  'female tpr': 0.99,\n",
       "  'female tnr': 0.051,\n",
       "  'female pd': 0.955,\n",
       "  'eod': 0.0,\n",
       "  'di': 1.0157068062827226}]"
      ]
     },
     "execution_count": 11,
     "metadata": {},
     "output_type": "execute_result"
    }
   ],
   "source": [
    "records_gbt_race = []\n",
    "get_result(records_gbt_race, y_test, y_score, y_test_white, y_score_white, y_test_black, y_score_black)\n",
    "records_gbt_race"
   ]
  }
 ],
 "metadata": {
  "kernelspec": {
   "display_name": "PyCharm (CVDPrediction-master)",
   "language": "python",
   "name": "pycharm-6defbc71"
  }
 },
 "nbformat": 4,
 "nbformat_minor": 5
}
