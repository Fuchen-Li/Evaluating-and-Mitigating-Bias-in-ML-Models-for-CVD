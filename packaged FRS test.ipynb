{
 "cells": [
  {
   "cell_type": "code",
   "execution_count": 1,
   "metadata": {},
   "outputs": [],
   "source": [
    "import logging\n",
    "import time\n",
    "from os import path\n",
    "\n",
    "import numpy as np\n",
    "import pandas as pd\n",
    "from sklearn.metrics import accuracy_score, average_precision_score, precision_score, recall_score, roc_auc_score\n",
    "from sklearn.metrics import confusion_matrix,ConfusionMatrixDisplay,balanced_accuracy_score\n",
    "\n",
    "from sklearn.model_selection import train_test_split, RepeatedStratifiedKFold\n",
    "\n",
    "from definitions import DATA_PATH\n",
    "from definitions import LOGS_PATH\n",
    "import src.framingham.aha_frs_cvd as aha_frs_cvd\n",
    "import src.lib.optimal_threhold_related as thres\n",
    "import src.lib.fairness_tests as fair"
   ]
  },
  {
   "cell_type": "code",
   "execution_count": 2,
   "metadata": {},
   "outputs": [],
   "source": [
    "time_stamp = time.strftime('%Y-%m-%d-%H-%M-%S', time.localtime())\n",
    "\n",
    "log_files = path.join(LOGS_PATH, 'log_benchmark.txt')\n",
    "logging.basicConfig(filename=log_files+str(time_stamp), level=logging.DEBUG,\n",
    "                    format='%(asctime)s - %(levelname)s - %(message)s')\n",
    "logging.debug('This is a log message.')"
   ]
  },
  {
   "cell_type": "code",
   "execution_count": 3,
   "metadata": {},
   "outputs": [],
   "source": [
    "#Please identify the framingham features\n",
    "#framing_features= ['Gender','AGE','MEDIAN_VALUE_Chol','MEDIAN_VALUE_HDL-C','MEDIAN_SYSTOLIC','Smoking','T2DM_CNT','HTN_DRUG_CNT','Race']\n",
    "framing_features = ['Gender', 'AGE', 'RECENT_VALUE_Chol', 'RECENT_VALUE_HDL-C', 'RECENT_SYSTOLIC', 'Smoking',\n",
    "                    'T2DM_CNT', 'HTN_DRUG_CNT', 'Race']"
   ]
  },
  {
   "cell_type": "code",
   "execution_count": 4,
   "metadata": {},
   "outputs": [],
   "source": [
    "def compute_ind_frs(df):\n",
    "    score_list = []\n",
    "    for index, row in df.iterrows():\n",
    "        X = row[framing_features].values\n",
    "        score = aha_frs_cvd.frs(*X)\n",
    "        score_list.append(score)\n",
    "    df['frs'] = pd.Series(score_list)\n",
    "    return df"
   ]
  },
  {
   "cell_type": "code",
   "execution_count": 5,
   "metadata": {},
   "outputs": [],
   "source": [
    "def predict_by_framingham(df: object, reset_index: object = True) -> object:\n",
    "    # if the input df is cross validation split, need to reset index\n",
    "    if reset_index:\n",
    "        df.reset_index(drop=True)\n",
    "    y = df.Class.values\n",
    "    df = compute_ind_frs(df)\n",
    "    print(\"after compute\", df.shape)\n",
    "    x = df[(df['Gender'] == 'F') & (df['Race'] == 'W')]['frs']\n",
    "\n",
    "    mean_frs_women_w = -29.18\n",
    "    mean_frs_women_b = 86.61\n",
    "    mean_frs_men_w = 61.18\n",
    "    mean_frs_men_b = 19.54\n",
    "    risk_list = []\n",
    "    for index, row in df.iterrows():\n",
    "        gender = row['Gender']\n",
    "        race = row['Race']\n",
    "        risk = 0\n",
    "\n",
    "        if gender == 'F':\n",
    "            if race == 'W':\n",
    "                risk = aha_frs_cvd.estimiate_risk(ind_frs=row['frs'], mean_frs=mean_frs_women_w, gender='F', race='W')\n",
    "            elif race == 'B':\n",
    "                risk = aha_frs_cvd.estimiate_risk(ind_frs=row['frs'], mean_frs=mean_frs_women_b, gender='F', race='B')\n",
    "            else:\n",
    "                print('1',race)\n",
    "        elif gender == 'M':\n",
    "            if race == 'W':\n",
    "                risk = aha_frs_cvd.estimiate_risk(ind_frs=row['frs'], mean_frs=mean_frs_men_w, gender='M', race='W')\n",
    "            elif race == 'B':\n",
    "                risk = aha_frs_cvd.estimiate_risk(ind_frs=row['frs'], mean_frs=mean_frs_men_b, gender='M', race='B')\n",
    "            else:\n",
    "                print('2', race)\n",
    "        else:\n",
    "            print('3', gender)\n",
    "        # if np.isnan(risk):\n",
    "        #     print(index)\n",
    "\n",
    "        risk_list.append(risk)\n",
    "    df['risk'] = pd.Series(risk_list)\n",
    "    print(df.risk.unique())\n",
    "    print(len(risk_list))\n",
    "    df.loc[df['risk'] > 0.075, 'predict'] = 1\n",
    "    df.loc[df['risk'] <= 0.075, 'predict'] = 0\n",
    "        \n",
    "    cm = confusion_matrix(y,df['predict'].values)\n",
    "    cm_display = ConfusionMatrixDisplay(cm).plot()\n",
    "    \n",
    "    print(df.predict.unique())\n",
    "    #save the interim output\n",
    "    DATA_PATH='/Users/lifuchen/Desktop/research'\n",
    "    df.to_csv(path.join(DATA_PATH, 'framingham_result.csv'))\n",
    "\n",
    "    ba = balanced_accuracy_score(y, df['predict'].values)\n",
    "    print('accuracy', accuracy_score(y, df['predict'].values))\n",
    "    print('roc AUC', roc_auc_score(y, df['risk'].values))\n",
    "    print('precision', precision_score(y, df['predict'].values))\n",
    "    print('recall', recall_score(y, df['predict'].values))\n",
    "    print(\"ap\", average_precision_score(y, df['risk'].values))\n",
    "    \n",
    "    return ba, accuracy_score(y, df['predict'].values), roc_auc_score(y, df['risk'].values), \\\n",
    "           precision_score(y, df['predict'].values), recall_score(y, df['predict'].values), \\\n",
    "           average_precision_score(y, df['risk'].values)"
   ]
  },
  {
   "cell_type": "code",
   "execution_count": 7,
   "metadata": {
    "pycharm": {
     "name": "#%%\n"
    }
   },
   "outputs": [],
   "source": [
    "def framingham_result(df, records):\n",
    "    auroc = roc_auc_score(df.Class.values, df['risk'].values)\n",
    "    ba = balanced_accuracy_score(df.Class.values, df['predict'].values)\n",
    "    grouped = df.groupby(df.Race)\n",
    "    df2_white = grouped.get_group(\"W\")\n",
    "    df2_black = grouped.get_group(\"B\")\n",
    "    ba_white = balanced_accuracy_score(df2_white['Class'].values,df2_white['predict'].values)\n",
    "    ba_black = balanced_accuracy_score(df2_black['Class'].values,df2_black['predict'].values)\n",
    "    eod_race = fair.get_EOD(df2_white['Class'].values,df2_white['predict'].values, 1, df2_black['Class'].values,df2_black['predict'].values, 1)\n",
    "    di_race = fair.get_SP(df2_white['Class'].values,df2_white['predict'].values, 1, df2_black['Class'].values,df2_black['predict'].values, 1)\n",
    "\n",
    "    grouped_2 = df.groupby(df.Gender)\n",
    "    df2_male = grouped_2.get_group(\"M\")\n",
    "    df2_female = grouped_2.get_group(\"F\")\n",
    "    ba_male = balanced_accuracy_score(df2_male['Class'].values,df2_male['predict'].values)\n",
    "    ba_female = balanced_accuracy_score(df2_female['Class'].values,df2_female['predict'].values)\n",
    "    eod_gender = fair.get_EOD(df2_male['Class'].values,df2_male['predict'].values, 1, df2_female['Class'].values,df2_female['predict'].values, 1)\n",
    "    di_gender = fair.get_SP(df2_male['Class'].values,df2_male['predict'].values, 1, df2_female['Class'].values,df2_female['predict'].values, 1)\n",
    "\n",
    "    records.append({\n",
    "        'auroc': auroc,\n",
    "        'ba': ba,\n",
    "        'ba_white': ba_white,\n",
    "        'ba_black': ba_black,\n",
    "        'eod_race': eod_race,\n",
    "        'di_race': di_race,\n",
    "        'ba_male': ba_male,\n",
    "        'ba_female': ba_female,\n",
    "        'eod_gender': eod_gender,\n",
    "        'di_gender': di_gender,\n",
    "    })"
   ]
  },
  {
   "cell_type": "code",
   "execution_count": 8,
   "metadata": {
    "pycharm": {
     "name": "#%%\n"
    },
    "scrolled": true
   },
   "outputs": [
    {
     "name": "stderr",
     "output_type": "stream",
     "text": [
      "<ipython-input-8-0a1c7a164ac0>:13: SettingWithCopyWarning: \n",
      "A value is trying to be set on a copy of a slice from a DataFrame.\n",
      "Try using .loc[row_indexer,col_indexer] = value instead\n",
      "\n",
      "See the caveats in the documentation: https://pandas.pydata.org/pandas-docs/stable/user_guide/indexing.html#returning-a-view-versus-a-copy\n",
      "  df_test['predict'] = y_test\n"
     ]
    },
    {
     "name": "stdout",
     "output_type": "stream",
     "text": [
      "True positive rate of class 1 is  0.514\n",
      "True positive rate of class 2 is  0.551\n",
      "Positive prediction rate of class 1 is  0.246\n",
      "Positive prediction rate of class 2 is  0.276\n",
      "True positive rate of class 1 is  0.651\n",
      "True positive rate of class 2 is  0.419\n",
      "Positive prediction rate of class 1 is  0.385\n",
      "Positive prediction rate of class 2 is  0.177\n"
     ]
    },
    {
     "name": "stderr",
     "output_type": "stream",
     "text": [
      "<ipython-input-8-0a1c7a164ac0>:13: SettingWithCopyWarning: \n",
      "A value is trying to be set on a copy of a slice from a DataFrame.\n",
      "Try using .loc[row_indexer,col_indexer] = value instead\n",
      "\n",
      "See the caveats in the documentation: https://pandas.pydata.org/pandas-docs/stable/user_guide/indexing.html#returning-a-view-versus-a-copy\n",
      "  df_test['predict'] = y_test\n"
     ]
    },
    {
     "name": "stdout",
     "output_type": "stream",
     "text": [
      "True positive rate of class 1 is  0.508\n",
      "True positive rate of class 2 is  0.523\n",
      "Positive prediction rate of class 1 is  0.239\n",
      "Positive prediction rate of class 2 is  0.256\n",
      "True positive rate of class 1 is  0.622\n",
      "True positive rate of class 2 is  0.426\n",
      "Positive prediction rate of class 1 is  0.37\n",
      "Positive prediction rate of class 2 is  0.17\n"
     ]
    },
    {
     "name": "stderr",
     "output_type": "stream",
     "text": [
      "<ipython-input-8-0a1c7a164ac0>:13: SettingWithCopyWarning: \n",
      "A value is trying to be set on a copy of a slice from a DataFrame.\n",
      "Try using .loc[row_indexer,col_indexer] = value instead\n",
      "\n",
      "See the caveats in the documentation: https://pandas.pydata.org/pandas-docs/stable/user_guide/indexing.html#returning-a-view-versus-a-copy\n",
      "  df_test['predict'] = y_test\n"
     ]
    },
    {
     "name": "stdout",
     "output_type": "stream",
     "text": [
      "True positive rate of class 1 is  0.535\n",
      "True positive rate of class 2 is  0.566\n",
      "Positive prediction rate of class 1 is  0.241\n",
      "Positive prediction rate of class 2 is  0.275\n",
      "True positive rate of class 1 is  0.666\n",
      "True positive rate of class 2 is  0.441\n",
      "Positive prediction rate of class 1 is  0.374\n",
      "Positive prediction rate of class 2 is  0.176\n",
      "True positive rate of class 1 is  0.525\n"
     ]
    },
    {
     "name": "stderr",
     "output_type": "stream",
     "text": [
      "<ipython-input-8-0a1c7a164ac0>:13: SettingWithCopyWarning: \n",
      "A value is trying to be set on a copy of a slice from a DataFrame.\n",
      "Try using .loc[row_indexer,col_indexer] = value instead\n",
      "\n",
      "See the caveats in the documentation: https://pandas.pydata.org/pandas-docs/stable/user_guide/indexing.html#returning-a-view-versus-a-copy\n",
      "  df_test['predict'] = y_test\n"
     ]
    },
    {
     "name": "stdout",
     "output_type": "stream",
     "text": [
      "True positive rate of class 2 is  0.61\n",
      "Positive prediction rate of class 1 is  0.242\n",
      "Positive prediction rate of class 2 is  0.255\n",
      "True positive rate of class 1 is  0.677\n",
      "True positive rate of class 2 is  0.427\n",
      "Positive prediction rate of class 1 is  0.377\n",
      "Positive prediction rate of class 2 is  0.17\n",
      "True positive rate of class 1 is  0.514\n"
     ]
    },
    {
     "name": "stderr",
     "output_type": "stream",
     "text": [
      "<ipython-input-8-0a1c7a164ac0>:13: SettingWithCopyWarning: \n",
      "A value is trying to be set on a copy of a slice from a DataFrame.\n",
      "Try using .loc[row_indexer,col_indexer] = value instead\n",
      "\n",
      "See the caveats in the documentation: https://pandas.pydata.org/pandas-docs/stable/user_guide/indexing.html#returning-a-view-versus-a-copy\n",
      "  df_test['predict'] = y_test\n"
     ]
    },
    {
     "name": "stdout",
     "output_type": "stream",
     "text": [
      "True positive rate of class 2 is  0.58\n",
      "Positive prediction rate of class 1 is  0.241\n",
      "Positive prediction rate of class 2 is  0.269\n",
      "True positive rate of class 1 is  0.658\n",
      "True positive rate of class 2 is  0.422\n",
      "Positive prediction rate of class 1 is  0.371\n",
      "Positive prediction rate of class 2 is  0.176\n",
      "True positive rate of class 1 is  0.515\n"
     ]
    },
    {
     "name": "stderr",
     "output_type": "stream",
     "text": [
      "<ipython-input-8-0a1c7a164ac0>:13: SettingWithCopyWarning: \n",
      "A value is trying to be set on a copy of a slice from a DataFrame.\n",
      "Try using .loc[row_indexer,col_indexer] = value instead\n",
      "\n",
      "See the caveats in the documentation: https://pandas.pydata.org/pandas-docs/stable/user_guide/indexing.html#returning-a-view-versus-a-copy\n",
      "  df_test['predict'] = y_test\n"
     ]
    },
    {
     "name": "stdout",
     "output_type": "stream",
     "text": [
      "True positive rate of class 2 is  0.581\n",
      "Positive prediction rate of class 1 is  0.239\n",
      "Positive prediction rate of class 2 is  0.264\n",
      "True positive rate of class 1 is  0.649\n",
      "True positive rate of class 2 is  0.429\n",
      "Positive prediction rate of class 1 is  0.376\n",
      "Positive prediction rate of class 2 is  0.169\n",
      "True positive rate of class 1 is  0.517\n"
     ]
    },
    {
     "name": "stderr",
     "output_type": "stream",
     "text": [
      "<ipython-input-8-0a1c7a164ac0>:13: SettingWithCopyWarning: \n",
      "A value is trying to be set on a copy of a slice from a DataFrame.\n",
      "Try using .loc[row_indexer,col_indexer] = value instead\n",
      "\n",
      "See the caveats in the documentation: https://pandas.pydata.org/pandas-docs/stable/user_guide/indexing.html#returning-a-view-versus-a-copy\n",
      "  df_test['predict'] = y_test\n"
     ]
    },
    {
     "name": "stdout",
     "output_type": "stream",
     "text": [
      "True positive rate of class 2 is  0.577\n",
      "Positive prediction rate of class 1 is  0.241\n",
      "Positive prediction rate of class 2 is  0.272\n",
      "True positive rate of class 1 is  0.674\n",
      "True positive rate of class 2 is  0.407\n",
      "Positive prediction rate of class 1 is  0.374\n",
      "Positive prediction rate of class 2 is  0.173\n"
     ]
    },
    {
     "name": "stderr",
     "output_type": "stream",
     "text": [
      "<ipython-input-8-0a1c7a164ac0>:13: SettingWithCopyWarning: \n",
      "A value is trying to be set on a copy of a slice from a DataFrame.\n",
      "Try using .loc[row_indexer,col_indexer] = value instead\n",
      "\n",
      "See the caveats in the documentation: https://pandas.pydata.org/pandas-docs/stable/user_guide/indexing.html#returning-a-view-versus-a-copy\n",
      "  df_test['predict'] = y_test\n"
     ]
    },
    {
     "name": "stdout",
     "output_type": "stream",
     "text": [
      "True positive rate of class 1 is  0.519\n",
      "True positive rate of class 2 is  0.552\n",
      "Positive prediction rate of class 1 is  0.24\n",
      "Positive prediction rate of class 2 is  0.272\n",
      "True positive rate of class 1 is  0.674\n",
      "True positive rate of class 2 is  0.404\n",
      "Positive prediction rate of class 1 is  0.374\n",
      "Positive prediction rate of class 2 is  0.174\n"
     ]
    },
    {
     "name": "stderr",
     "output_type": "stream",
     "text": [
      "<ipython-input-8-0a1c7a164ac0>:13: SettingWithCopyWarning: \n",
      "A value is trying to be set on a copy of a slice from a DataFrame.\n",
      "Try using .loc[row_indexer,col_indexer] = value instead\n",
      "\n",
      "See the caveats in the documentation: https://pandas.pydata.org/pandas-docs/stable/user_guide/indexing.html#returning-a-view-versus-a-copy\n",
      "  df_test['predict'] = y_test\n"
     ]
    },
    {
     "name": "stdout",
     "output_type": "stream",
     "text": [
      "True positive rate of class 1 is  0.512\n",
      "True positive rate of class 2 is  0.588\n",
      "Positive prediction rate of class 1 is  0.239\n",
      "Positive prediction rate of class 2 is  0.274\n",
      "True positive rate of class 1 is  0.646\n",
      "True positive rate of class 2 is  0.427\n",
      "Positive prediction rate of class 1 is  0.372\n",
      "Positive prediction rate of class 2 is  0.172\n",
      "True positive rate of class 1 is  0.518\n"
     ]
    },
    {
     "name": "stderr",
     "output_type": "stream",
     "text": [
      "<ipython-input-8-0a1c7a164ac0>:13: SettingWithCopyWarning: \n",
      "A value is trying to be set on a copy of a slice from a DataFrame.\n",
      "Try using .loc[row_indexer,col_indexer] = value instead\n",
      "\n",
      "See the caveats in the documentation: https://pandas.pydata.org/pandas-docs/stable/user_guide/indexing.html#returning-a-view-versus-a-copy\n",
      "  df_test['predict'] = y_test\n"
     ]
    },
    {
     "name": "stdout",
     "output_type": "stream",
     "text": [
      "True positive rate of class 2 is  0.55\n",
      "Positive prediction rate of class 1 is  0.242\n",
      "Positive prediction rate of class 2 is  0.271\n",
      "True positive rate of class 1 is  0.646\n",
      "True positive rate of class 2 is  0.429\n",
      "Positive prediction rate of class 1 is  0.375\n",
      "Positive prediction rate of class 2 is  0.174\n"
     ]
    }
   ],
   "source": [
    "data_path='/Users/lifuchen/Desktop/research'\n",
    "# df = pd.read_csv(path.join(data_path, 'framingham_data.csv'))\n",
    "# ba, acc, roc, precision, recall, ap = predict_by_framingham(df)\n",
    "\n",
    "df2 = pd.read_csv(path.join(data_path, 'framingham_result.csv'))\n",
    "\n",
    "y = df2.predict.values\n",
    "X = df2.drop(['GRID','predict'], axis=1)\n",
    "\n",
    "records = []\n",
    "for random_state in range(10):\n",
    "    df_train_val, df_test, y_train_val, y_test = train_test_split(X, y, test_size = 0.2, random_state = random_state)\n",
    "    df_test['predict'] = y_test\n",
    "    framingham_result(df_test, records)"
   ]
  },
  {
   "cell_type": "code",
   "execution_count": 9,
   "metadata": {},
   "outputs": [],
   "source": [
    "result_table = pd.DataFrame(records)\n",
    "records.append({\n",
    "    'auroc': result_table[\"auroc\"].mean(),\n",
    "    'ba': result_table[\"ba\"].mean(),\n",
    "    'ba_white': result_table[\"ba_white\"].mean(),\n",
    "    'ba_black': result_table[\"ba_black\"].mean(),\n",
    "    'eod_race': result_table[\"eod_race\"].mean(),\n",
    "    'di_race': result_table[\"di_race\"].mean(),\n",
    "    'ba_male': result_table[\"ba_male\"].mean(),\n",
    "    'ba_female': result_table[\"ba_female\"].mean(),\n",
    "    'eod_gender': result_table[\"eod_gender\"].mean(),\n",
    "    'di_gender': result_table[\"di_gender\"].mean(),\n",
    "    })\n",
    "records.append({\n",
    "    'auroc': result_table[\"auroc\"].std(),\n",
    "    'ba': result_table[\"ba\"].std(),\n",
    "    'ba_white': result_table[\"ba_white\"].std(),\n",
    "    'ba_black': result_table[\"ba_black\"].std(),\n",
    "    'eod_race': result_table[\"eod_race\"].std(),\n",
    "    'di_race': result_table[\"di_race\"].std(),\n",
    "    'ba_male': result_table[\"ba_male\"].std(),\n",
    "    'ba_female': result_table[\"ba_female\"].std(),\n",
    "    'eod_gender': result_table[\"eod_gender\"].std(),\n",
    "    'di_gender': result_table[\"di_gender\"].std(),  \n",
    "    })"
   ]
  },
  {
   "cell_type": "code",
   "execution_count": 10,
   "metadata": {},
   "outputs": [],
   "source": [
    "result_table = pd.DataFrame(records)\n",
    "result_table.to_csv(path.join(data_path,'framingham_result_summary.csv'), index=False)"
   ]
  },
  {
   "cell_type": "code",
   "execution_count": null,
   "metadata": {},
   "outputs": [],
   "source": []
  }
 ],
 "metadata": {
  "kernelspec": {
   "display_name": "Python 3",
   "language": "python",
   "name": "python3"
  },
  "language_info": {
   "codemirror_mode": {
    "name": "ipython",
    "version": 3
   },
   "file_extension": ".py",
   "mimetype": "text/x-python",
   "name": "python",
   "nbconvert_exporter": "python",
   "pygments_lexer": "ipython3",
   "version": "3.8.3"
  }
 },
 "nbformat": 4,
 "nbformat_minor": 4
}
