{
 "cells": [
  {
   "cell_type": "code",
   "execution_count": 309,
   "metadata": {},
   "outputs": [],
   "source": [
    "import pandas as pd\n",
    "import seaborn as sns\n",
    "import numpy as np\n",
    "import matplotlib.pyplot as plt\n",
    "%matplotlib inline\n",
    "from os import path\n",
    "import src.lib.utility_classfier as uclf\n",
    "import src.lib.optimal_threhold_example as thres"
   ]
  },
  {
   "cell_type": "code",
   "execution_count": 310,
   "metadata": {},
   "outputs": [],
   "source": [
    "data_path='/Users/lifuchen/Desktop/research/data.csv'\n",
    "df = pd.read_csv(data_path)"
   ]
  },
  {
   "cell_type": "code",
   "execution_count": 311,
   "metadata": {},
   "outputs": [
    {
     "data": {
      "text/plain": [
       "(109490, 87)"
      ]
     },
     "execution_count": 311,
     "metadata": {},
     "output_type": "execute_result"
    }
   ],
   "source": [
    "y = df.Class.values\n",
    "X = df.drop(['GRID','Class'], axis=1)\n",
    "X.shape"
   ]
  },
  {
   "cell_type": "code",
   "execution_count": 312,
   "metadata": {},
   "outputs": [
    {
     "name": "stdout",
     "output_type": "stream",
     "text": [
      "df_train num 87592\n",
      "df_test num 21898\n"
     ]
    }
   ],
   "source": [
    "from sklearn.model_selection import train_test_split\n",
    "df_train, df_test, y_train, y_test = train_test_split(X, y, test_size=0.2, random_state=42)\n",
    "print('df_train num',df_train.shape[0])\n",
    "print('df_test num',df_test.shape[0])"
   ]
  },
  {
   "cell_type": "code",
   "execution_count": 313,
   "metadata": {},
   "outputs": [
    {
     "data": {
      "text/plain": [
       "(18907,)"
      ]
     },
     "execution_count": 313,
     "metadata": {},
     "output_type": "execute_result"
    }
   ],
   "source": [
    "y_test_male = y_test[df_test['Race_W']==1]\n",
    "y_test_male.shape"
   ]
  },
  {
   "cell_type": "code",
   "execution_count": 314,
   "metadata": {},
   "outputs": [
    {
     "data": {
      "text/plain": [
       "(2991,)"
      ]
     },
     "execution_count": 314,
     "metadata": {},
     "output_type": "execute_result"
    }
   ],
   "source": [
    "y_test_female = y_test[df_test['Race_B']==1]\n",
    "y_test_female.shape"
   ]
  },
  {
   "cell_type": "code",
   "execution_count": 315,
   "metadata": {},
   "outputs": [
    {
     "data": {
      "text/plain": [
       "(18907, 85)"
      ]
     },
     "execution_count": 315,
     "metadata": {},
     "output_type": "execute_result"
    }
   ],
   "source": [
    "df_test_male = df_test[df_test['Race_W']==1]\n",
    "X_test_male = df_test_male.drop(['Race_W','Race_B'], axis=1).values\n",
    "X_test_male.shape"
   ]
  },
  {
   "cell_type": "code",
   "execution_count": 316,
   "metadata": {},
   "outputs": [],
   "source": [
    "df_test_black = df_test[df_test['Race_B']==1]\n",
    "X_test_black = df_test_black.drop(['Race_W','Race_B'], axis=1).values"
   ]
  },
  {
   "cell_type": "code",
   "execution_count": 317,
   "metadata": {},
   "outputs": [],
   "source": [
    "X_train = df_train.drop(['Race_W','Race_B'], axis=1).values\n",
    "X_test = df_test.drop(['Race_W','Race_B'], axis=1).values"
   ]
  },
  {
   "cell_type": "code",
   "execution_count": 318,
   "metadata": {},
   "outputs": [],
   "source": [
    "import sklearn.preprocessing\n",
    "from sklearn import preprocessing\n",
    "from sklearn.preprocessing import Normalizer\n",
    "max_abs_scaler = preprocessing.MaxAbsScaler()\n",
    "df_train_scaled = max_abs_scaler.fit_transform(df_train)\n",
    "df_test_scaled = max_abs_scaler.transform(df_test)"
   ]
  },
  {
   "cell_type": "code",
   "execution_count": 319,
   "metadata": {},
   "outputs": [],
   "source": [
    "def case_contro_ratio(y):\n",
    "    num_of_case = y[y==1].shape[0]\n",
    "    num_of_control = y[y==0].shape[0]\n",
    "    ratio = num_of_control/num_of_case\n",
    "    return ratio, num_of_case, num_of_control\n",
    "pos_ratio = case_contro_ratio(y_test)[1]/y_test.shape[0]"
   ]
  },
  {
   "cell_type": "code",
   "execution_count": 320,
   "metadata": {},
   "outputs": [
    {
     "name": "stdout",
     "output_type": "stream",
     "text": [
      "0.26056213175451115\n",
      "0.25743463125430005\n",
      "Classification report\n",
      "              precision    recall  f1-score   support\n",
      "\n",
      "           0       0.91      1.00      0.95     19953\n",
      "           1       0.37      0.03      0.05      1945\n",
      "\n",
      "    accuracy                           0.91     21898\n",
      "   macro avg       0.64      0.51      0.50     21898\n",
      "weighted avg       0.87      0.91      0.87     21898\n",
      "\n",
      "Confusion_matrix\n",
      "[[19861    92]\n",
      " [ 1890    55]]\n",
      "done in 0.693338s\n",
      "(1, 85)\n",
      "1. feature DURATION_BF2007 (8.926604)\n",
      "2. feature AGE (3.085183)\n",
      "3. feature MAX_DIASTOLIC (1.706043)\n",
      "4. feature MAX_SYSTOLIC (1.701817)\n",
      "5. feature MAX_VALUE_Chol (1.240535)\n",
      "6. feature MAX_BMI (1.180693)\n",
      "7. feature MEDIAN_VALUE_Chol (1.152987)\n",
      "8. feature MAX_VALUE_Creat (1.049167)\n",
      "9. feature MIN_VALIE_Creat (0.998499)\n",
      "10. feature MAX_VALUE_LDL-C (0.973038)\n"
     ]
    },
    {
     "name": "stderr",
     "output_type": "stream",
     "text": [
      "/opt/anaconda3/lib/python3.8/site-packages/sklearn/linear_model/_logistic.py:762: ConvergenceWarning: lbfgs failed to converge (status=1):\n",
      "STOP: TOTAL NO. of ITERATIONS REACHED LIMIT.\n",
      "\n",
      "Increase the number of iterations (max_iter) or scale the data as shown in:\n",
      "    https://scikit-learn.org/stable/modules/preprocessing.html\n",
      "Please also refer to the documentation for alternative solver options:\n",
      "    https://scikit-learn.org/stable/modules/linear_model.html#logistic-regression\n",
      "  n_iter_i = _check_optimize_result(\n"
     ]
    }
   ],
   "source": [
    "y_score = uclf.logic_regression(X_train_scaled, y_train,X_test_scaled, y_test,10,feature_list,10)"
   ]
  },
  {
   "cell_type": "code",
   "execution_count": 321,
   "metadata": {},
   "outputs": [
    {
     "name": "stdout",
     "output_type": "stream",
     "text": [
      "threshold:0.0, F1:0.16315061024199976\n",
      "threshold:0.1, F1:0.31097117946233954\n",
      "threshold:0.2, F1:0.3133270321361059\n",
      "threshold:0.30000000000000004, F1:0.2339018447615733\n",
      "threshold:0.4, F1:0.12780656303972368\n",
      "threshold:0.5, F1:0.052581261950286805\n",
      "threshold:0.6000000000000001, F1:0.024012006003001504\n",
      "threshold:0.7000000000000001, F1:0.006125574272588055\n",
      "threshold:0.8, F1:0.0010256410256410256\n",
      "threshold:0.9, F1:0.0\n"
     ]
    },
    {
     "data": {
      "text/plain": [
       "(0.2, 0.3133270321361059)"
      ]
     },
     "execution_count": 321,
     "metadata": {},
     "output_type": "execute_result"
    }
   ],
   "source": [
    "threshold_mixed = thres.get_optimal_threshold(y_test, y_score)\n",
    "threshold_mixed"
   ]
  },
  {
   "cell_type": "code",
   "execution_count": 322,
   "metadata": {},
   "outputs": [],
   "source": [
    "def calculate_tpr(y_true, y_pred_score, threshold=0.5):\n",
    "    \"\"\"\n",
    "    compute true positive rates (tpr)\n",
    "    \"\"\"\n",
    "    y_pred = np.copy(y_pred_score)\n",
    "    y_pred[y_pred >= threshold] = 1\n",
    "    y_pred[y_pred < threshold] = 0\n",
    "\n",
    "    tn, fp, fn, tp = confusion_matrix(y_true, y_pred).ravel()\n",
    "    # The true positive rate is the proportion of the individuals with a known positive condition for which the test\n",
    "    # result is positive. \n",
    "    tpr = round(tp / (tp + fn), 3)   \n",
    "\n",
    "    return tpr"
   ]
  },
  {
   "cell_type": "code",
   "execution_count": 323,
   "metadata": {},
   "outputs": [
    {
     "data": {
      "text/plain": [
       "0.341"
      ]
     },
     "execution_count": 323,
     "metadata": {},
     "output_type": "execute_result"
    }
   ],
   "source": [
    "tpr_mixed = calculate_tpr(y_test, y_score, threshold=0.2)\n",
    "tpr_mixed"
   ]
  },
  {
   "cell_type": "code",
   "execution_count": 324,
   "metadata": {},
   "outputs": [],
   "source": [
    "def calculate_positive_prediction(y_true, y_pred_score, threshold=0.5):\n",
    "    \"\"\"\n",
    "    compute false positive rates (fpr) and false negative rates (fn)\n",
    "    \"\"\"\n",
    "    y_pred = np.copy(y_pred_score)\n",
    "    y_pred[y_pred >= threshold] = 1\n",
    "    y_pred[y_pred < threshold] = 0\n",
    "\n",
    "    tn, fp, fn, tp = confusion_matrix(y_true, y_pred).ravel()\n",
    "    pd = (tp + fp) / (tn + fp + fn + tp)\n",
    "\n",
    "    return pd"
   ]
  },
  {
   "cell_type": "code",
   "execution_count": 325,
   "metadata": {},
   "outputs": [
    {
     "data": {
      "image/png": "[encoded data removed]",
      "text/plain": [
       "<Figure size 432x288 with 1 Axes>"
      ]
     },
     "metadata": {
      "needs_background": "light"
     },
     "output_type": "display_data"
    }
   ],
   "source": [
    "uclf.compute_roc(y_test,y_score,'logistics')"
   ]
  },
  {
   "cell_type": "code",
   "execution_count": 326,
   "metadata": {},
   "outputs": [
    {
     "name": "stdout",
     "output_type": "stream",
     "text": [
      "Average precision-recall score: 0.25\n"
     ]
    },
    {
     "data": {
      "image/png": "[encoded data removed]",
      "text/plain": [
       "<Figure size 432x288 with 1 Axes>"
      ]
     },
     "metadata": {
      "needs_background": "light"
     },
     "output_type": "display_data"
    }
   ],
   "source": [
    "uclf.plot_prc(y_test,y_score,pos_ratio)"
   ]
  },
  {
   "cell_type": "code",
   "execution_count": 327,
   "metadata": {},
   "outputs": [
    {
     "name": "stdout",
     "output_type": "stream",
     "text": [
      "0.26056213175451115\n",
      "0.2588009113130252\n",
      "Classification report\n",
      "              precision    recall  f1-score   support\n",
      "\n",
      "           0       0.91      1.00      0.95     17216\n",
      "           1       0.36      0.03      0.05      1691\n",
      "\n",
      "    accuracy                           0.91     18907\n",
      "   macro avg       0.64      0.51      0.50     18907\n",
      "weighted avg       0.86      0.91      0.87     18907\n",
      "\n",
      "Confusion_matrix\n",
      "[[17138    78]\n",
      " [ 1647    44]]\n",
      "done in 0.611915s\n",
      "(1, 85)\n",
      "1. feature DURATION_BF2007 (8.926604)\n",
      "2. feature AGE (3.085183)\n",
      "3. feature MAX_DIASTOLIC (1.706043)\n",
      "4. feature MAX_SYSTOLIC (1.701817)\n",
      "5. feature MAX_VALUE_Chol (1.240535)\n",
      "6. feature MAX_BMI (1.180693)\n",
      "7. feature MEDIAN_VALUE_Chol (1.152987)\n",
      "8. feature MAX_VALUE_Creat (1.049167)\n",
      "9. feature MIN_VALIE_Creat (0.998499)\n",
      "10. feature MAX_VALUE_LDL-C (0.973038)\n"
     ]
    },
    {
     "name": "stderr",
     "output_type": "stream",
     "text": [
      "/opt/anaconda3/lib/python3.8/site-packages/sklearn/linear_model/_logistic.py:762: ConvergenceWarning: lbfgs failed to converge (status=1):\n",
      "STOP: TOTAL NO. of ITERATIONS REACHED LIMIT.\n",
      "\n",
      "Increase the number of iterations (max_iter) or scale the data as shown in:\n",
      "    https://scikit-learn.org/stable/modules/preprocessing.html\n",
      "Please also refer to the documentation for alternative solver options:\n",
      "    https://scikit-learn.org/stable/modules/linear_model.html#logistic-regression\n",
      "  n_iter_i = _check_optimize_result(\n"
     ]
    }
   ],
   "source": [
    "y_score_white = uclf.logic_regression(X_train_scaled, y_train,X_test_white_scaled, y_test_white,10,feature_list,10)"
   ]
  },
  {
   "cell_type": "code",
   "execution_count": 328,
   "metadata": {},
   "outputs": [
    {
     "data": {
      "text/plain": [
       "0.34"
      ]
     },
     "execution_count": 328,
     "metadata": {},
     "output_type": "execute_result"
    }
   ],
   "source": [
    "tpr_white = calculate_tpr(y_test_white, y_score_white, threshold=0.2)\n",
    "tpr_white"
   ]
  },
  {
   "cell_type": "code",
   "execution_count": 329,
   "metadata": {},
   "outputs": [
    {
     "data": {
      "text/plain": [
       "0.10493468027714603"
      ]
     },
     "execution_count": 329,
     "metadata": {},
     "output_type": "execute_result"
    }
   ],
   "source": [
    "pd_white = calculate_positive_prediction(y_test_white, y_score_white, threshold=0.2)\n",
    "pd_white"
   ]
  },
  {
   "cell_type": "code",
   "execution_count": 330,
   "metadata": {},
   "outputs": [
    {
     "name": "stdout",
     "output_type": "stream",
     "text": [
      "0.26056213175451115\n",
      "0.24879796891049652\n",
      "Classification report\n",
      "              precision    recall  f1-score   support\n",
      "\n",
      "           0       0.92      0.99      0.95      2737\n",
      "           1       0.44      0.04      0.08       254\n",
      "\n",
      "    accuracy                           0.91      2991\n",
      "   macro avg       0.68      0.52      0.52      2991\n",
      "weighted avg       0.88      0.91      0.88      2991\n",
      "\n",
      "Confusion_matrix\n",
      "[[2723   14]\n",
      " [ 243   11]]\n",
      "done in 0.743868s\n",
      "(1, 85)\n",
      "1. feature DURATION_BF2007 (8.926604)\n",
      "2. feature AGE (3.085183)\n",
      "3. feature MAX_DIASTOLIC (1.706043)\n",
      "4. feature MAX_SYSTOLIC (1.701817)\n",
      "5. feature MAX_VALUE_Chol (1.240535)\n",
      "6. feature MAX_BMI (1.180693)\n",
      "7. feature MEDIAN_VALUE_Chol (1.152987)\n",
      "8. feature MAX_VALUE_Creat (1.049167)\n",
      "9. feature MIN_VALIE_Creat (0.998499)\n",
      "10. feature MAX_VALUE_LDL-C (0.973038)\n"
     ]
    },
    {
     "name": "stderr",
     "output_type": "stream",
     "text": [
      "/opt/anaconda3/lib/python3.8/site-packages/sklearn/linear_model/_logistic.py:762: ConvergenceWarning: lbfgs failed to converge (status=1):\n",
      "STOP: TOTAL NO. of ITERATIONS REACHED LIMIT.\n",
      "\n",
      "Increase the number of iterations (max_iter) or scale the data as shown in:\n",
      "    https://scikit-learn.org/stable/modules/preprocessing.html\n",
      "Please also refer to the documentation for alternative solver options:\n",
      "    https://scikit-learn.org/stable/modules/linear_model.html#logistic-regression\n",
      "  n_iter_i = _check_optimize_result(\n"
     ]
    }
   ],
   "source": [
    "y_score_black = uclf.logic_regression(X_train_scaled, y_train,X_test_black_scaled, y_test_black,10,feature_list,10)"
   ]
  },
  {
   "cell_type": "code",
   "execution_count": 331,
   "metadata": {},
   "outputs": [
    {
     "data": {
      "text/plain": [
       "0.346"
      ]
     },
     "execution_count": 331,
     "metadata": {},
     "output_type": "execute_result"
    }
   ],
   "source": [
    "tpr_black = calculate_tpr(y_test_black, y_score_black, threshold=0.2)\n",
    "tpr_black"
   ]
  },
  {
   "cell_type": "code",
   "execution_count": 332,
   "metadata": {},
   "outputs": [
    {
     "data": {
      "text/plain": [
       "0.10130391173520562"
      ]
     },
     "execution_count": 332,
     "metadata": {},
     "output_type": "execute_result"
    }
   ],
   "source": [
    "pd_black = calculate_positive_prediction(y_test_black, y_score_black, threshold=0.2)\n",
    "pd_black"
   ]
  },
  {
   "cell_type": "code",
   "execution_count": 333,
   "metadata": {},
   "outputs": [
    {
     "data": {
      "image/png": "[encoded data removed]",
      "text/plain": [
       "<Figure size 432x288 with 1 Axes>"
      ]
     },
     "metadata": {
      "needs_background": "light"
     },
     "output_type": "display_data"
    }
   ],
   "source": [
    "uclf.compute_roc(y_test_white,y_score_white,'logistics')"
   ]
  },
  {
   "cell_type": "code",
   "execution_count": 334,
   "metadata": {},
   "outputs": [
    {
     "name": "stdout",
     "output_type": "stream",
     "text": [
      "Average precision-recall score: 0.26\n"
     ]
    },
    {
     "data": {
      "image/png": "[encoded data removed]",
      "text/plain": [
       "<Figure size 432x288 with 1 Axes>"
      ]
     },
     "metadata": {
      "needs_background": "light"
     },
     "output_type": "display_data"
    }
   ],
   "source": [
    "uclf.plot_prc(y_test_white,y_score_white,pos_ratio)"
   ]
  },
  {
   "cell_type": "code",
   "execution_count": 335,
   "metadata": {},
   "outputs": [
    {
     "data": {
      "image/png": "[encoded data removed]",
      "text/plain": [
       "<Figure size 432x288 with 1 Axes>"
      ]
     },
     "metadata": {
      "needs_background": "light"
     },
     "output_type": "display_data"
    }
   ],
   "source": [
    "uclf.compute_roc(y_test_black,y_score_black,'logistics')"
   ]
  },
  {
   "cell_type": "code",
   "execution_count": 336,
   "metadata": {},
   "outputs": [
    {
     "name": "stdout",
     "output_type": "stream",
     "text": [
      "Average precision-recall score: 0.26\n"
     ]
    },
    {
     "data": {
      "image/png": "[encoded data removed]",
      "text/plain": [
       "<Figure size 432x288 with 1 Axes>"
      ]
     },
     "metadata": {
      "needs_background": "light"
     },
     "output_type": "display_data"
    }
   ],
   "source": [
    "uclf.plot_prc(y_test_black,y_score_black,pos_ratio)"
   ]
  },
  {
   "cell_type": "code",
   "execution_count": 337,
   "metadata": {},
   "outputs": [
    {
     "ename": "NameError",
     "evalue": "name 'y_valid' is not defined",
     "output_type": "error",
     "traceback": [
      "\u001b[0;31m---------------------------------------------------------------------------\u001b[0m",
      "\u001b[0;31mNameError\u001b[0m                                 Traceback (most recent call last)",
      "\u001b[0;32m<ipython-input-337-15dac2a5a289>\u001b[0m in \u001b[0;36m<module>\u001b[0;34m\u001b[0m\n\u001b[1;32m      6\u001b[0m \u001b[0;34m\u001b[0m\u001b[0m\n\u001b[1;32m      7\u001b[0m \u001b[0;32mfrom\u001b[0m \u001b[0msklearn\u001b[0m\u001b[0;34m.\u001b[0m\u001b[0mmetrics\u001b[0m \u001b[0;32mimport\u001b[0m \u001b[0maccuracy_score\u001b[0m\u001b[0;34m\u001b[0m\u001b[0;34m\u001b[0m\u001b[0m\n\u001b[0;32m----> 8\u001b[0;31m \u001b[0mprint\u001b[0m\u001b[0;34m(\u001b[0m\u001b[0maccuracy_score\u001b[0m\u001b[0;34m(\u001b[0m\u001b[0my_valid\u001b[0m\u001b[0;34m,\u001b[0m \u001b[0my_pred\u001b[0m\u001b[0;34m)\u001b[0m\u001b[0;34m)\u001b[0m\u001b[0;34m\u001b[0m\u001b[0;34m\u001b[0m\u001b[0m\n\u001b[0m",
      "\u001b[0;31mNameError\u001b[0m: name 'y_valid' is not defined"
     ]
    }
   ],
   "source": [
    "from sklearn.tree import DecisionTreeClassifier\n",
    "my_tree = DecisionTreeClassifier()\n",
    "\n",
    "my_tree.fit(X_train, y_train)\n",
    "y_pred = my_tree.predict(X_test)\n",
    "\n",
    "from sklearn.metrics import accuracy_score\n",
    "print(accuracy_score(y_valid, y_pred))"
   ]
  }
 ],
 "metadata": {
  "kernelspec": {
   "display_name": "Python 3",
   "language": "python",
   "name": "python3"
  },
  "language_info": {
   "codemirror_mode": {
    "name": "ipython",
    "version": 3
   },
   "file_extension": ".py",
   "mimetype": "text/x-python",
   "name": "python",
   "nbconvert_exporter": "python",
   "pygments_lexer": "ipython3",
   "version": "3.8.3"
  }
 },
 "nbformat": 4,
 "nbformat_minor": 4
}
