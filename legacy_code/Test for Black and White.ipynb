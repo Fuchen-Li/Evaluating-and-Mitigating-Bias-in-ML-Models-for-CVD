{
 "cells": [
  {
   "cell_type": "code",
   "execution_count": 1,
   "metadata": {},
   "outputs": [],
   "source": [
    "import pandas as pd\n",
    "import seaborn as sns\n",
    "import numpy as np\n",
    "import matplotlib.pyplot as plt\n",
    "%matplotlib inline\n",
    "from os import path\n",
    "import src.lib.utility_classfier as uclf\n",
    "import src.lib.optimal_threhold_related as thres\n",
    "import src.lib.fairness_tests as fair"
   ]
  },
  {
   "cell_type": "code",
   "execution_count": 2,
   "metadata": {},
   "outputs": [],
   "source": [
    "data_path='/Users/lifuchen/Desktop/research/data.csv'\n",
    "df = pd.read_csv(data_path)"
   ]
  },
  {
   "cell_type": "code",
   "execution_count": 3,
   "metadata": {},
   "outputs": [
    {
     "data": {
      "text/plain": [
       "(109490, 87)"
      ]
     },
     "execution_count": 3,
     "metadata": {},
     "output_type": "execute_result"
    }
   ],
   "source": [
    "y = df.Class.values\n",
    "X = df.drop(['GRID','Class'], axis=1)\n",
    "X.shape"
   ]
  },
  {
   "cell_type": "code",
   "execution_count": 7,
   "metadata": {},
   "outputs": [
    {
     "name": "stdout",
     "output_type": "stream",
     "text": [
      "65694\n",
      "65694\n",
      "21898 18825 3073\n",
      "21898 18825 3073\n",
      "21898 18883 3015\n",
      "21898 18883 3015\n"
     ]
    }
   ],
   "source": [
    "X_train, y_train, X_val, y_val, X_test, y_test, X_val_white, X_val_black, y_val_white, y_val_black, X_test_white, X_test_black, y_test_white, y_test_black = fair.split_by_trait(X, y, 'Race_W')\n",
    "print(X_train.shape[0])\n",
    "print(y_train.shape[0])\n",
    "\n",
    "print(X_val.shape[0], X_val_white.shape[0], X_val_black.shape[0])\n",
    "print(y_val.shape[0], y_val_white.shape[0], y_val_black.shape[0])\n",
    "\n",
    "print(X_test.shape[0], X_test_white.shape[0], X_test_black.shape[0])\n",
    "print(y_test.shape[0], y_test_white.shape[0], y_test_black.shape[0])"
   ]
  },
  {
   "cell_type": "code",
   "execution_count": null,
   "metadata": {},
   "outputs": [],
   "source": [
    "from sklearn import preprocessing\n",
    "from sklearn.preprocessing import Normalizer\n",
    "\"\"\"\"\n",
    "max_abs_scaler = preprocessing.MaxAbsScaler()\n",
    "X_train_scaled = max_abs_scaler.fit_transform(X_train)\n",
    "X_test_scaled = max_abs_scaler.transform(X_test)\n",
    "X_test_1_scaled = max_abs_scaler.transform(X_test_1)\n",
    "X_test_2_scaled = max_abs_scaler.transform(X_test_2)"
   ]
  },
  {
   "cell_type": "code",
   "execution_count": 6,
   "metadata": {},
   "outputs": [
    {
     "name": "stdout",
     "output_type": "stream",
     "text": [
      "df_train num 87592\n",
      "df_test num 21898\n"
     ]
    }
   ],
   "source": [
    "from sklearn.model_selection import train_test_split\n",
    "df_train, df_test, y_train, y_test = train_test_split(X, y, test_size=0.2, random_state=42)\n",
    "print('df_train num',df_train.shape[0])\n",
    "print('df_test num',df_test.shape[0])"
   ]
  },
  {
   "cell_type": "code",
   "execution_count": 7,
   "metadata": {},
   "outputs": [
    {
     "data": {
      "text/plain": [
       "(18907,)"
      ]
     },
     "execution_count": 7,
     "metadata": {},
     "output_type": "execute_result"
    }
   ],
   "source": [
    "y_test_white = y_test[df_test['Race_W']==1]\n",
    "y_test_white.shape"
   ]
  },
  {
   "cell_type": "code",
   "execution_count": 8,
   "metadata": {},
   "outputs": [
    {
     "data": {
      "text/plain": [
       "(2991,)"
      ]
     },
     "execution_count": 8,
     "metadata": {},
     "output_type": "execute_result"
    }
   ],
   "source": [
    "y_test_black = y_test[df_test['Race_B']==1]\n",
    "y_test_black.shape"
   ]
  },
  {
   "cell_type": "code",
   "execution_count": 9,
   "metadata": {},
   "outputs": [
    {
     "data": {
      "text/plain": [
       "(18907, 85)"
      ]
     },
     "execution_count": 9,
     "metadata": {},
     "output_type": "execute_result"
    }
   ],
   "source": [
    "df_test_white = df_test[df_test['Race_W']==1]\n",
    "X_test_white = df_test_white.drop(['Race_W','Race_B'], axis=1).values\n",
    "X_test_white.shape"
   ]
  },
  {
   "cell_type": "code",
   "execution_count": 10,
   "metadata": {},
   "outputs": [],
   "source": [
    "df_test_black = df_test[df_test['Race_B']==1]\n",
    "X_test_black = df_test_black.drop(['Race_W','Race_B'], axis=1).values"
   ]
  },
  {
   "cell_type": "code",
   "execution_count": 11,
   "metadata": {},
   "outputs": [],
   "source": [
    "X_train = df_train.drop(['Race_W','Race_B'], axis=1).values\n",
    "X_test = df_test.drop(['Race_W','Race_B'], axis=1).values"
   ]
  },
  {
   "cell_type": "code",
   "execution_count": 12,
   "metadata": {},
   "outputs": [],
   "source": [
    "import sklearn.preprocessing\n",
    "from sklearn import preprocessing\n",
    "from sklearn.preprocessing import Normalizer\n",
    "max_abs_scaler = preprocessing.MaxAbsScaler()\n",
    "X_train_scaled = max_abs_scaler.fit_transform(X_train)\n",
    "X_test_scaled = max_abs_scaler.transform(X_test)\n",
    "X_test_white_scaled = max_abs_scaler.transform(X_test_white)\n",
    "X_test_black_scaled = max_abs_scaler.transform(X_test_black)"
   ]
  },
  {
   "cell_type": "code",
   "execution_count": 13,
   "metadata": {},
   "outputs": [],
   "source": [
    "def case_contro_ratio(y):\n",
    "    num_of_case = y[y==1].shape[0]\n",
    "    num_of_control = y[y==0].shape[0]\n",
    "    ratio = num_of_control/num_of_case\n",
    "    return ratio, num_of_case, num_of_control\n",
    "pos_ratio = case_contro_ratio(y_test)[1]/y_test.shape[0]"
   ]
  },
  {
   "cell_type": "code",
   "execution_count": 18,
   "metadata": {},
   "outputs": [
    {
     "name": "stdout",
     "output_type": "stream",
     "text": [
      "0.2662970663670978\n",
      "0.26603389873877065\n",
      "Classification report\n",
      "              precision    recall  f1-score   support\n",
      "\n",
      "           0       0.91      1.00      0.95     19953\n",
      "           1       0.16      0.00      0.01      1945\n",
      "\n",
      "    accuracy                           0.91     21898\n",
      "   macro avg       0.53      0.50      0.48     21898\n",
      "weighted avg       0.84      0.91      0.87     21898\n",
      "\n",
      "Confusion_matrix\n",
      "[[19921    32]\n",
      " [ 1939     6]]\n",
      "done in 0.776462s\n"
     ]
    }
   ],
   "source": [
    "y_score_dt = uclf.decision_tree(X_train_scaled, y_train,X_test_scaled, y_test)"
   ]
  },
  {
   "cell_type": "code",
   "execution_count": 21,
   "metadata": {},
   "outputs": [
    {
     "data": {
      "image/png": "[encoded data removed]",
      "text/plain": [
       "<Figure size 432x288 with 1 Axes>"
      ]
     },
     "metadata": {
      "needs_background": "light"
     },
     "output_type": "display_data"
    }
   ],
   "source": [
    "uclf.compute_roc(y_test,y_score_dt,'decision tree')"
   ]
  },
  {
   "cell_type": "code",
   "execution_count": 22,
   "metadata": {},
   "outputs": [
    {
     "name": "stdout",
     "output_type": "stream",
     "text": [
      "Classification report\n",
      "              precision    recall  f1-score   support\n",
      "\n",
      "           0       0.91      1.00      0.95     19953\n",
      "           1       0.75      0.00      0.01      1945\n",
      "\n",
      "    accuracy                           0.91     21898\n",
      "   macro avg       0.83      0.50      0.48     21898\n",
      "weighted avg       0.90      0.91      0.87     21898\n",
      "\n",
      "Confusion_matrix\n",
      "[[19951     2]\n",
      " [ 1939     6]]\n",
      "done in 23.315747s\n"
     ]
    },
    {
     "data": {
      "image/png": "[encoded data removed]",
      "text/plain": [
       "<Figure size 432x288 with 1 Axes>"
      ]
     },
     "metadata": {
      "needs_background": "light"
     },
     "output_type": "display_data"
    }
   ],
   "source": [
    "y_score_rf = uclf.random_forest(X_train_scaled, y_train,X_test_scaled, y_test)\n",
    "uclf.compute_roc(y_test,y_score_rf,'random_forest')"
   ]
  },
  {
   "cell_type": "code",
   "execution_count": 23,
   "metadata": {},
   "outputs": [
    {
     "name": "stdout",
     "output_type": "stream",
     "text": [
      "Classification report\n",
      "              precision    recall  f1-score   support\n",
      "\n",
      "           0       0.91      1.00      0.95     19953\n",
      "           1       0.39      0.02      0.03      1945\n",
      "\n",
      "    accuracy                           0.91     21898\n",
      "   macro avg       0.65      0.51      0.49     21898\n",
      "weighted avg       0.87      0.91      0.87     21898\n",
      "\n",
      "Confusion_matrix\n",
      "[[19906    47]\n",
      " [ 1915    30]]\n",
      "done in 39.468308s\n"
     ]
    },
    {
     "data": {
      "image/png": "[encoded data removed]",
      "text/plain": [
       "<Figure size 432x288 with 1 Axes>"
      ]
     },
     "metadata": {
      "needs_background": "light"
     },
     "output_type": "display_data"
    }
   ],
   "source": [
    "y_score_gb = uclf.gradiant_boosting(X_train_scaled, y_train,X_test_scaled, y_test)\n",
    "uclf.compute_roc(y_test,y_score_gb,'gradiant_boosting')"
   ]
  },
  {
   "cell_type": "code",
   "execution_count": 14,
   "metadata": {},
   "outputs": [
    {
     "name": "stdout",
     "output_type": "stream",
     "text": [
      "0.2662970663670978\n",
      "0.2675000238115467\n",
      "Classification report\n",
      "              precision    recall  f1-score   support\n",
      "\n",
      "           0       0.91      1.00      0.95     17216\n",
      "           1       0.19      0.00      0.01      1691\n",
      "\n",
      "    accuracy                           0.91     18907\n",
      "   macro avg       0.55      0.50      0.48     18907\n",
      "weighted avg       0.85      0.91      0.87     18907\n",
      "\n",
      "Confusion_matrix\n",
      "[[17191    25]\n",
      " [ 1685     6]]\n",
      "done in 1.019925s\n"
     ]
    }
   ],
   "source": [
    "y_score_dt_white = uclf.decision_tree(X_train_scaled, y_train, X_test_white_scaled, y_test_white)"
   ]
  },
  {
   "cell_type": "code",
   "execution_count": 15,
   "metadata": {},
   "outputs": [
    {
     "data": {
      "image/png": "[encoded data removed]",
      "text/plain": [
       "<Figure size 432x288 with 1 Axes>"
      ]
     },
     "metadata": {
      "needs_background": "light"
     },
     "output_type": "display_data"
    }
   ],
   "source": [
    "uclf.compute_roc(y_test_white,y_score_dt_white,'decision tree')"
   ]
  },
  {
   "cell_type": "code",
   "execution_count": 16,
   "metadata": {},
   "outputs": [
    {
     "name": "stdout",
     "output_type": "stream",
     "text": [
      "0.2662970663670978\n",
      "0.2567660863847162\n",
      "Classification report\n",
      "              precision    recall  f1-score   support\n",
      "\n",
      "           0       0.91      1.00      0.95      2737\n",
      "           1       0.00      0.00      0.00       254\n",
      "\n",
      "    accuracy                           0.91      2991\n",
      "   macro avg       0.46      0.50      0.48      2991\n",
      "weighted avg       0.84      0.91      0.87      2991\n",
      "\n",
      "Confusion_matrix\n",
      "[[2730    7]\n",
      " [ 254    0]]\n",
      "done in 0.776529s\n"
     ]
    }
   ],
   "source": [
    "y_score_dt_black = uclf.decision_tree(X_train_scaled, y_train, X_test_black_scaled, y_test_black)"
   ]
  },
  {
   "cell_type": "code",
   "execution_count": 17,
   "metadata": {},
   "outputs": [
    {
     "data": {
      "image/png": "[encoded data removed]",
      "text/plain": [
       "<Figure size 432x288 with 1 Axes>"
      ]
     },
     "metadata": {
      "needs_background": "light"
     },
     "output_type": "display_data"
    }
   ],
   "source": [
    "uclf.compute_roc(y_test_black,y_score_dt_black,'decision tree')"
   ]
  },
  {
   "cell_type": "code",
   "execution_count": 17,
   "metadata": {},
   "outputs": [
    {
     "name": "stdout",
     "output_type": "stream",
     "text": [
      "threshold:0.0, J-value:0.0\n",
      "threshold:0.1, J-value:0.37000000000000005\n",
      "threshold:0.2, J-value:0.169\n",
      "threshold:0.30000000000000004, J-value:0.099\n",
      "threshold:0.4, J-value:0.002\n",
      "threshold:0.5, J-value:0.003\n",
      "threshold:0.6000000000000001, J-value:0.0\n",
      "threshold:0.7000000000000001, J-value:0.0\n",
      "threshold:0.8, J-value:0.0\n",
      "threshold:0.9, J-value:0.0\n",
      "True positive rate of class 1 is  0.684\n",
      "threshold:0.0, J-value:0.0\n",
      "threshold:0.1, J-value:0.38\n",
      "threshold:0.2, J-value:0.168\n",
      "threshold:0.30000000000000004, J-value:0.07699999999999999\n",
      "threshold:0.4, J-value:0.0\n",
      "threshold:0.5, J-value:-0.003\n",
      "threshold:0.6000000000000001, J-value:-0.001\n",
      "threshold:0.7000000000000001, J-value:-0.001\n",
      "threshold:0.8, J-value:0.0\n",
      "threshold:0.9, J-value:0.0\n",
      "True positive rate of class 2 is  0.642\n"
     ]
    },
    {
     "data": {
      "text/plain": [
       "0.04200000000000004"
      ]
     },
     "execution_count": 17,
     "metadata": {},
     "output_type": "execute_result"
    }
   ],
   "source": [
    "eod_dt = fair.get_EOD(y_test_white, y_score_dt_white,y_test_black, y_score_dt_black)\n",
    "eod_dt"
   ]
  },
  {
   "cell_type": "code",
   "execution_count": 18,
   "metadata": {},
   "outputs": [
    {
     "name": "stdout",
     "output_type": "stream",
     "text": [
      "threshold:0.0, J-value:0.0\n",
      "threshold:0.1, J-value:0.37000000000000005\n",
      "threshold:0.2, J-value:0.169\n",
      "threshold:0.30000000000000004, J-value:0.099\n",
      "threshold:0.4, J-value:0.002\n",
      "threshold:0.5, J-value:0.003\n",
      "threshold:0.6000000000000001, J-value:0.0\n",
      "threshold:0.7000000000000001, J-value:0.0\n",
      "threshold:0.8, J-value:0.0\n",
      "threshold:0.9, J-value:0.0\n",
      "Positive prediction rate of class 1 is  0.347\n",
      "threshold:0.0, J-value:0.0\n",
      "threshold:0.1, J-value:0.38\n",
      "threshold:0.2, J-value:0.168\n",
      "threshold:0.30000000000000004, J-value:0.07699999999999999\n",
      "threshold:0.4, J-value:0.0\n",
      "threshold:0.5, J-value:-0.003\n",
      "threshold:0.6000000000000001, J-value:-0.001\n",
      "threshold:0.7000000000000001, J-value:-0.001\n",
      "threshold:0.8, J-value:0.0\n",
      "threshold:0.9, J-value:0.0\n",
      "Positive prediction rate of class 2 is  0.294\n"
     ]
    },
    {
     "data": {
      "text/plain": [
       "1.1802721088435375"
      ]
     },
     "execution_count": 18,
     "metadata": {},
     "output_type": "execute_result"
    }
   ],
   "source": [
    "sp_dt = fair.get_SP(y_test_white, y_score_dt_white,y_test_black, y_score_dt_black)\n",
    "sp_dt"
   ]
  },
  {
   "cell_type": "code",
   "execution_count": null,
   "metadata": {},
   "outputs": [],
   "source": [
    "y_score_rf_white = uclf.random_forest(X_train_scaled, y_train, X_test_white_scaled, y_test_white)"
   ]
  },
  {
   "cell_type": "code",
   "execution_count": null,
   "metadata": {},
   "outputs": [],
   "source": [
    "uclf.compute_roc(y_test_white,y_score_rf_white,'random forest')"
   ]
  },
  {
   "cell_type": "code",
   "execution_count": null,
   "metadata": {},
   "outputs": [],
   "source": [
    "y_score_rf_black = uclf.random_forest(X_train_scaled, y_train, X_test_black_scaled, y_test_black)"
   ]
  },
  {
   "cell_type": "code",
   "execution_count": null,
   "metadata": {},
   "outputs": [],
   "source": [
    "uclf.compute_roc(y_test_black,y_score_rf_black,'random forest')"
   ]
  },
  {
   "cell_type": "code",
   "execution_count": null,
   "metadata": {},
   "outputs": [],
   "source": [
    "eod_rf = fair.get_EOD(y_test_white, y_score_rf_white,y_test_black, y_score_rf_black)\n",
    "eod_rf"
   ]
  },
  {
   "cell_type": "code",
   "execution_count": null,
   "metadata": {},
   "outputs": [],
   "source": [
    "sp_rf = fair.get_SP(y_test_white, y_score_rf_white,y_test_black, y_score_rf_black)\n",
    "sp_rf"
   ]
  },
  {
   "cell_type": "code",
   "execution_count": null,
   "metadata": {},
   "outputs": [],
   "source": [
    "y_score_gb = uclf.gradiant_boosting(X_train_scaled, y_train,X_test_scaled, y_test)"
   ]
  },
  {
   "cell_type": "code",
   "execution_count": null,
   "metadata": {},
   "outputs": [],
   "source": [
    "uclf.compute_roc(y_test,y_score_gb,'gradient boosting')"
   ]
  },
  {
   "cell_type": "code",
   "execution_count": null,
   "metadata": {},
   "outputs": [],
   "source": [
    "y_score_gb_white = uclf.gradiant_boosting(X_train_scaled, y_train, X_test_white_scaled, y_test_white)"
   ]
  },
  {
   "cell_type": "code",
   "execution_count": null,
   "metadata": {},
   "outputs": [],
   "source": [
    "uclf.compute_roc(y_test_white,y_score_gb_white,'gradient boosting')"
   ]
  },
  {
   "cell_type": "code",
   "execution_count": null,
   "metadata": {},
   "outputs": [],
   "source": [
    "y_score_gb_black = uclf.gradiant_boosting(X_train_scaled, y_train, X_test_black_scaled, y_test_black)"
   ]
  },
  {
   "cell_type": "code",
   "execution_count": null,
   "metadata": {},
   "outputs": [],
   "source": [
    "uclf.compute_roc(y_test_black,y_score_gb_black,'gradient boosting')"
   ]
  },
  {
   "cell_type": "code",
   "execution_count": null,
   "metadata": {},
   "outputs": [],
   "source": [
    "eod_gb = fair.get_EOD(y_test_white, y_score_gb_white,y_test_black, y_score_gb_black)\n",
    "eod_gb"
   ]
  },
  {
   "cell_type": "code",
   "execution_count": null,
   "metadata": {},
   "outputs": [],
   "source": [
    "sp_gb = fair.get_SP(y_test_white, y_score_gb_white,y_test_black, y_score_gb_black)\n",
    "sp_gb"
   ]
  },
  {
   "cell_type": "code",
   "execution_count": null,
   "metadata": {},
   "outputs": [],
   "source": [
    "y_score = uclf.logic_regression(X_train_scaled, y_train,X_test_scaled, y_test,10)"
   ]
  },
  {
   "cell_type": "code",
   "execution_count": null,
   "metadata": {},
   "outputs": [],
   "source": [
    "threshold_mixed = thres.get_optimal_threshold_Jvalue(y_test, y_score)\n",
    "threshold_mixed"
   ]
  },
  {
   "cell_type": "code",
   "execution_count": null,
   "metadata": {},
   "outputs": [],
   "source": [
    "tpr_mixed = thres.calculate_tpr(y_test, y_score, threshold=0.1)\n",
    "tpr_mixed"
   ]
  },
  {
   "cell_type": "code",
   "execution_count": null,
   "metadata": {},
   "outputs": [],
   "source": [
    "pd_mixed = thres.calculate_positive_prediction(y_test, y_score, threshold=0.1)\n",
    "pd_mixed"
   ]
  },
  {
   "cell_type": "code",
   "execution_count": null,
   "metadata": {},
   "outputs": [],
   "source": [
    "uclf.compute_roc(y_test,y_score,'logistics')"
   ]
  },
  {
   "cell_type": "code",
   "execution_count": null,
   "metadata": {},
   "outputs": [],
   "source": [
    "uclf.plot_prc(y_test,y_score,pos_ratio)"
   ]
  },
  {
   "cell_type": "code",
   "execution_count": null,
   "metadata": {},
   "outputs": [],
   "source": [
    "y_score_white = uclf.logic_regression(X_train_scaled, y_train,X_test_white_scaled, y_test_white,10)"
   ]
  },
  {
   "cell_type": "code",
   "execution_count": null,
   "metadata": {},
   "outputs": [],
   "source": [
    "threshold_white = thres.get_optimal_threshold_Jvalue(y_test_white, y_score_white)\n",
    "threshold_white"
   ]
  },
  {
   "cell_type": "code",
   "execution_count": null,
   "metadata": {},
   "outputs": [],
   "source": [
    "tpr_white = thres.calculate_tpr(y_test_white, y_score_white, threshold=0.1)\n",
    "tpr_white"
   ]
  },
  {
   "cell_type": "code",
   "execution_count": null,
   "metadata": {},
   "outputs": [],
   "source": [
    "pd_white = thres.calculate_positive_prediction(y_test_white, y_score_white, threshold=0.1)\n",
    "pd_white"
   ]
  },
  {
   "cell_type": "code",
   "execution_count": null,
   "metadata": {},
   "outputs": [],
   "source": [
    "y_score_black = uclf.logic_regression(X_train_scaled, y_train,X_test_black_scaled, y_test_black,10)"
   ]
  },
  {
   "cell_type": "code",
   "execution_count": null,
   "metadata": {},
   "outputs": [],
   "source": [
    "threshold_black = thres.get_optimal_threshold_Jvalue(y_test_black, y_score_black)\n",
    "threshold_black"
   ]
  },
  {
   "cell_type": "code",
   "execution_count": null,
   "metadata": {},
   "outputs": [],
   "source": [
    "tpr_black = thres.calculate_tpr(y_test_black, y_score_black, threshold=0.1)\n",
    "tpr_black"
   ]
  },
  {
   "cell_type": "code",
   "execution_count": null,
   "metadata": {},
   "outputs": [],
   "source": [
    "pd_black = thres.calculate_positive_prediction(y_test_black, y_score_black, threshold=0.1)\n",
    "pd_black"
   ]
  },
  {
   "cell_type": "code",
   "execution_count": null,
   "metadata": {},
   "outputs": [],
   "source": [
    "eod = fair.get_EOD(y_test_white, y_score_white,y_test_black, y_score_black)\n",
    "eod"
   ]
  },
  {
   "cell_type": "code",
   "execution_count": null,
   "metadata": {},
   "outputs": [],
   "source": [
    "sp = fair.get_SP(y_test_white, y_score_white,y_test_black, y_score_black)\n",
    "sp"
   ]
  },
  {
   "cell_type": "code",
   "execution_count": null,
   "metadata": {},
   "outputs": [],
   "source": [
    "uclf.compute_roc(y_test_white,y_score_white,'logistics')"
   ]
  },
  {
   "cell_type": "code",
   "execution_count": null,
   "metadata": {},
   "outputs": [],
   "source": [
    "uclf.plot_prc(y_test_white,y_score_white,pos_ratio)"
   ]
  },
  {
   "cell_type": "code",
   "execution_count": null,
   "metadata": {},
   "outputs": [],
   "source": [
    "uclf.compute_roc(y_test_black,y_score_black,'logistics')"
   ]
  },
  {
   "cell_type": "code",
   "execution_count": null,
   "metadata": {},
   "outputs": [],
   "source": [
    "uclf.plot_prc(y_test_black,y_score_black,pos_ratio)"
   ]
  },
  {
   "cell_type": "code",
   "execution_count": null,
   "metadata": {},
   "outputs": [],
   "source": [
    "from sklearn.tree import DecisionTreeClassifier\n",
    "my_tree = DecisionTreeClassifier()\n",
    "\n",
    "my_tree.fit(X_train, y_train)\n",
    "y_pred = my_tree.predict(X_test)\n",
    "\n",
    "from sklearn.metrics import accuracy_score\n",
    "print(accuracy_score(y_test, y_pred))"
   ]
  }
 ],
 "metadata": {
  "kernelspec": {
   "display_name": "Python 3",
   "language": "python",
   "name": "python3"
  },
  "language_info": {
   "codemirror_mode": {
    "name": "ipython",
    "version": 3
   },
   "file_extension": ".py",
   "mimetype": "text/x-python",
   "name": "python",
   "nbconvert_exporter": "python",
   "pygments_lexer": "ipython3",
   "version": "3.8.3"
  }
 },
 "nbformat": 4,
 "nbformat_minor": 4
}
