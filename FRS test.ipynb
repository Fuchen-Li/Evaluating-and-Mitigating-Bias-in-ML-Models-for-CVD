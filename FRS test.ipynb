{
 "cells": [
  {
   "cell_type": "code",
   "execution_count": 1,
   "metadata": {},
   "outputs": [],
   "source": [
    "import logging\n",
    "import time\n",
    "from os import path\n",
    "\n",
    "import numpy as np\n",
    "import pandas as pd\n",
    "from sklearn.metrics import accuracy_score\n",
    "from sklearn.metrics import average_precision_score\n",
    "from sklearn.metrics import precision_score\n",
    "from sklearn.metrics import recall_score\n",
    "from sklearn.metrics import roc_auc_score\n",
    "from sklearn.metrics import confusion_matrix,ConfusionMatrixDisplay\n",
    "from sklearn.model_selection import RepeatedStratifiedKFold\n",
    "\n",
    "from definitions import DATA_PATH\n",
    "from definitions import LOGS_PATH\n",
    "import src.framingham.aha_frs_cvd as aha_frs_cvd\n",
    "import src.lib.optimal_threhold_related as thres\n",
    "import src.lib.fairness_tests as fair"
   ]
  },
  {
   "cell_type": "code",
   "execution_count": 5,
   "metadata": {},
   "outputs": [],
   "source": [
    "time_stamp = time.strftime('%Y-%m-%d-%H-%M-%S', time.localtime())\n",
    "\n",
    "log_files = path.join(LOGS_PATH, 'log_benchmark.txt')\n",
    "logging.basicConfig(filename=log_files+str(time_stamp), level=logging.DEBUG,\n",
    "                    format='%(asctime)s - %(levelname)s - %(message)s')\n",
    "logging.debug('This is a log message.')"
   ]
  },
  {
   "cell_type": "code",
   "execution_count": 6,
   "metadata": {},
   "outputs": [],
   "source": [
    "#Please identify the framingham features\n",
    "#framing_features= ['Gender','AGE','MEDIAN_VALUE_Chol','MEDIAN_VALUE_HDL-C','MEDIAN_SYSTOLIC','Smoking','T2DM_CNT','HTN_DRUG_CNT','Race']\n",
    "framing_features = ['Gender', 'AGE', 'RECENT_VALUE_Chol', 'RECENT_VALUE_HDL-C', 'RECENT_SYSTOLIC', 'Smoking',\n",
    "                    'T2DM_CNT', 'HTN_DRUG_CNT', 'Race']"
   ]
  },
  {
   "cell_type": "code",
   "execution_count": 7,
   "metadata": {},
   "outputs": [],
   "source": [
    "def compute_ind_frs(df):\n",
    "    score_list = []\n",
    "    for index, row in df.iterrows():\n",
    "        X = row[framing_features].values\n",
    "        score = aha_frs_cvd.frs(*X)\n",
    "        score_list.append(score)\n",
    "    df['frs'] = pd.Series(score_list)\n",
    "    return df"
   ]
  },
  {
   "cell_type": "code",
   "execution_count": 8,
   "metadata": {},
   "outputs": [],
   "source": [
    "def predict_by_framingham(df: object, reset_index: object = False) -> object:\n",
    "    # if the input df is cross validation split, need to reset index\n",
    "    if reset_index:\n",
    "        df.reset_index(drop=True)\n",
    "    y = df.Class.values\n",
    "    df = compute_ind_frs(df)\n",
    "    print(\"after compute\", df.shape)\n",
    "    x = df[(df['Gender'] == 'F') & (df['Race'] == 'W')]['frs']\n",
    "\n",
    "    #mean_frs_women_w = np.mean(df[(df['Gender']=='F') & (df['Race']=='W')]['frs'])\n",
    "    #mean_frs_women_b = np.mean(df[(df['Gender']=='F') & (df['Race']=='B')]['frs'])\n",
    "    #mean_frs_men_w = np.mean(df[(df['Gender']=='M') & (df['Race']=='W')]['frs'])\n",
    "    #mean_frs_men_b = np.mean(df[(df['Gender']=='M') & (df['Race']=='B')]['frs'])\n",
    "    #print(mean_frs_women_w)\n",
    "    #print(mean_frs_women_b)\n",
    "    #print(mean_frs_men_w)\n",
    "    #print(mean_frs_men_b)\n",
    "    mean_frs_women_w = -29.18\n",
    "    mean_frs_women_b = 86.61\n",
    "    mean_frs_men_w = 61.18\n",
    "    mean_frs_men_b = 19.54\n",
    "    risk_list = []\n",
    "    for index, row in df.iterrows():\n",
    "        gender = row['Gender']\n",
    "        race = row['Race']\n",
    "        risk = 0\n",
    "\n",
    "        if gender == 'F':\n",
    "            if race == 'W':\n",
    "                risk = aha_frs_cvd.estimiate_risk(ind_frs=row['frs'], mean_frs=mean_frs_women_w, gender='F', race='W')\n",
    "            elif race == 'B':\n",
    "                risk = aha_frs_cvd.estimiate_risk(ind_frs=row['frs'], mean_frs=mean_frs_women_b, gender='F', race='B')\n",
    "            else:\n",
    "                print('1',race)\n",
    "        elif gender == 'M':\n",
    "            if race == 'W':\n",
    "                risk = aha_frs_cvd.estimiate_risk(ind_frs=row['frs'], mean_frs=mean_frs_men_w, gender='M', race='W')\n",
    "            elif race == 'B':\n",
    "                risk = aha_frs_cvd.estimiate_risk(ind_frs=row['frs'], mean_frs=mean_frs_men_b, gender='M', race='B')\n",
    "            else:\n",
    "                print('2', race)\n",
    "        else:\n",
    "            print('3', gender)\n",
    "        # if np.isnan(risk):\n",
    "        #     print(index)\n",
    "\n",
    "        risk_list.append(risk)\n",
    "    df['risk'] = pd.Series(risk_list)\n",
    "    print(df.risk.unique())\n",
    "    print(len(risk_list))\n",
    "    df.loc[df['risk'] > 0.075, 'predict'] = 1\n",
    "    df.loc[df['risk'] <= 0.075, 'predict'] = 0\n",
    "        \n",
    "    cm = confusion_matrix(y,df['predict'].values)\n",
    "    cm_display = ConfusionMatrixDisplay(cm).plot()\n",
    "    \n",
    "    print(df.predict.unique())\n",
    "    #save the interim output\n",
    "    df.to_csv(path.join(DATA_PATH, 'framingham_result.csv'))\n",
    "\n",
    "    print('accuracy', accuracy_score(y, df['predict'].values))\n",
    "    print('roc AUC', roc_auc_score(y, df['risk'].values))\n",
    "    print('precision', precision_score(y, df['predict'].values))\n",
    "    print('recall', recall_score(y, df['predict'].values))\n",
    "    print(\"ap\", average_precision_score(y, df['risk'].values))\n",
    "    \n",
    "    return accuracy_score(y, df['predict'].values), roc_auc_score(y, df['risk'].values), \\\n",
    "           precision_score(y, df['predict'].values), recall_score(y, df['predict'].values), \\\n",
    "           average_precision_score(y, df['risk'].values)"
   ]
  },
  {
   "cell_type": "code",
   "execution_count": 2,
   "metadata": {},
   "outputs": [
    {
     "name": "stdout",
     "output_type": "stream",
     "text": [
      "(109490, 100)\n"
     ]
    },
    {
     "data": {
      "text/html": [
       "<div>\n",
       "<style scoped>\n",
       "    .dataframe tbody tr th:only-of-type {\n",
       "        vertical-align: middle;\n",
       "    }\n",
       "\n",
       "    .dataframe tbody tr th {\n",
       "        vertical-align: top;\n",
       "    }\n",
       "\n",
       "    .dataframe thead th {\n",
       "        text-align: right;\n",
       "    }\n",
       "</style>\n",
       "<table border=\"1\" class=\"dataframe\">\n",
       "  <thead>\n",
       "    <tr style=\"text-align: right;\">\n",
       "      <th></th>\n",
       "      <th>GRID</th>\n",
       "      <th>Gender</th>\n",
       "      <th>Race_B</th>\n",
       "      <th>Race_W</th>\n",
       "      <th>AGE</th>\n",
       "      <th>DURATION_BF2007</th>\n",
       "      <th>Smoking</th>\n",
       "      <th>MAX_BMI_missing</th>\n",
       "      <th>MAX_VALUE_Chol_missing</th>\n",
       "      <th>MAX_VALUE_Creat_missing</th>\n",
       "      <th>...</th>\n",
       "      <th>CNT_MedCode_4917</th>\n",
       "      <th>CNT_MedCode_5487</th>\n",
       "      <th>CNT_MedCode_5640</th>\n",
       "      <th>CNT_MedCode_6918</th>\n",
       "      <th>CNT_MedCode_798302</th>\n",
       "      <th>CNT_MedCode_83367</th>\n",
       "      <th>CNT_MedCode_836</th>\n",
       "      <th>Class</th>\n",
       "      <th>HTN_DRUG_CNT</th>\n",
       "      <th>Race</th>\n",
       "    </tr>\n",
       "  </thead>\n",
       "  <tbody>\n",
       "    <tr>\n",
       "      <th>0</th>\n",
       "      <td>R247513794</td>\n",
       "      <td>F</td>\n",
       "      <td>0</td>\n",
       "      <td>1</td>\n",
       "      <td>59</td>\n",
       "      <td>5411</td>\n",
       "      <td>1</td>\n",
       "      <td>0</td>\n",
       "      <td>0</td>\n",
       "      <td>1</td>\n",
       "      <td>...</td>\n",
       "      <td>0.0</td>\n",
       "      <td>0.0</td>\n",
       "      <td>8.0</td>\n",
       "      <td>0.0</td>\n",
       "      <td>0.0</td>\n",
       "      <td>0.0</td>\n",
       "      <td>0.0</td>\n",
       "      <td>0</td>\n",
       "      <td>0.0</td>\n",
       "      <td>W</td>\n",
       "    </tr>\n",
       "    <tr>\n",
       "      <th>1</th>\n",
       "      <td>R239544414</td>\n",
       "      <td>M</td>\n",
       "      <td>0</td>\n",
       "      <td>1</td>\n",
       "      <td>47</td>\n",
       "      <td>397</td>\n",
       "      <td>1</td>\n",
       "      <td>0</td>\n",
       "      <td>1</td>\n",
       "      <td>0</td>\n",
       "      <td>...</td>\n",
       "      <td>0.0</td>\n",
       "      <td>1.0</td>\n",
       "      <td>2.0</td>\n",
       "      <td>19.0</td>\n",
       "      <td>0.0</td>\n",
       "      <td>0.0</td>\n",
       "      <td>0.0</td>\n",
       "      <td>0</td>\n",
       "      <td>54.0</td>\n",
       "      <td>W</td>\n",
       "    </tr>\n",
       "    <tr>\n",
       "      <th>2</th>\n",
       "      <td>R215940379</td>\n",
       "      <td>F</td>\n",
       "      <td>0</td>\n",
       "      <td>1</td>\n",
       "      <td>51</td>\n",
       "      <td>2738</td>\n",
       "      <td>0</td>\n",
       "      <td>1</td>\n",
       "      <td>1</td>\n",
       "      <td>1</td>\n",
       "      <td>...</td>\n",
       "      <td>0.0</td>\n",
       "      <td>0.0</td>\n",
       "      <td>0.0</td>\n",
       "      <td>0.0</td>\n",
       "      <td>0.0</td>\n",
       "      <td>0.0</td>\n",
       "      <td>0.0</td>\n",
       "      <td>0</td>\n",
       "      <td>14.0</td>\n",
       "      <td>W</td>\n",
       "    </tr>\n",
       "    <tr>\n",
       "      <th>3</th>\n",
       "      <td>R230872807</td>\n",
       "      <td>M</td>\n",
       "      <td>1</td>\n",
       "      <td>0</td>\n",
       "      <td>28</td>\n",
       "      <td>489</td>\n",
       "      <td>0</td>\n",
       "      <td>0</td>\n",
       "      <td>1</td>\n",
       "      <td>1</td>\n",
       "      <td>...</td>\n",
       "      <td>0.0</td>\n",
       "      <td>0.0</td>\n",
       "      <td>0.0</td>\n",
       "      <td>0.0</td>\n",
       "      <td>0.0</td>\n",
       "      <td>0.0</td>\n",
       "      <td>0.0</td>\n",
       "      <td>0</td>\n",
       "      <td>0.0</td>\n",
       "      <td>B</td>\n",
       "    </tr>\n",
       "    <tr>\n",
       "      <th>4</th>\n",
       "      <td>R227723582</td>\n",
       "      <td>F</td>\n",
       "      <td>0</td>\n",
       "      <td>1</td>\n",
       "      <td>41</td>\n",
       "      <td>1093</td>\n",
       "      <td>0</td>\n",
       "      <td>0</td>\n",
       "      <td>1</td>\n",
       "      <td>1</td>\n",
       "      <td>...</td>\n",
       "      <td>0.0</td>\n",
       "      <td>0.0</td>\n",
       "      <td>2.0</td>\n",
       "      <td>0.0</td>\n",
       "      <td>0.0</td>\n",
       "      <td>0.0</td>\n",
       "      <td>0.0</td>\n",
       "      <td>0</td>\n",
       "      <td>0.0</td>\n",
       "      <td>W</td>\n",
       "    </tr>\n",
       "  </tbody>\n",
       "</table>\n",
       "<p>5 rows × 100 columns</p>\n",
       "</div>"
      ],
      "text/plain": [
       "         GRID Gender  Race_B  Race_W  AGE  DURATION_BF2007  Smoking  \\\n",
       "0  R247513794      F       0       1   59             5411        1   \n",
       "1  R239544414      M       0       1   47              397        1   \n",
       "2  R215940379      F       0       1   51             2738        0   \n",
       "3  R230872807      M       1       0   28              489        0   \n",
       "4  R227723582      F       0       1   41             1093        0   \n",
       "\n",
       "   MAX_BMI_missing  MAX_VALUE_Chol_missing  MAX_VALUE_Creat_missing  ...  \\\n",
       "0                0                       0                        1  ...   \n",
       "1                0                       1                        0  ...   \n",
       "2                1                       1                        1  ...   \n",
       "3                0                       1                        1  ...   \n",
       "4                0                       1                        1  ...   \n",
       "\n",
       "   CNT_MedCode_4917  CNT_MedCode_5487  CNT_MedCode_5640  CNT_MedCode_6918  \\\n",
       "0               0.0               0.0               8.0               0.0   \n",
       "1               0.0               1.0               2.0              19.0   \n",
       "2               0.0               0.0               0.0               0.0   \n",
       "3               0.0               0.0               0.0               0.0   \n",
       "4               0.0               0.0               2.0               0.0   \n",
       "\n",
       "   CNT_MedCode_798302  CNT_MedCode_83367  CNT_MedCode_836  Class  \\\n",
       "0                 0.0                0.0              0.0      0   \n",
       "1                 0.0                0.0              0.0      0   \n",
       "2                 0.0                0.0              0.0      0   \n",
       "3                 0.0                0.0              0.0      0   \n",
       "4                 0.0                0.0              0.0      0   \n",
       "\n",
       "   HTN_DRUG_CNT  Race  \n",
       "0           0.0     W  \n",
       "1          54.0     W  \n",
       "2          14.0     W  \n",
       "3           0.0     B  \n",
       "4           0.0     W  \n",
       "\n",
       "[5 rows x 100 columns]"
      ]
     },
     "execution_count": 2,
     "metadata": {},
     "output_type": "execute_result"
    }
   ],
   "source": [
    "data_path='/Users/lifuchen/Desktop/research'\n",
    "df = pd.read_csv(path.join(data_path, 'framingham_data.csv'))\n",
    "print(df.shape)\n",
    "df.head()\n"
   ]
  },
  {
   "cell_type": "code",
   "execution_count": 10,
   "metadata": {},
   "outputs": [
    {
     "name": "stdout",
     "output_type": "stream",
     "text": [
      "after compute (109490, 101)\n",
      "[0.03338799 0.04103137 0.01992129 ... 0.2582554  0.08743225 0.03090266]\n",
      "109490\n",
      "[0. 1.]\n",
      "accuracy 0.7590282217554114\n",
      "roc AUC 0.7331418523781482\n",
      "precision 0.19187258112533492\n",
      "recall 0.5248371335504886\n",
      "ap 0.18518274016103173\n"
     ]
    },
    {
     "data": {
      "image/png": "[encoded data removed]",
      "text/plain": [
       "<Figure size 432x288 with 2 Axes>"
      ]
     },
     "metadata": {
      "needs_background": "light"
     },
     "output_type": "display_data"
    }
   ],
   "source": [
    "acc, roc, precision, recall, ap = predict_by_framingham(df)"
   ]
  },
  {
   "cell_type": "code",
   "execution_count": 11,
   "metadata": {},
   "outputs": [
    {
     "data": {
      "text/html": [
       "<div>\n",
       "<style scoped>\n",
       "    .dataframe tbody tr th:only-of-type {\n",
       "        vertical-align: middle;\n",
       "    }\n",
       "\n",
       "    .dataframe tbody tr th {\n",
       "        vertical-align: top;\n",
       "    }\n",
       "\n",
       "    .dataframe thead th {\n",
       "        text-align: right;\n",
       "    }\n",
       "</style>\n",
       "<table border=\"1\" class=\"dataframe\">\n",
       "  <thead>\n",
       "    <tr style=\"text-align: right;\">\n",
       "      <th></th>\n",
       "      <th>Unnamed: 0</th>\n",
       "      <th>GRID</th>\n",
       "      <th>Gender</th>\n",
       "      <th>Race_B</th>\n",
       "      <th>Race_W</th>\n",
       "      <th>AGE</th>\n",
       "      <th>DURATION_BF2007</th>\n",
       "      <th>Smoking</th>\n",
       "      <th>MAX_BMI_missing</th>\n",
       "      <th>MAX_VALUE_Chol_missing</th>\n",
       "      <th>...</th>\n",
       "      <th>CNT_MedCode_6918</th>\n",
       "      <th>CNT_MedCode_798302</th>\n",
       "      <th>CNT_MedCode_83367</th>\n",
       "      <th>CNT_MedCode_836</th>\n",
       "      <th>Class</th>\n",
       "      <th>HTN_DRUG_CNT</th>\n",
       "      <th>Race</th>\n",
       "      <th>frs</th>\n",
       "      <th>risk</th>\n",
       "      <th>predict</th>\n",
       "    </tr>\n",
       "  </thead>\n",
       "  <tbody>\n",
       "    <tr>\n",
       "      <th>0</th>\n",
       "      <td>0</td>\n",
       "      <td>R247513794</td>\n",
       "      <td>F</td>\n",
       "      <td>0</td>\n",
       "      <td>1</td>\n",
       "      <td>59</td>\n",
       "      <td>5411</td>\n",
       "      <td>1</td>\n",
       "      <td>0</td>\n",
       "      <td>0</td>\n",
       "      <td>...</td>\n",
       "      <td>0.0</td>\n",
       "      <td>0.0</td>\n",
       "      <td>0.0</td>\n",
       "      <td>0.0</td>\n",
       "      <td>0</td>\n",
       "      <td>0.0</td>\n",
       "      <td>W</td>\n",
       "      <td>-29.183407</td>\n",
       "      <td>0.033388</td>\n",
       "      <td>0.0</td>\n",
       "    </tr>\n",
       "    <tr>\n",
       "      <th>1</th>\n",
       "      <td>1</td>\n",
       "      <td>R239544414</td>\n",
       "      <td>M</td>\n",
       "      <td>0</td>\n",
       "      <td>1</td>\n",
       "      <td>47</td>\n",
       "      <td>397</td>\n",
       "      <td>1</td>\n",
       "      <td>0</td>\n",
       "      <td>1</td>\n",
       "      <td>...</td>\n",
       "      <td>19.0</td>\n",
       "      <td>0.0</td>\n",
       "      <td>0.0</td>\n",
       "      <td>0.0</td>\n",
       "      <td>0</td>\n",
       "      <td>54.0</td>\n",
       "      <td>W</td>\n",
       "      <td>60.421117</td>\n",
       "      <td>0.041031</td>\n",
       "      <td>0.0</td>\n",
       "    </tr>\n",
       "    <tr>\n",
       "      <th>2</th>\n",
       "      <td>2</td>\n",
       "      <td>R215940379</td>\n",
       "      <td>F</td>\n",
       "      <td>0</td>\n",
       "      <td>1</td>\n",
       "      <td>51</td>\n",
       "      <td>2738</td>\n",
       "      <td>0</td>\n",
       "      <td>1</td>\n",
       "      <td>1</td>\n",
       "      <td>...</td>\n",
       "      <td>0.0</td>\n",
       "      <td>0.0</td>\n",
       "      <td>0.0</td>\n",
       "      <td>0.0</td>\n",
       "      <td>0</td>\n",
       "      <td>14.0</td>\n",
       "      <td>W</td>\n",
       "      <td>-29.706701</td>\n",
       "      <td>0.019921</td>\n",
       "      <td>0.0</td>\n",
       "    </tr>\n",
       "    <tr>\n",
       "      <th>3</th>\n",
       "      <td>3</td>\n",
       "      <td>R230872807</td>\n",
       "      <td>M</td>\n",
       "      <td>1</td>\n",
       "      <td>0</td>\n",
       "      <td>28</td>\n",
       "      <td>489</td>\n",
       "      <td>0</td>\n",
       "      <td>0</td>\n",
       "      <td>1</td>\n",
       "      <td>...</td>\n",
       "      <td>0.0</td>\n",
       "      <td>0.0</td>\n",
       "      <td>0.0</td>\n",
       "      <td>0.0</td>\n",
       "      <td>0</td>\n",
       "      <td>0.0</td>\n",
       "      <td>B</td>\n",
       "      <td>17.399280</td>\n",
       "      <td>0.012906</td>\n",
       "      <td>0.0</td>\n",
       "    </tr>\n",
       "    <tr>\n",
       "      <th>4</th>\n",
       "      <td>4</td>\n",
       "      <td>R227723582</td>\n",
       "      <td>F</td>\n",
       "      <td>0</td>\n",
       "      <td>1</td>\n",
       "      <td>41</td>\n",
       "      <td>1093</td>\n",
       "      <td>0</td>\n",
       "      <td>0</td>\n",
       "      <td>1</td>\n",
       "      <td>...</td>\n",
       "      <td>0.0</td>\n",
       "      <td>0.0</td>\n",
       "      <td>0.0</td>\n",
       "      <td>0.0</td>\n",
       "      <td>0</td>\n",
       "      <td>0.0</td>\n",
       "      <td>W</td>\n",
       "      <td>-31.220169</td>\n",
       "      <td>0.004420</td>\n",
       "      <td>0.0</td>\n",
       "    </tr>\n",
       "  </tbody>\n",
       "</table>\n",
       "<p>5 rows × 104 columns</p>\n",
       "</div>"
      ],
      "text/plain": [
       "   Unnamed: 0        GRID Gender  Race_B  Race_W  AGE  DURATION_BF2007  \\\n",
       "0           0  R247513794      F       0       1   59             5411   \n",
       "1           1  R239544414      M       0       1   47              397   \n",
       "2           2  R215940379      F       0       1   51             2738   \n",
       "3           3  R230872807      M       1       0   28              489   \n",
       "4           4  R227723582      F       0       1   41             1093   \n",
       "\n",
       "   Smoking  MAX_BMI_missing  MAX_VALUE_Chol_missing  ...  CNT_MedCode_6918  \\\n",
       "0        1                0                       0  ...               0.0   \n",
       "1        1                0                       1  ...              19.0   \n",
       "2        0                1                       1  ...               0.0   \n",
       "3        0                0                       1  ...               0.0   \n",
       "4        0                0                       1  ...               0.0   \n",
       "\n",
       "   CNT_MedCode_798302  CNT_MedCode_83367  CNT_MedCode_836  Class  \\\n",
       "0                 0.0                0.0              0.0      0   \n",
       "1                 0.0                0.0              0.0      0   \n",
       "2                 0.0                0.0              0.0      0   \n",
       "3                 0.0                0.0              0.0      0   \n",
       "4                 0.0                0.0              0.0      0   \n",
       "\n",
       "   HTN_DRUG_CNT  Race        frs      risk  predict  \n",
       "0           0.0     W -29.183407  0.033388      0.0  \n",
       "1          54.0     W  60.421117  0.041031      0.0  \n",
       "2          14.0     W -29.706701  0.019921      0.0  \n",
       "3           0.0     B  17.399280  0.012906      0.0  \n",
       "4           0.0     W -31.220169  0.004420      0.0  \n",
       "\n",
       "[5 rows x 104 columns]"
      ]
     },
     "execution_count": 11,
     "metadata": {},
     "output_type": "execute_result"
    }
   ],
   "source": [
    "df_2 = pd.read_csv(path.join(DATA_PATH, 'framingham_result.csv'))\n",
    "df_2.head()"
   ]
  },
  {
   "cell_type": "code",
   "execution_count": 12,
   "metadata": {},
   "outputs": [],
   "source": [
    "grouped = df_2.groupby(df_2.Race)\n",
    "df_2_white = grouped.get_group(\"W\")\n",
    "df_2_black = grouped.get_group(\"B\")"
   ]
  },
  {
   "cell_type": "code",
   "execution_count": 13,
   "metadata": {},
   "outputs": [
    {
     "data": {
      "text/plain": [
       "4109"
      ]
     },
     "execution_count": 13,
     "metadata": {},
     "output_type": "execute_result"
    },
    {
     "data": {
      "image/png": "[encoded data removed]",
      "text/plain": [
       "<Figure size 432x288 with 2 Axes>"
      ]
     },
     "metadata": {
      "needs_background": "light"
     },
     "output_type": "display_data"
    }
   ],
   "source": [
    "cm = confusion_matrix(df_2_white['Class'].values,df_2_white['predict'].values)\n",
    "cm_display = ConfusionMatrixDisplay(cm).plot()\n",
    "cm[1,0]"
   ]
  },
  {
   "cell_type": "code",
   "execution_count": 14,
   "metadata": {},
   "outputs": [
    {
     "name": "stdout",
     "output_type": "stream",
     "text": [
      "roc AUC 0.6516132469305784\n"
     ]
    }
   ],
   "source": [
    "print('roc AUC', roc_auc_score(df_2_white['Class'].values,df_2_white['predict'].values))"
   ]
  },
  {
   "cell_type": "code",
   "execution_count": 15,
   "metadata": {},
   "outputs": [
    {
     "data": {
      "text/plain": [
       "10419"
      ]
     },
     "execution_count": 15,
     "metadata": {},
     "output_type": "execute_result"
    },
    {
     "data": {
      "image/png": "[encoded data removed]",
      "text/plain": [
       "<Figure size 432x288 with 2 Axes>"
      ]
     },
     "metadata": {
      "needs_background": "light"
     },
     "output_type": "display_data"
    }
   ],
   "source": [
    "cm2 = confusion_matrix(df_2_black['Class'].values,df_2_black['predict'].values)\n",
    "cm_display = ConfusionMatrixDisplay(cm2).plot()\n",
    "cm2[0,0]"
   ]
  },
  {
   "cell_type": "code",
   "execution_count": 16,
   "metadata": {},
   "outputs": [
    {
     "name": "stdout",
     "output_type": "stream",
     "text": [
      "roc AUC 0.6660859986019956\n"
     ]
    }
   ],
   "source": [
    "print('roc AUC', roc_auc_score(df_2_black['Class'].values,df_2_black['predict'].values))"
   ]
  },
  {
   "cell_type": "code",
   "execution_count": 17,
   "metadata": {},
   "outputs": [],
   "source": [
    "grouped_2 = df_2.groupby(df_2.Gender)\n",
    "df_2_male = grouped_2.get_group(\"M\")\n",
    "df_2_female = grouped_2.get_group(\"F\")"
   ]
  },
  {
   "cell_type": "code",
   "execution_count": 18,
   "metadata": {},
   "outputs": [
    {
     "name": "stdout",
     "output_type": "stream",
     "text": [
      "roc AUC 0.6581322870679354\n"
     ]
    }
   ],
   "source": [
    "print('roc AUC', roc_auc_score(df_2_male['Class'].values,df_2_male['predict'].values))"
   ]
  },
  {
   "cell_type": "code",
   "execution_count": 19,
   "metadata": {},
   "outputs": [
    {
     "name": "stdout",
     "output_type": "stream",
     "text": [
      "roc AUC 0.6356554827340459\n"
     ]
    }
   ],
   "source": [
    "print('roc AUC', roc_auc_score(df_2_female['Class'].values,df_2_female['predict'].values))"
   ]
  },
  {
   "cell_type": "code",
   "execution_count": 20,
   "metadata": {},
   "outputs": [
    {
     "name": "stdout",
     "output_type": "stream",
     "text": [
      "threshold:0.0, J-value:0.0\n",
      "threshold:0.1, J-value:0.30300000000000005\n",
      "threshold:0.2, J-value:0.30300000000000005\n",
      "threshold:0.30000000000000004, J-value:0.30300000000000005\n",
      "threshold:0.4, J-value:0.30300000000000005\n",
      "threshold:0.5, J-value:0.30300000000000005\n",
      "threshold:0.6000000000000001, J-value:0.30300000000000005\n",
      "threshold:0.7000000000000001, J-value:0.30300000000000005\n",
      "threshold:0.8, J-value:0.30300000000000005\n",
      "threshold:0.9, J-value:0.30300000000000005\n",
      "True positive rate of class 1 is  0.518\n",
      "threshold:0.0, J-value:0.0\n",
      "threshold:0.1, J-value:0.33299999999999996\n",
      "threshold:0.2, J-value:0.33299999999999996\n",
      "threshold:0.30000000000000004, J-value:0.33299999999999996\n",
      "threshold:0.4, J-value:0.33299999999999996\n",
      "threshold:0.5, J-value:0.33299999999999996\n",
      "threshold:0.6000000000000001, J-value:0.33299999999999996\n",
      "threshold:0.7000000000000001, J-value:0.33299999999999996\n",
      "threshold:0.8, J-value:0.33299999999999996\n",
      "threshold:0.9, J-value:0.33299999999999996\n",
      "True positive rate of class 2 is  0.571\n"
     ]
    },
    {
     "data": {
      "text/plain": [
       "-0.052999999999999936"
      ]
     },
     "execution_count": 20,
     "metadata": {},
     "output_type": "execute_result"
    }
   ],
   "source": [
    "eod_race = fair.get_EOD(df_2_white['Class'].values,df_2_white['predict'].values,df_2_black['Class'].values,df_2_black['predict'].values)\n",
    "eod_race"
   ]
  },
  {
   "cell_type": "code",
   "execution_count": 21,
   "metadata": {},
   "outputs": [
    {
     "name": "stdout",
     "output_type": "stream",
     "text": [
      "threshold:0.0, J-value:0.0\n",
      "threshold:0.1, J-value:0.30300000000000005\n",
      "threshold:0.2, J-value:0.30300000000000005\n",
      "threshold:0.30000000000000004, J-value:0.30300000000000005\n",
      "threshold:0.4, J-value:0.30300000000000005\n",
      "threshold:0.5, J-value:0.30300000000000005\n",
      "threshold:0.6000000000000001, J-value:0.30300000000000005\n",
      "threshold:0.7000000000000001, J-value:0.30300000000000005\n",
      "threshold:0.8, J-value:0.30300000000000005\n",
      "threshold:0.9, J-value:0.30300000000000005\n",
      "Positive prediction rate of class 1 is  0.242\n",
      "threshold:0.0, J-value:0.0\n",
      "threshold:0.1, J-value:0.33299999999999996\n",
      "threshold:0.2, J-value:0.33299999999999996\n",
      "threshold:0.30000000000000004, J-value:0.33299999999999996\n",
      "threshold:0.4, J-value:0.33299999999999996\n",
      "threshold:0.5, J-value:0.33299999999999996\n",
      "threshold:0.6000000000000001, J-value:0.33299999999999996\n",
      "threshold:0.7000000000000001, J-value:0.33299999999999996\n",
      "threshold:0.8, J-value:0.33299999999999996\n",
      "threshold:0.9, J-value:0.33299999999999996\n",
      "Positive prediction rate of class 2 is  0.267\n"
     ]
    },
    {
     "data": {
      "text/plain": [
       "0.9063670411985018"
      ]
     },
     "execution_count": 21,
     "metadata": {},
     "output_type": "execute_result"
    }
   ],
   "source": [
    "sp_race = fair.get_SP(df_2_white['Class'].values,df_2_white['predict'].values,df_2_black['Class'].values,df_2_black['predict'].values)\n",
    "sp_race"
   ]
  },
  {
   "cell_type": "code",
   "execution_count": 22,
   "metadata": {},
   "outputs": [
    {
     "name": "stdout",
     "output_type": "stream",
     "text": [
      "threshold:0.0, J-value:0.0\n",
      "threshold:0.1, J-value:0.316\n",
      "threshold:0.2, J-value:0.316\n",
      "threshold:0.30000000000000004, J-value:0.316\n",
      "threshold:0.4, J-value:0.316\n",
      "threshold:0.5, J-value:0.316\n",
      "threshold:0.6000000000000001, J-value:0.316\n",
      "threshold:0.7000000000000001, J-value:0.316\n",
      "threshold:0.8, J-value:0.316\n",
      "threshold:0.9, J-value:0.316\n",
      "True positive rate of class 1 is  0.658\n",
      "threshold:0.0, J-value:0.0\n",
      "threshold:0.1, J-value:0.271\n",
      "threshold:0.2, J-value:0.271\n",
      "threshold:0.30000000000000004, J-value:0.271\n",
      "threshold:0.4, J-value:0.271\n",
      "threshold:0.5, J-value:0.271\n",
      "threshold:0.6000000000000001, J-value:0.271\n",
      "threshold:0.7000000000000001, J-value:0.271\n",
      "threshold:0.8, J-value:0.271\n",
      "threshold:0.9, J-value:0.271\n",
      "True positive rate of class 2 is  0.423\n"
     ]
    },
    {
     "data": {
      "text/plain": [
       "0.23500000000000004"
      ]
     },
     "execution_count": 22,
     "metadata": {},
     "output_type": "execute_result"
    }
   ],
   "source": [
    "eod_gender = fair.get_EOD(df_2_male['Class'].values,df_2_male['predict'].values,df_2_female['Class'].values,df_2_female['predict'].values)\n",
    "eod_gender"
   ]
  },
  {
   "cell_type": "code",
   "execution_count": 23,
   "metadata": {
    "pycharm": {
     "name": "#%%\n"
    }
   },
   "outputs": [
    {
     "name": "stdout",
     "output_type": "stream",
     "text": [
      "threshold:0.0, J-value:0.0\n",
      "threshold:0.1, J-value:0.316\n",
      "threshold:0.2, J-value:0.316\n",
      "threshold:0.30000000000000004, J-value:0.316\n",
      "threshold:0.4, J-value:0.316\n",
      "threshold:0.5, J-value:0.316\n",
      "threshold:0.6000000000000001, J-value:0.316\n",
      "threshold:0.7000000000000001, J-value:0.316\n",
      "threshold:0.8, J-value:0.316\n",
      "threshold:0.9, J-value:0.316\n",
      "Positive prediction rate of class 1 is  0.376\n",
      "threshold:0.0, J-value:0.0\n",
      "threshold:0.1, J-value:0.271\n",
      "threshold:0.2, J-value:0.271\n",
      "threshold:0.30000000000000004, J-value:0.271\n",
      "threshold:0.4, J-value:0.271\n",
      "threshold:0.5, J-value:0.271\n",
      "threshold:0.6000000000000001, J-value:0.271\n",
      "threshold:0.7000000000000001, J-value:0.271\n",
      "threshold:0.8, J-value:0.271\n",
      "threshold:0.9, J-value:0.271\n",
      "Positive prediction rate of class 2 is  0.173\n"
     ]
    },
    {
     "data": {
      "text/plain": [
       "2.1734104046242777"
      ]
     },
     "execution_count": 23,
     "metadata": {},
     "output_type": "execute_result"
    }
   ],
   "source": [
    "sp_gender = fair.get_SP(df_2_male['Class'].values,df_2_male['predict'].values,df_2_female['Class'].values,df_2_female['predict'].values)\n",
    "sp_gender"
   ]
  },
  {
   "cell_type": "code",
   "execution_count": null,
   "metadata": {
    "pycharm": {
     "name": "#%%\n"
    }
   },
   "outputs": [],
   "source": [
    "def predict_by_framingham_sample(df: object, reset_index: object = False) -> object:\n",
    "    # if the input df is cross validation split, need to reset index\n",
    "    if reset_index:\n",
    "        df.reset_index(drop=True)\n",
    "    y = df.Class.values\n",
    "    df = compute_ind_frs(df)\n",
    "    print(\"after compute\", df.shape)\n",
    "    x = df[(df['Gender'] == 'F') & (df['Race'] == 'W')]['frs']\n",
    "\n",
    "    mean_frs_women_w = np.mean(df[(df['Gender']=='F') & (df['Race']=='W')]['frs'])\n",
    "    mean_frs_women_b = np.mean(df[(df['Gender']=='F') & (df['Race']=='B')]['frs'])\n",
    "    mean_frs_men_w = np.mean(df[(df['Gender']=='M') & (df['Race']=='W')]['frs'])\n",
    "    mean_frs_men_b = np.mean(df[(df['Gender']=='M') & (df['Race']=='B')]['frs'])\n",
    "    print(mean_frs_women_w)\n",
    "    print(mean_frs_women_b)\n",
    "    print(mean_frs_men_w)\n",
    "    print(mean_frs_men_b)\n",
    "    risk_list = []\n",
    "    for index, row in df.iterrows():\n",
    "        gender = row['Gender']\n",
    "        race = row['Race']\n",
    "        risk = 0\n",
    "\n",
    "        if gender == 'F':\n",
    "            if race == 'W':\n",
    "                risk = aha_frs_cvd.estimiate_risk(ind_frs=row['frs'], mean_frs=mean_frs_women_w, gender='F', race='W')\n",
    "            elif race == 'B':\n",
    "                risk = aha_frs_cvd.estimiate_risk(ind_frs=row['frs'], mean_frs=mean_frs_women_b, gender='F', race='B')\n",
    "            else:\n",
    "                print('1',race)\n",
    "        elif gender == 'M':\n",
    "            if race == 'W':\n",
    "                risk = aha_frs_cvd.estimiate_risk(ind_frs=row['frs'], mean_frs=mean_frs_men_w, gender='M', race='W')\n",
    "            elif race == 'B':\n",
    "                risk = aha_frs_cvd.estimiate_risk(ind_frs=row['frs'], mean_frs=mean_frs_men_b, gender='M', race='B')\n",
    "            else:\n",
    "                print('2', race)\n",
    "        else:\n",
    "            print('3', gender)\n",
    "        # if np.isnan(risk):\n",
    "        #     print(index)\n",
    "\n",
    "        risk_list.append(risk)\n",
    "    df['risk'] = pd.Series(risk_list)\n",
    "    print(df.risk.unique())\n",
    "    print(len(risk_list))\n",
    "    df.loc[df['risk'] > 0.075, 'predict'] = 1\n",
    "    df.loc[df['risk'] <= 0.075, 'predict'] = 0\n",
    "\n",
    "    cm = confusion_matrix(y,df['predict'].values)\n",
    "    cm_display = ConfusionMatrixDisplay(cm).plot()\n",
    "\n",
    "    print(df.predict.unique())\n",
    "    #save the interim output\n",
    "    df.to_csv(path.join(DATA_PATH, 'framingham_by_sample_result.csv'))\n",
    "\n",
    "    print('accuracy', accuracy_score(y, df['predict'].values))\n",
    "    print('roc AUC', roc_auc_score(y, df['risk'].values))\n",
    "    print('precision', precision_score(y, df['predict'].values))\n",
    "    print('recall', recall_score(y, df['predict'].values))\n",
    "    print(\"ap\", average_precision_score(y, df['risk'].values))\n",
    "\n",
    "    return accuracy_score(y, df['predict'].values), roc_auc_score(y, df['risk'].values), \\\n",
    "           precision_score(y, df['predict'].values), recall_score(y, df['predict'].values), \\\n",
    "           average_precision_score(y, df['risk'].values)"
   ]
  },
  {
   "cell_type": "code",
   "execution_count": null,
   "metadata": {
    "pycharm": {
     "name": "#%%\n"
    }
   },
   "outputs": [],
   "source": [
    "acc, roc, precision, recall, ap = predict_by_framingham_sample(df)"
   ]
  },
  {
   "cell_type": "code",
   "execution_count": null,
   "metadata": {
    "pycharm": {
     "name": "#%%\n"
    }
   },
   "outputs": [],
   "source": [
    "df_3 = pd.read_csv(path.join(DATA_PATH, 'framingham_by_sample_result.csv'))\n",
    "df_3.head()"
   ]
  },
  {
   "cell_type": "code",
   "execution_count": null,
   "metadata": {
    "pycharm": {
     "name": "#%%\n"
    }
   },
   "outputs": [],
   "source": [
    "grouped_sample = df_3.groupby(df_2.Race)\n",
    "df_3_white = grouped_sample.get_group(\"W\")\n",
    "df_3_black = grouped_sample.get_group(\"B\")\n",
    "grouped_sample_2 = df_3.groupby(df_2.Gender)\n",
    "df_3_male = grouped_sample_2.get_group(\"M\")\n",
    "df_3_female = grouped_sample_2.get_group(\"F\")"
   ]
  },
  {
   "cell_type": "code",
   "execution_count": null,
   "metadata": {
    "pycharm": {
     "name": "#%%\n"
    }
   },
   "outputs": [],
   "source": [
    "print('roc AUC', roc_auc_score(df_3_white['Class'].values,df_3_white['predict'].values))\n",
    "print('roc AUC', roc_auc_score(df_3_black['Class'].values,df_3_black['predict'].values))\n",
    "print('roc AUC', roc_auc_score(df_3_male['Class'].values,df_3_male['predict'].values))\n",
    "print('roc AUC', roc_auc_score(df_3_female['Class'].values,df_3_female['predict'].values))"
   ]
  },
  {
   "cell_type": "code",
   "execution_count": null,
   "metadata": {
    "pycharm": {
     "name": "#%%\n"
    }
   },
   "outputs": [],
   "source": [
    "eod_race_sample = fair.get_EOD(df_3_white['Class'].values,df_3_white['predict'].values,df_3_black['Class'].values,df_3_black['predict'].values)\n",
    "eod_race_sample"
   ]
  },
  {
   "cell_type": "code",
   "execution_count": null,
   "metadata": {
    "pycharm": {
     "name": "#%%\n"
    }
   },
   "outputs": [],
   "source": [
    "sp_race_sample = fair.get_SP(df_3_white['Class'].values,df_3_white['predict'].values,df_3_black['Class'].values,df_3_black['predict'].values)\n",
    "sp_race_sample"
   ]
  },
  {
   "cell_type": "code",
   "execution_count": null,
   "metadata": {
    "pycharm": {
     "name": "#%%\n"
    }
   },
   "outputs": [],
   "source": [
    "eod_gender_sample = fair.get_EOD(df_3_male['Class'].values,df_3_male['predict'].values,df_3_female['Class'].values,df_3_female['predict'].values)\n",
    "eod_gender_sample"
   ]
  },
  {
   "cell_type": "code",
   "execution_count": null,
   "metadata": {
    "pycharm": {
     "name": "#%%\n"
    }
   },
   "outputs": [],
   "source": [
    "sp_gender_sample = fair.get_SP(df_3_male['Class'].values,df_3_male['predict'].values,df_3_female['Class'].values,df_3_female['predict'].values)\n",
    "sp_gender_sample\n"
   ]
  }
 ],
 "metadata": {
  "kernelspec": {
   "display_name": "PyCharm (CVDPrediction-master)",
   "language": "python",
   "name": "pycharm-6defbc71"
  },
  "language_info": {
   "codemirror_mode": {
    "name": "ipython",
    "version": 3
   },
   "file_extension": ".py",
   "mimetype": "text/x-python",
   "name": "python",
   "nbconvert_exporter": "python",
   "pygments_lexer": "ipython3",
   "version": "3.8.3"
  }
 },
 "nbformat": 4,
 "nbformat_minor": 4
}
