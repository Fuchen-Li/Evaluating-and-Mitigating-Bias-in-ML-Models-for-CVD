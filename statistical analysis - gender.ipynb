{
 "cells": [
  {
   "cell_type": "code",
   "execution_count": 2,
   "metadata": {},
   "outputs": [],
   "source": [
    "from os import path\n",
    "\n",
    "import scipy.stats as stats\n",
    "\n",
    "import pandas as pd\n",
    "import seaborn as sns\n",
    "import numpy as np"
   ]
  },
  {
   "cell_type": "code",
   "execution_count": 3,
   "metadata": {},
   "outputs": [],
   "source": [
    "data_path='/Users/lifuchen/Desktop/research/resample_data'\n",
    "\n",
    "gender_lr = pd.read_csv(path.join(data_path,'gender-lr-result_no_protected.csv'))\n",
    "gender_rf = pd.read_csv(path.join(data_path,'gender-rf-result_no_protected.csv'))\n",
    "gender_dt = pd.read_csv(path.join(data_path,'gender-dt-result_no_protected.csv'))\n",
    "gender_gbt = pd.read_csv(path.join(data_path,'gender-gbt-result_no_protected.csv'))\n",
    "\n",
    "gender_lr_exclude_gender = pd.read_csv(path.join(data_path,'gender-lr-result.csv'))\n",
    "gender_rf_exclude_gender = pd.read_csv(path.join(data_path,'gender-rf-result.csv'))\n",
    "gender_dt_exclude_gender = pd.read_csv(path.join(data_path,'gender-dt-result.csv'))\n",
    "gender_gbt_exclude_gender = pd.read_csv(path.join(data_path,'gender-gbt-result.csv'))\n",
    "\n",
    "gender_lr_size = pd.read_csv(path.join(data_path,'gender-lr-resample-size-result.csv'))\n",
    "gender_rf_size = pd.read_csv(path.join(data_path,'gender-rf-resample-size-result.csv'))\n",
    "gender_dt_size = pd.read_csv(path.join(data_path,'gender-dt-resample-size-result.csv'))\n",
    "gender_gbt_size = pd.read_csv(path.join(data_path,'gender-gbt-resample-size-result.csv'))\n",
    "\n",
    "gender_lr_proportion = pd.read_csv(path.join(data_path,'gender-lr-resample-proportion-result.csv'))\n",
    "gender_rf_proportion = pd.read_csv(path.join(data_path,'gender-rf-resample-proportion-result.csv'))\n",
    "gender_dt_proportion = pd.read_csv(path.join(data_path,'gender-dt-resample-proportion-result.csv'))\n",
    "gender_gbt_proportion = pd.read_csv(path.join(data_path,'gender-gbt-resample-proportion-result.csv'))"
   ]
  },
  {
   "cell_type": "code",
   "execution_count": 3,
   "metadata": {},
   "outputs": [
    {
     "name": "stdout",
     "output_type": "stream",
     "text": [
      "EOD\n",
      "Ttest_1sampResult(statistic=19.91477167434066, pvalue=4.212952957548194e-08)\n",
      "Ttest_1sampResult(statistic=17.896793865073867, pvalue=9.737274594761257e-08)\n",
      "Ttest_1sampResult(statistic=5.944507275947261, pvalue=0.00034409030981526336)\n",
      "Ttest_1sampResult(statistic=19.8000448347199, pvalue=4.408598098382994e-08)\n",
      "DI\n",
      "Ttest_1sampResult(statistic=33.19977020718369, pvalue=7.393158771949926e-10)\n",
      "Ttest_1sampResult(statistic=29.55664948853788, pvalue=1.860899903775313e-09)\n",
      "Ttest_1sampResult(statistic=10.967128061000674, pvalue=4.243680370476083e-06)\n",
      "Ttest_1sampResult(statistic=32.73553206921555, pvalue=8.268631079915649e-10)\n"
     ]
    }
   ],
   "source": [
    "# this part tests whether there is significant bias\n",
    "print(\"EOD\")\n",
    "print(stats.ttest_1samp(gender_lr['eod'][1:10], 0))\n",
    "print(stats.ttest_1samp(gender_rf['eod'][1:10], 0))\n",
    "print(stats.ttest_1samp(gender_dt['eod'][1:10], 0))\n",
    "print(stats.ttest_1samp(gender_gbt['eod'][1:10], 0))\n",
    "\n",
    "print(\"DI\")\n",
    "print(stats.ttest_1samp(gender_lr['di'][1:10], 1))\n",
    "print(stats.ttest_1samp(gender_rf['di'][1:10], 1))\n",
    "print(stats.ttest_1samp(gender_dt['di'][1:10], 1))\n",
    "print(stats.ttest_1samp(gender_gbt['di'][1:10], 1))"
   ]
  },
  {
   "cell_type": "code",
   "execution_count": 4,
   "metadata": {},
   "outputs": [
    {
     "name": "stdout",
     "output_type": "stream",
     "text": [
      "change of EOD by removing protected attribute\n",
      "Ttest_relResult(statistic=16.856040605402722, pvalue=1.5550707957431096e-07)\n",
      "Ttest_relResult(statistic=1.549754691282804, pvalue=0.15979522365129478)\n",
      "Ttest_relResult(statistic=-1.0, pvalue=0.34659350708733416)\n",
      "Ttest_relResult(statistic=0.8276058886023671, pvalue=0.4318866425787675)\n",
      "change of DI by removing protected attribute\n",
      "Ttest_relResult(statistic=28.923482883709884, pvalue=2.2096932316295803e-09)\n",
      "Ttest_relResult(statistic=1.0391494220740696, pvalue=0.32911985063899)\n",
      "Ttest_relResult(statistic=nan, pvalue=nan)\n",
      "Ttest_relResult(statistic=2.070450899144988, pvalue=0.07217848998402195)\n"
     ]
    }
   ],
   "source": [
    "# this part is to test if excluding protected attribute can reduce bias in terms of EOD and DI \n",
    "print ('change of EOD by removing protected attribute')\n",
    "print(stats.ttest_rel(gender_lr['eod'][1:10], gender_lr_exclude_gender['eod'][1:10]))\n",
    "print(stats.ttest_rel(gender_rf['eod'][1:10], gender_rf_exclude_gender['eod'][1:10]))\n",
    "print(stats.ttest_rel(gender_dt['eod'][1:10], gender_dt_exclude_gender['eod'][1:10]))\n",
    "print(stats.ttest_rel(gender_gbt['eod'][1:10], gender_gbt_exclude_gender['eod'][1:10]))\n",
    "\n",
    "\n",
    "print ('change of DI by removing protected attribute')\n",
    "print(stats.ttest_rel(gender_lr['di'][1:10], gender_lr_exclude_gender['di'][1:10]))\n",
    "print(stats.ttest_rel(gender_rf['di'][1:10], gender_rf_exclude_gender['di'][1:10]))\n",
    "print(stats.ttest_rel(gender_dt['di'][1:10], gender_dt_exclude_gender['di'][1:10]))\n",
    "print(stats.ttest_rel(gender_gbt['di'][1:10], gender_gbt_exclude_gender['di'][1:10]))"
   ]
  },
  {
   "cell_type": "code",
   "execution_count": 5,
   "metadata": {},
   "outputs": [
    {
     "name": "stdout",
     "output_type": "stream",
     "text": [
      "change of EOD by resampling by size\n",
      "Ttest_relResult(statistic=21.386343355150228, pvalue=2.4044270249962738e-08)\n",
      "Ttest_relResult(statistic=11.347676680571698, pvalue=3.278539569403727e-06)\n",
      "Ttest_relResult(statistic=-0.20758193580220516, pvalue=0.84074220353421)\n",
      "Ttest_relResult(statistic=20.900983235060153, pvalue=2.8807630718259326e-08)\n",
      "change of DI by resampling by size\n",
      "Ttest_relResult(statistic=62.527663150513646, pvalue=4.7582200030826e-12)\n",
      "Ttest_relResult(statistic=26.11004706221368, pvalue=4.971815158760135e-09)\n",
      "Ttest_relResult(statistic=-1.087152688118703, pvalue=0.308635931600146)\n",
      "Ttest_relResult(statistic=30.761445944557362, pvalue=1.3551918101133876e-09)\n"
     ]
    }
   ],
   "source": [
    "# this part is to test if resampling by size can reduce bias in terms of EOD and DI \n",
    "print ('change of EOD by resampling by size')\n",
    "print(stats.ttest_rel(gender_lr['eod'][1:10], gender_lr_size['eod'][1:10]))\n",
    "print(stats.ttest_rel(gender_rf['eod'][1:10], gender_rf_size['eod'][1:10]))\n",
    "print(stats.ttest_rel(gender_dt['eod'][1:10], gender_dt_size['eod'][1:10]))\n",
    "print(stats.ttest_rel(gender_gbt['eod'][1:10], gender_gbt_size['eod'][1:10]))\n",
    "\n",
    "print ('change of DI by resampling by size')\n",
    "print(stats.ttest_rel(gender_lr['di'][1:10], gender_lr_size['di'][1:10]))\n",
    "print(stats.ttest_rel(gender_rf['di'][1:10], gender_rf_size['di'][1:10]))\n",
    "print(stats.ttest_rel(gender_dt['di'][1:10], gender_dt_size['di'][1:10]))\n",
    "print(stats.ttest_rel(gender_gbt['di'][1:10], gender_gbt_size['di'][1:10]))"
   ]
  },
  {
   "cell_type": "code",
   "execution_count": 6,
   "metadata": {},
   "outputs": [
    {
     "name": "stdout",
     "output_type": "stream",
     "text": [
      "change of EOD by resampling by proportion\n",
      "Ttest_relResult(statistic=25.643843571305023, pvalue=5.733844665043497e-09)\n",
      "Ttest_relResult(statistic=11.112846700151893, pvalue=3.840860227125424e-06)\n",
      "Ttest_relResult(statistic=0.23030503251804788, pvalue=0.8236347492255088)\n",
      "Ttest_relResult(statistic=16.31874012924081, pvalue=2.0018755201176725e-07)\n",
      "change of EOD by resampling by proportion\n",
      "Ttest_relResult(statistic=34.30681046169267, pvalue=5.696177325968472e-10)\n",
      "Ttest_relResult(statistic=24.71407985751041, pvalue=7.679185881138401e-09)\n",
      "Ttest_relResult(statistic=1.2802218268870431, pvalue=0.23633817726049294)\n",
      "Ttest_relResult(statistic=30.906129953012876, pvalue=1.3056301689939206e-09)\n"
     ]
    }
   ],
   "source": [
    "# this part is to test if resampling by proportion can reduce bias in terms of EOD and DI \n",
    "print ('change of EOD by resampling by proportion')\n",
    "print(stats.ttest_rel(gender_lr['eod'][1:10], gender_lr_proportion['eod'][1:10]))\n",
    "print(stats.ttest_rel(gender_rf['eod'][1:10], gender_rf_proportion['eod'][1:10]))\n",
    "print(stats.ttest_rel(gender_dt['eod'][1:10], gender_dt_proportion['eod'][1:10]))\n",
    "print(stats.ttest_rel(gender_gbt['eod'][1:10], gender_gbt_proportion['eod'][1:10]))\n",
    "\n",
    "print ('change of EOD by resampling by proportion')\n",
    "print(stats.ttest_rel(gender_lr['di'][1:10], gender_lr_proportion['di'][1:10]))\n",
    "print(stats.ttest_rel(gender_rf['di'][1:10], gender_rf_proportion['di'][1:10]))\n",
    "print(stats.ttest_rel(gender_dt['di'][1:10], gender_dt_proportion['di'][1:10]))\n",
    "print(stats.ttest_rel(gender_gbt['di'][1:10], gender_gbt_proportion['di'][1:10]))"
   ]
  },
  {
   "cell_type": "code",
   "execution_count": 7,
   "metadata": {},
   "outputs": [
    {
     "name": "stdout",
     "output_type": "stream",
     "text": [
      "change of auroc\n",
      "original vs. removing protected attribute\n",
      "Ttest_relResult(statistic=2.7159837827290287, pvalue=0.026412353571087687)\n",
      "Ttest_relResult(statistic=0.021963697557412613, pvalue=0.9830148556208969)\n",
      "Ttest_relResult(statistic=-0.7079482019363332, pvalue=0.49908067316791727)\n",
      "Ttest_relResult(statistic=1.0030250675118018, pvalue=0.3452185328699012)\n",
      "original vs. resampling by size\n",
      "Ttest_relResult(statistic=6.1159889218000565, pvalue=0.0002844201137002221)\n",
      "Ttest_relResult(statistic=1.0134988557944735, pvalue=0.3404900550717628)\n",
      "Ttest_relResult(statistic=0.0898103487586446, pvalue=0.9306457246027534)\n",
      "Ttest_relResult(statistic=3.7656557993676043, pvalue=0.0054996796787181255)\n",
      "original vs. resampling by proportion\n",
      "Ttest_relResult(statistic=14.339268238048458, pvalue=5.461424207507328e-07)\n",
      "Ttest_relResult(statistic=9.948368737107359, pvalue=8.822533752896947e-06)\n",
      "Ttest_relResult(statistic=4.773857187732138, pvalue=0.0014016621460133576)\n",
      "Ttest_relResult(statistic=12.313861262003517, pvalue=1.7605330254523437e-06)\n"
     ]
    }
   ],
   "source": [
    "print ('change of auroc')\n",
    "print ('original vs. removing protected attribute')\n",
    "print(stats.ttest_rel(gender_lr['auroc'][1:10], gender_lr_exclude_gender['auroc'][1:10]))\n",
    "print(stats.ttest_rel(gender_rf['auroc'][1:10], gender_rf_exclude_gender['auroc'][1:10]))\n",
    "print(stats.ttest_rel(gender_dt['auroc'][1:10], gender_dt_exclude_gender['auroc'][1:10]))\n",
    "print(stats.ttest_rel(gender_gbt['auroc'][1:10], gender_gbt_exclude_gender['auroc'][1:10]))\n",
    "\n",
    "print ('original vs. resampling by size')\n",
    "print(stats.ttest_rel(gender_lr['auroc'][1:10], gender_lr_size['auroc'][1:10]))\n",
    "print(stats.ttest_rel(gender_rf['auroc'][1:10], gender_rf_size['auroc'][1:10]))\n",
    "print(stats.ttest_rel(gender_dt['auroc'][1:10], gender_dt_size['auroc'][1:10]))\n",
    "print(stats.ttest_rel(gender_gbt['auroc'][1:10], gender_gbt_size['auroc'][1:10]))\n",
    "\n",
    "print ('original vs. resampling by proportion')\n",
    "print(stats.ttest_rel(gender_lr['auroc'][1:10], gender_lr_proportion['auroc'][1:10]))\n",
    "print(stats.ttest_rel(gender_rf['auroc'][1:10], gender_rf_proportion['auroc'][1:10]))\n",
    "print(stats.ttest_rel(gender_dt['auroc'][1:10], gender_dt_proportion['auroc'][1:10]))\n",
    "print(stats.ttest_rel(gender_gbt['auroc'][1:10], gender_gbt_proportion['auroc'][1:10]))"
   ]
  },
  {
   "cell_type": "code",
   "execution_count": 8,
   "metadata": {},
   "outputs": [
    {
     "name": "stdout",
     "output_type": "stream",
     "text": [
      "change of ba\n",
      "original vs. removing protected attribute\n",
      "Ttest_relResult(statistic=1.4077707084147328, pvalue=0.1968485454789722)\n",
      "Ttest_relResult(statistic=-0.37394803141223776, pvalue=0.7181593391857344)\n",
      "Ttest_relResult(statistic=-0.7997265270113562, pvalue=0.4469629439306524)\n",
      "Ttest_relResult(statistic=-0.44284853354668535, pvalue=0.6696052340651439)\n",
      "original vs. resampling by size\n",
      "Ttest_relResult(statistic=8.9810353795571, pvalue=1.8820753681117806e-05)\n",
      "Ttest_relResult(statistic=0.6353889682006028, pvalue=0.542917618003453)\n",
      "Ttest_relResult(statistic=0.691038083133743, pvalue=0.5090929153518607)\n",
      "Ttest_relResult(statistic=9.789000856900623, pvalue=9.950909503953424e-06)\n",
      "original vs. resampling by proportion\n",
      "Ttest_relResult(statistic=4.319071775491144, pvalue=0.0025492589558088804)\n",
      "Ttest_relResult(statistic=3.015441252239553, pvalue=0.01667480379059262)\n",
      "Ttest_relResult(statistic=1.653377004244656, pvalue=0.13685369082658377)\n",
      "Ttest_relResult(statistic=2.665715888040041, pvalue=0.028551271764301098)\n"
     ]
    }
   ],
   "source": [
    "print ('change of ba')\n",
    "print ('original vs. removing protected attribute')\n",
    "print(stats.ttest_rel(gender_lr['overall ba test'][1:10], gender_lr_exclude_gender['overall ba test'][1:10]))\n",
    "print(stats.ttest_rel(gender_rf['overall ba test'][1:10], gender_rf_exclude_gender['overall ba test'][1:10]))\n",
    "print(stats.ttest_rel(gender_dt['overall ba test'][1:10], gender_dt_exclude_gender['overall ba test'][1:10]))\n",
    "print(stats.ttest_rel(gender_gbt['overall ba test'][1:10], gender_gbt_exclude_gender['overall ba test'][1:10]))\n",
    "\n",
    "print ('original vs. resampling by size')\n",
    "print(stats.ttest_rel(gender_lr['overall ba test'][1:10], gender_lr_size['overall ba test'][1:10]))\n",
    "print(stats.ttest_rel(gender_rf['overall ba test'][1:10], gender_rf_size['overall ba test'][1:10]))\n",
    "print(stats.ttest_rel(gender_dt['overall ba test'][1:10], gender_dt_size['overall ba test'][1:10]))\n",
    "print(stats.ttest_rel(gender_gbt['overall ba test'][1:10], gender_gbt_size['overall ba test'][1:10]))\n",
    "\n",
    "print ('original vs. resampling by proportion')\n",
    "print(stats.ttest_rel(gender_lr['overall ba test'][1:10], gender_lr_proportion['overall ba test'][1:10]))\n",
    "print(stats.ttest_rel(gender_rf['overall ba test'][1:10], gender_rf_proportion['overall ba test'][1:10]))\n",
    "print(stats.ttest_rel(gender_dt['overall ba test'][1:10], gender_dt_proportion['overall ba test'][1:10]))\n",
    "print(stats.ttest_rel(gender_gbt['overall ba test'][1:10], gender_gbt_proportion['overall ba test'][1:10]))"
   ]
  },
  {
   "cell_type": "code",
   "execution_count": 22,
   "metadata": {},
   "outputs": [
    {
     "name": "stdout",
     "output_type": "stream",
     "text": [
      "              name  mean_EOD        sd\n",
      "0               lr    0.1373  0.019505\n",
      "1               rf    0.1113  0.018136\n",
      "2              gbt    0.1227  0.017639\n",
      "3        lr_remove    0.0882  0.025170\n",
      "4        rf_remove    0.1063  0.016166\n",
      "5       gbt_remove    0.1212  0.019136\n",
      "6    lr_proportion    0.0254  0.017583\n",
      "7    rf_proportion    0.0684  0.014630\n",
      "8   gbt_proportion    0.0600  0.010924\n",
      "9          lr_size    0.0364  0.015277\n",
      "10         rf_size    0.0538  0.018036\n",
      "11        gbt_size    0.0431  0.018888\n"
     ]
    }
   ],
   "source": [
    "data = {'name': ['lr', 'rf', 'gbt', \n",
    "                 'lr_remove', 'rf_remove', 'gbt_remove', \n",
    "                 'lr_proportion', 'rf_proportion', 'gbt_proportion', \n",
    "                 'lr_size', 'rf_size', 'gbt_size'],\n",
    "       'mean_EOD': [gender_lr['eod'][10], gender_rf['eod'][10], gender_gbt['eod'][10],\n",
    "                   gender_lr_exclude_gender['eod'][10], gender_rf_exclude_gender['eod'][10], gender_gbt_exclude_gender['eod'][10],\n",
    "                   gender_lr_proportion['eod'][10], gender_rf_proportion['eod'][10], gender_gbt_proportion['eod'][10],\n",
    "                   gender_lr_size['eod'][10], gender_rf_size['eod'][10], gender_gbt_size['eod'][10]],\n",
    "       'sd': [gender_lr['eod'][11], gender_rf['eod'][11], gender_gbt['eod'][11],\n",
    "             gender_lr_exclude_gender['eod'][11], gender_rf_exclude_gender['eod'][11], gender_gbt_exclude_gender['eod'][11],\n",
    "             gender_lr_proportion['eod'][11], gender_rf_proportion['eod'][11], gender_gbt_proportion['eod'][11],\n",
    "             gender_lr_size['eod'][11], gender_rf_size['eod'][11], gender_gbt_size['eod'][11]]  }\n",
    "df = pd.DataFrame(data)\n",
    "print (df)"
   ]
  },
  {
   "cell_type": "code",
   "execution_count": 23,
   "metadata": {},
   "outputs": [
    {
     "name": "stdout",
     "output_type": "stream",
     "text": [
      "              name   mean_DI        sd\n",
      "0               lr  1.590920  0.051437\n",
      "1               rf  1.446889  0.042971\n",
      "2              gbt  1.508823  0.044057\n",
      "3        lr_remove  1.399751  0.069977\n",
      "4        rf_remove  1.442062  0.041289\n",
      "5       gbt_remove  1.499685  0.051420\n",
      "6    lr_proportion  1.147760  0.017097\n",
      "7    rf_proportion  1.281241  0.032554\n",
      "8   gbt_proportion  1.244328  0.023077\n",
      "9          lr_size  1.236418  0.046263\n",
      "10         rf_size  1.265461  0.041620\n",
      "11        gbt_size  1.236275  0.046409\n"
     ]
    }
   ],
   "source": [
    "data2 = {'name': ['lr', 'rf', 'gbt', \n",
    "                 'lr_remove', 'rf_remove', 'gbt_remove', \n",
    "                 'lr_proportion', 'rf_proportion', 'gbt_proportion', \n",
    "                 'lr_size', 'rf_size', 'gbt_size'],\n",
    "       'mean_DI': [gender_lr['di'][10], gender_rf['di'][10], gender_gbt['di'][10],\n",
    "                   gender_lr_exclude_gender['di'][10], gender_rf_exclude_gender['di'][10], gender_gbt_exclude_gender['di'][10],\n",
    "                   gender_lr_proportion['di'][10], gender_rf_proportion['di'][10], gender_gbt_proportion['di'][10],\n",
    "                   gender_lr_size['di'][10], gender_rf_size['di'][10], gender_gbt_size['di'][10]],\n",
    "       'sd': [gender_lr['di'][11], gender_rf['di'][11], gender_gbt['di'][11],\n",
    "             gender_lr_exclude_gender['di'][11], gender_rf_exclude_gender['di'][11], gender_gbt_exclude_gender['di'][11],\n",
    "             gender_lr_proportion['di'][11], gender_rf_proportion['di'][11], gender_gbt_proportion['di'][11],\n",
    "             gender_lr_size['di'][11], gender_rf_size['di'][11], gender_gbt_size['di'][11]]  }\n",
    "df2 = pd.DataFrame(data2)\n",
    "print (df2)"
   ]
  },
  {
   "cell_type": "code",
   "execution_count": null,
   "metadata": {},
   "outputs": [],
   "source": []
  }
 ],
 "metadata": {
  "kernelspec": {
   "display_name": "Python 3",
   "language": "python",
   "name": "python3"
  },
  "language_info": {
   "codemirror_mode": {
    "name": "ipython",
    "version": 3
   },
   "file_extension": ".py",
   "mimetype": "text/x-python",
   "name": "python",
   "nbconvert_exporter": "python",
   "pygments_lexer": "ipython3",
   "version": "3.8.3"
  }
 },
 "nbformat": 4,
 "nbformat_minor": 4
}
