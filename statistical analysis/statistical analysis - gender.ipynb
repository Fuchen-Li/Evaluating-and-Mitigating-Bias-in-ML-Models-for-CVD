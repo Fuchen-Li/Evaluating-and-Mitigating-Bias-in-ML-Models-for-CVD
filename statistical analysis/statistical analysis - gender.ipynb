{
 "cells": [
  {
   "cell_type": "code",
   "execution_count": 11,
   "metadata": {},
   "outputs": [],
   "source": [
    "from os import path\n",
    "\n",
    "import scipy.stats as stats\n",
    "\n",
    "import pandas as pd\n",
    "import seaborn as sns\n",
    "import numpy as np"
   ]
  },
  {
   "cell_type": "code",
   "execution_count": 12,
   "metadata": {},
   "outputs": [],
   "source": [
    "data_path='/Users/lifuchen/Desktop/research/resample_data'\n",
    "\n",
    "gender_lr = pd.read_csv(path.join(data_path,'gender-lr-result_no_protected.csv'))\n",
    "gender_rf = pd.read_csv(path.join(data_path,'gender-rf-result_no_protected.csv'))\n",
    "#gender_dt = pd.read_csv(path.join(data_path,'gender-dt-result_no_protected.csv'))\n",
    "gender_gbt = pd.read_csv(path.join(data_path,'gender-gbt-result_no_protected.csv'))\n",
    "\n",
    "gender_lr_exclude_gender = pd.read_csv(path.join(data_path,'gender-lr-result.csv'))\n",
    "gender_rf_exclude_gender = pd.read_csv(path.join(data_path,'gender-rf-result.csv'))\n",
    "#gender_dt_exclude_gender = pd.read_csv(path.join(data_path,'gender-dt-result.csv'))\n",
    "gender_gbt_exclude_gender = pd.read_csv(path.join(data_path,'gender-gbt-result.csv'))\n",
    "\n",
    "gender_lr_size = pd.read_csv(path.join(data_path,'gender-lr-resample-size-result.csv'))\n",
    "gender_rf_size = pd.read_csv(path.join(data_path,'gender-rf-resample-size-result.csv'))\n",
    "#gender_dt_size = pd.read_csv(path.join(data_path,'gender-dt-resample-size-result.csv'))\n",
    "gender_gbt_size = pd.read_csv(path.join(data_path,'gender-gbt-resample-size-result.csv'))\n",
    "\n",
    "gender_lr_proportion = pd.read_csv(path.join(data_path,'gender-lr-resample-proportion-result.csv'))\n",
    "gender_rf_proportion = pd.read_csv(path.join(data_path,'gender-rf-resample-proportion-result.csv'))\n",
    "#gender_dt_proportion = pd.read_csv(path.join(data_path,'gender-dt-resample-proportion-result.csv'))\n",
    "gender_gbt_proportion = pd.read_csv(path.join(data_path,'gender-gbt-resample-proportion-result.csv'))"
   ]
  },
  {
   "cell_type": "code",
   "execution_count": 13,
   "metadata": {},
   "outputs": [
    {
     "name": "stdout",
     "output_type": "stream",
     "text": [
      "EOD\n",
      "Ttest_1sampResult(statistic=21.486881980800664, pvalue=2.317222369633551e-08)\n",
      "Ttest_1sampResult(statistic=28.21356056934327, pvalue=2.6910322440928463e-09)\n",
      "Ttest_1sampResult(statistic=22.166710059181412, pvalue=1.8128197287553784e-08)\n",
      "DI\n",
      "Ttest_1sampResult(statistic=31.54473026368402, pvalue=1.1098984643457038e-09)\n",
      "Ttest_1sampResult(statistic=52.12074417179694, pvalue=2.0348649829855774e-11)\n",
      "Ttest_1sampResult(statistic=29.692533891598483, pvalue=1.7943870258324797e-09)\n"
     ]
    }
   ],
   "source": [
    "# this part tests whether there is significant bias\n",
    "print(\"EOD\")\n",
    "print(stats.ttest_1samp(gender_lr['eod'][1:10], 0))\n",
    "print(stats.ttest_1samp(gender_rf['eod'][1:10], 0))\n",
    "#print(stats.ttest_1samp(gender_dt['eod'][1:10], 0))\n",
    "print(stats.ttest_1samp(gender_gbt['eod'][1:10], 0))\n",
    "\n",
    "print(\"DI\")\n",
    "print(stats.ttest_1samp(gender_lr['di'][1:10], 1))\n",
    "print(stats.ttest_1samp(gender_rf['di'][1:10], 1))\n",
    "#print(stats.ttest_1samp(gender_dt['di'][1:10], 1))\n",
    "print(stats.ttest_1samp(gender_gbt['di'][1:10], 1))"
   ]
  },
  {
   "cell_type": "code",
   "execution_count": 10,
   "metadata": {},
   "outputs": [
    {
     "name": "stdout",
     "output_type": "stream",
     "text": [
      "EOD\n",
      "DI\n"
     ]
    },
    {
     "data": {
      "text/plain": [
       "[0.015637912682576756,\n",
       " 0.016565812672846427,\n",
       " 0.013367877655003803,\n",
       " 1.5076435852686405,\n",
       " 1.7446581327483823,\n",
       " 1.7482442106577893]"
      ]
     },
     "execution_count": 10,
     "metadata": {},
     "output_type": "execute_result"
    }
   ],
   "source": [
    "bias = []\n",
    "# this part tests whether there is significant bias\n",
    "print(\"EOD\")\n",
    "bias.append(stats.ttest_1samp(gender_lr['eod'][1:10], 0)[1] * 6)\n",
    "bias.append(stats.ttest_1samp(gender_rf['eod'][1:10], 0)[1] * 6)\n",
    "#print(stats.ttest_1samp(gender_dt['eod'][1:10], 0))\n",
    "bias.append(stats.ttest_1samp(gender_gbt['eod'][1:10], 0)[1] * 6)\n",
    "\n",
    "print(\"DI\")\n",
    "bias.append(stats.ttest_1samp(gender_lr['di'][1:10], 1)[1] * 6)\n",
    "bias.append(stats.ttest_1samp(gender_rf['di'][1:10], 1)[1] * 6)\n",
    "#print(stats.ttest_1samp(gender_dt['di'][1:10], 1))\n",
    "bias.append(stats.ttest_1samp(gender_gbt['di'][1:10], 1)[1] * 6)\n",
    "bias"
   ]
  },
  {
   "cell_type": "code",
   "execution_count": 15,
   "metadata": {},
   "outputs": [
    {
     "name": "stdout",
     "output_type": "stream",
     "text": [
      "change of EOD by removing protected attribute\n",
      "Ttest_relResult(statistic=14.908604564687638, pvalue=4.040372457957643e-07)\n",
      "Ttest_relResult(statistic=1.4941029465450337, pvalue=0.1735042621781149)\n",
      "Ttest_relResult(statistic=1.2235505806429865, pvalue=0.255934693340075)\n",
      "change of DI by removing protected attribute\n",
      "Ttest_relResult(statistic=18.81901777073324, pvalue=6.569191760944154e-08)\n",
      "Ttest_relResult(statistic=0.20036079925615646, pvalue=0.8461981540193038)\n",
      "Ttest_relResult(statistic=3.5421835284283545, pvalue=0.0075956015051176695)\n"
     ]
    }
   ],
   "source": [
    "# this part is to test if excluding protected attribute can reduce bias in terms of EOD and DI \n",
    "print ('change of EOD by removing protected attribute')\n",
    "print(stats.ttest_rel(gender_lr['eod'][1:10], gender_lr_exclude_gender['eod'][1:10]))\n",
    "print(stats.ttest_rel(gender_rf['eod'][1:10], gender_rf_exclude_gender['eod'][1:10]))\n",
    "#print(stats.ttest_rel(gender_dt['eod'][1:10], gender_dt_exclude_gender['eod'][1:10]))\n",
    "print(stats.ttest_rel(gender_gbt['eod'][1:10], gender_gbt_exclude_gender['eod'][1:10]))\n",
    "\n",
    "print ('change of DI by removing protected attribute')\n",
    "print(stats.ttest_rel(gender_lr['di'][1:10], gender_lr_exclude_gender['di'][1:10]))\n",
    "print(stats.ttest_rel(gender_rf['di'][1:10], gender_rf_exclude_gender['di'][1:10]))\n",
    "#print(stats.ttest_rel(gender_dt['di'][1:10], gender_dt_exclude_gender['di'][1:10]))\n",
    "print(stats.ttest_rel(gender_gbt['di'][1:10], gender_gbt_exclude_gender['di'][1:10]))"
   ]
  },
  {
   "cell_type": "code",
   "execution_count": 16,
   "metadata": {},
   "outputs": [
    {
     "name": "stdout",
     "output_type": "stream",
     "text": [
      "change of EOD by resampling by size\n",
      "Ttest_relResult(statistic=17.72493092216658, pvalue=1.0500750920711486e-07)\n",
      "Ttest_relResult(statistic=26.106620387532445, pvalue=4.976983670351239e-09)\n",
      "Ttest_relResult(statistic=28.943118518726358, pvalue=2.1978305126000198e-09)\n",
      "change of DI by resampling by size\n",
      "Ttest_relResult(statistic=42.30124436748771, pvalue=1.0750243571364691e-10)\n",
      "Ttest_relResult(statistic=38.38304818652715, pvalue=2.331498335128221e-10)\n",
      "Ttest_relResult(statistic=43.2869284586583, pvalue=8.947519391650262e-11)\n"
     ]
    }
   ],
   "source": [
    "# this part is to test if resampling by size can reduce bias in terms of EOD and DI \n",
    "print ('change of EOD by resampling by size')\n",
    "print(stats.ttest_rel(gender_lr['eod'][1:10], gender_lr_size['eod'][1:10]))\n",
    "print(stats.ttest_rel(gender_rf['eod'][1:10], gender_rf_size['eod'][1:10]))\n",
    "#print(stats.ttest_rel(gender_dt['eod'][1:10], gender_dt_size['eod'][1:10]))\n",
    "print(stats.ttest_rel(gender_gbt['eod'][1:10], gender_gbt_size['eod'][1:10]))\n",
    "\n",
    "print ('change of DI by resampling by size')\n",
    "print(stats.ttest_rel(gender_lr['di'][1:10], gender_lr_size['di'][1:10]))\n",
    "print(stats.ttest_rel(gender_rf['di'][1:10], gender_rf_size['di'][1:10]))\n",
    "#print(stats.ttest_rel(gender_dt['di'][1:10], gender_dt_size['di'][1:10]))\n",
    "print(stats.ttest_rel(gender_gbt['di'][1:10], gender_gbt_size['di'][1:10]))"
   ]
  },
  {
   "cell_type": "code",
   "execution_count": 17,
   "metadata": {},
   "outputs": [
    {
     "name": "stdout",
     "output_type": "stream",
     "text": [
      "change of EOD by resampling by proportion\n",
      "Ttest_relResult(statistic=31.27357292725536, pvalue=1.188668087541933e-09)\n",
      "Ttest_relResult(statistic=14.676624779462301, pvalue=4.5622288338289e-07)\n",
      "Ttest_relResult(statistic=10.989756258526633, pvalue=4.17814109603022e-06)\n",
      "change of EOD by resampling by proportion\n",
      "Ttest_relResult(statistic=33.0213137542674, pvalue=7.716738192441551e-10)\n",
      "Ttest_relResult(statistic=40.455367441753964, pvalue=1.5338568220228438e-10)\n",
      "Ttest_relResult(statistic=55.55055287764288, pvalue=1.2236659515101346e-11)\n"
     ]
    }
   ],
   "source": [
    "# this part is to test if resampling by proportion can reduce bias in terms of EOD and DI \n",
    "print ('change of EOD by resampling by proportion')\n",
    "print(stats.ttest_rel(gender_lr['eod'][1:10], gender_lr_proportion['eod'][1:10]))\n",
    "print(stats.ttest_rel(gender_rf['eod'][1:10], gender_rf_proportion['eod'][1:10]))\n",
    "#print(stats.ttest_rel(gender_dt['eod'][1:10], gender_dt_proportion['eod'][1:10]))\n",
    "print(stats.ttest_rel(gender_gbt['eod'][1:10], gender_gbt_proportion['eod'][1:10]))\n",
    "\n",
    "print ('change of EOD by resampling by proportion')\n",
    "print(stats.ttest_rel(gender_lr['di'][1:10], gender_lr_proportion['di'][1:10]))\n",
    "print(stats.ttest_rel(gender_rf['di'][1:10], gender_rf_proportion['di'][1:10]))\n",
    "#print(stats.ttest_rel(gender_dt['di'][1:10], gender_dt_proportion['di'][1:10]))\n",
    "print(stats.ttest_rel(gender_gbt['di'][1:10], gender_gbt_proportion['di'][1:10]))"
   ]
  },
  {
   "cell_type": "code",
   "execution_count": 19,
   "metadata": {},
   "outputs": [
    {
     "name": "stdout",
     "output_type": "stream",
     "text": [
      "change of auroc\n",
      "original vs. removing protected attribute\n",
      "Ttest_relResult(statistic=5.398556100970655, pvalue=0.0006471310829959248)\n",
      "Ttest_relResult(statistic=-0.2854475291616419, pvalue=0.782552382875228)\n",
      "Ttest_relResult(statistic=0.2751608855649431, pvalue=0.7901657096924718)\n",
      "original vs. resampling by size\n",
      "Ttest_relResult(statistic=6.874019673158039, pvalue=0.00012784039249114546)\n",
      "Ttest_relResult(statistic=-0.17914799649305888, pvalue=0.8622755637638642)\n",
      "Ttest_relResult(statistic=6.2702679211475205, pvalue=0.00024037838686134666)\n",
      "original vs. resampling by proportion\n",
      "Ttest_relResult(statistic=14.626711135285406, pvalue=4.6841432435378953e-07)\n",
      "Ttest_relResult(statistic=13.055829430822735, pvalue=1.1247248441605425e-06)\n",
      "Ttest_relResult(statistic=12.165779350488224, pvalue=1.9308973710710664e-06)\n"
     ]
    }
   ],
   "source": [
    "print ('change of auroc')\n",
    "print ('original vs. removing protected attribute')\n",
    "print(stats.ttest_rel(gender_lr['auroc'][1:10], gender_lr_exclude_gender['auroc'][1:10]))\n",
    "print(stats.ttest_rel(gender_rf['auroc'][1:10], gender_rf_exclude_gender['auroc'][1:10]))\n",
    "#print(stats.ttest_rel(gender_dt['auroc'][1:10], gender_dt_exclude_gender['auroc'][1:10]))\n",
    "print(stats.ttest_rel(gender_gbt['auroc'][1:10], gender_gbt_exclude_gender['auroc'][1:10]))\n",
    "\n",
    "print ('original vs. resampling by size')\n",
    "print(stats.ttest_rel(gender_lr['auroc'][1:10], gender_lr_size['auroc'][1:10]))\n",
    "print(stats.ttest_rel(gender_rf['auroc'][1:10], gender_rf_size['auroc'][1:10]))\n",
    "#print(stats.ttest_rel(gender_dt['auroc'][1:10], gender_dt_size['auroc'][1:10]))\n",
    "print(stats.ttest_rel(gender_gbt['auroc'][1:10], gender_gbt_size['auroc'][1:10]))\n",
    "\n",
    "print ('original vs. resampling by proportion')\n",
    "print(stats.ttest_rel(gender_lr['auroc'][1:10], gender_lr_proportion['auroc'][1:10]))\n",
    "print(stats.ttest_rel(gender_rf['auroc'][1:10], gender_rf_proportion['auroc'][1:10]))\n",
    "#print(stats.ttest_rel(gender_dt['auroc'][1:10], gender_dt_proportion['auroc'][1:10]))\n",
    "print(stats.ttest_rel(gender_gbt['auroc'][1:10], gender_gbt_proportion['auroc'][1:10]))"
   ]
  },
  {
   "cell_type": "code",
   "execution_count": 21,
   "metadata": {},
   "outputs": [
    {
     "name": "stdout",
     "output_type": "stream",
     "text": [
      "change of ba\n",
      "original vs. removing protected attribute\n",
      "Ttest_relResult(statistic=0.828555459502663, pvalue=0.4313794069729757)\n",
      "Ttest_relResult(statistic=0.13074006550983164, pvalue=0.8992088143741516)\n",
      "Ttest_relResult(statistic=0.0031933947988770015, pvalue=0.9975302394378458)\n",
      "original vs. resampling by size\n",
      "Ttest_relResult(statistic=10.369753211866046, pvalue=6.468600850663373e-06)\n",
      "Ttest_relResult(statistic=3.110696182565956, pvalue=0.01443028927781014)\n",
      "Ttest_relResult(statistic=7.352598046428047, pvalue=7.973947897518208e-05)\n",
      "original vs. resampling by proportion\n",
      "Ttest_relResult(statistic=3.892597899936216, pvalue=0.004592357592353593)\n",
      "Ttest_relResult(statistic=18.833142470407832, pvalue=6.530659327770003e-08)\n",
      "Ttest_relResult(statistic=4.967952150339167, pvalue=0.0010959110792570013)\n"
     ]
    }
   ],
   "source": [
    "print ('change of ba')\n",
    "print ('original vs. removing protected attribute')\n",
    "print(stats.ttest_rel(gender_lr['overall ba test'][1:10], gender_lr_exclude_gender['overall ba test'][1:10]))\n",
    "print(stats.ttest_rel(gender_rf['overall ba test'][1:10], gender_rf_exclude_gender['overall ba test'][1:10]))\n",
    "#print(stats.ttest_rel(gender_dt['overall ba test'][1:10], gender_dt_exclude_gender['overall ba test'][1:10]))\n",
    "print(stats.ttest_rel(gender_gbt['overall ba test'][1:10], gender_gbt_exclude_gender['overall ba test'][1:10]))\n",
    "\n",
    "print ('original vs. resampling by size')\n",
    "print(stats.ttest_rel(gender_lr['overall ba test'][1:10], gender_lr_size['overall ba test'][1:10]))\n",
    "print(stats.ttest_rel(gender_rf['overall ba test'][1:10], gender_rf_size['overall ba test'][1:10]))\n",
    "#print(stats.ttest_rel(gender_dt['overall ba test'][1:10], gender_dt_size['overall ba test'][1:10]))\n",
    "print(stats.ttest_rel(gender_gbt['overall ba test'][1:10], gender_gbt_size['overall ba test'][1:10]))\n",
    "\n",
    "print ('original vs. resampling by proportion')\n",
    "print(stats.ttest_rel(gender_lr['overall ba test'][1:10], gender_lr_proportion['overall ba test'][1:10]))\n",
    "print(stats.ttest_rel(gender_rf['overall ba test'][1:10], gender_rf_proportion['overall ba test'][1:10]))\n",
    "#print(stats.ttest_rel(gender_dt['overall ba test'][1:10], gender_dt_proportion['overall ba test'][1:10]))\n",
    "print(stats.ttest_rel(gender_gbt['overall ba test'][1:10], gender_gbt_proportion['overall ba test'][1:10]))"
   ]
  },
  {
   "cell_type": "code",
   "execution_count": 22,
   "metadata": {},
   "outputs": [
    {
     "name": "stdout",
     "output_type": "stream",
     "text": [
      "              name  mean_EOD        sd\n",
      "0               lr    0.1373  0.019505\n",
      "1               rf    0.1113  0.018136\n",
      "2              gbt    0.1227  0.017639\n",
      "3        lr_remove    0.0882  0.025170\n",
      "4        rf_remove    0.1063  0.016166\n",
      "5       gbt_remove    0.1212  0.019136\n",
      "6    lr_proportion    0.0254  0.017583\n",
      "7    rf_proportion    0.0684  0.014630\n",
      "8   gbt_proportion    0.0600  0.010924\n",
      "9          lr_size    0.0364  0.015277\n",
      "10         rf_size    0.0538  0.018036\n",
      "11        gbt_size    0.0431  0.018888\n"
     ]
    }
   ],
   "source": [
    "data = {'name': ['lr', 'rf', 'gbt', \n",
    "                 'lr_remove', 'rf_remove', 'gbt_remove', \n",
    "                 'lr_proportion', 'rf_proportion', 'gbt_proportion', \n",
    "                 'lr_size', 'rf_size', 'gbt_size'],\n",
    "       'mean_EOD': [gender_lr['eod'][10], gender_rf['eod'][10], gender_gbt['eod'][10],\n",
    "                   gender_lr_exclude_gender['eod'][10], gender_rf_exclude_gender['eod'][10], gender_gbt_exclude_gender['eod'][10],\n",
    "                   gender_lr_proportion['eod'][10], gender_rf_proportion['eod'][10], gender_gbt_proportion['eod'][10],\n",
    "                   gender_lr_size['eod'][10], gender_rf_size['eod'][10], gender_gbt_size['eod'][10]],\n",
    "       'sd': [gender_lr['eod'][11], gender_rf['eod'][11], gender_gbt['eod'][11],\n",
    "             gender_lr_exclude_gender['eod'][11], gender_rf_exclude_gender['eod'][11], gender_gbt_exclude_gender['eod'][11],\n",
    "             gender_lr_proportion['eod'][11], gender_rf_proportion['eod'][11], gender_gbt_proportion['eod'][11],\n",
    "             gender_lr_size['eod'][11], gender_rf_size['eod'][11], gender_gbt_size['eod'][11]]  }\n",
    "df = pd.DataFrame(data)\n",
    "print (df)"
   ]
  },
  {
   "cell_type": "code",
   "execution_count": 23,
   "metadata": {},
   "outputs": [
    {
     "name": "stdout",
     "output_type": "stream",
     "text": [
      "              name   mean_DI        sd\n",
      "0               lr  1.590920  0.051437\n",
      "1               rf  1.446889  0.042971\n",
      "2              gbt  1.508823  0.044057\n",
      "3        lr_remove  1.399751  0.069977\n",
      "4        rf_remove  1.442062  0.041289\n",
      "5       gbt_remove  1.499685  0.051420\n",
      "6    lr_proportion  1.147760  0.017097\n",
      "7    rf_proportion  1.281241  0.032554\n",
      "8   gbt_proportion  1.244328  0.023077\n",
      "9          lr_size  1.236418  0.046263\n",
      "10         rf_size  1.265461  0.041620\n",
      "11        gbt_size  1.236275  0.046409\n"
     ]
    }
   ],
   "source": [
    "data2 = {'name': ['lr', 'rf', 'gbt', \n",
    "                 'lr_remove', 'rf_remove', 'gbt_remove', \n",
    "                 'lr_proportion', 'rf_proportion', 'gbt_proportion', \n",
    "                 'lr_size', 'rf_size', 'gbt_size'],\n",
    "       'mean_DI': [gender_lr['di'][10], gender_rf['di'][10], gender_gbt['di'][10],\n",
    "                   gender_lr_exclude_gender['di'][10], gender_rf_exclude_gender['di'][10], gender_gbt_exclude_gender['di'][10],\n",
    "                   gender_lr_proportion['di'][10], gender_rf_proportion['di'][10], gender_gbt_proportion['di'][10],\n",
    "                   gender_lr_size['di'][10], gender_rf_size['di'][10], gender_gbt_size['di'][10]],\n",
    "       'sd': [gender_lr['di'][11], gender_rf['di'][11], gender_gbt['di'][11],\n",
    "             gender_lr_exclude_gender['di'][11], gender_rf_exclude_gender['di'][11], gender_gbt_exclude_gender['di'][11],\n",
    "             gender_lr_proportion['di'][11], gender_rf_proportion['di'][11], gender_gbt_proportion['di'][11],\n",
    "             gender_lr_size['di'][11], gender_rf_size['di'][11], gender_gbt_size['di'][11]]  }\n",
    "df2 = pd.DataFrame(data2)\n",
    "print (df2)"
   ]
  },
  {
   "cell_type": "code",
   "execution_count": null,
   "metadata": {},
   "outputs": [],
   "source": []
  }
 ],
 "metadata": {
  "kernelspec": {
   "display_name": "Python 3 (ipykernel)",
   "language": "python",
   "name": "python3"
  },
  "language_info": {
   "codemirror_mode": {
    "name": "ipython",
    "version": 3
   },
   "file_extension": ".py",
   "mimetype": "text/x-python",
   "name": "python",
   "nbconvert_exporter": "python",
   "pygments_lexer": "ipython3",
   "version": "3.9.13"
  }
 },
 "nbformat": 4,
 "nbformat_minor": 4
}
