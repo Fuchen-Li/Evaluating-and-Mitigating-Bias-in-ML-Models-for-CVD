{
 "cells": [
  {
   "cell_type": "code",
   "execution_count": 2,
   "id": "41db13c9",
   "metadata": {},
   "outputs": [
    {
     "ename": "SyntaxError",
     "evalue": "invalid syntax (<ipython-input-2-46460190d124>, line 8)",
     "output_type": "error",
     "traceback": [
      "\u001b[0;36m  File \u001b[0;32m\"<ipython-input-2-46460190d124>\"\u001b[0;36m, line \u001b[0;32m8\u001b[0m\n\u001b[0;31m    import ..src.lib.utility_classfier_tuning as uclf\u001b[0m\n\u001b[0m           ^\u001b[0m\n\u001b[0;31mSyntaxError\u001b[0m\u001b[0;31m:\u001b[0m invalid syntax\n"
     ]
    }
   ],
   "source": [
    "import pandas as pd\n",
    "import seaborn as sns\n",
    "import numpy as np\n",
    "import matplotlib.pyplot as plt\n",
    "%matplotlib inline\n",
    "from os import path\n",
    "\n",
    "import ..src.lib.utility_classfier_tuning as uclf\n",
    "import ..src.lib.optimal_threhold_related as thres\n",
    "import ..src.lib.fairness_tests as fair\n",
    "\n",
    "from sklearn.metrics import balanced_accuracy_score, roc_auc_score\n",
    "import sklearn.preprocessing\n",
    "from sklearn import preprocessing"
   ]
  },
  {
   "cell_type": "code",
   "execution_count": null,
   "id": "79cbe261",
   "metadata": {},
   "outputs": [],
   "source": [
    "result_path='/Users/lifuchen/Desktop/Evaluating-and-Mitigating-Bias-in-ML-Models-for-CVD/external validation/'\n",
    "filename = \"gbt.csv\"\n",
    "gbt= pd.read_csv(path.join(result_path, filename))"
   ]
  },
  {
   "cell_type": "code",
   "execution_count": null,
   "id": "4940b456",
   "metadata": {},
   "outputs": [],
   "source": [
    "gbt"
   ]
  },
  {
   "cell_type": "code",
   "execution_count": 16,
   "id": "f7cfd440",
   "metadata": {},
   "outputs": [],
   "source": [
    "y_test = rf['true_label']\n",
    "y_score = rf['predict_score']"
   ]
  },
  {
   "cell_type": "code",
   "execution_count": 14,
   "id": "3c4eac1f",
   "metadata": {},
   "outputs": [
    {
     "name": "stdout",
     "output_type": "stream",
     "text": [
      "3052 3052 5810 5810\n"
     ]
    }
   ],
   "source": [
    "y_score_male = rf['predict_score'][rf['GENDER']==0]\n",
    "y_test_male = rf['true_label'][rf['GENDER']==0]\n",
    "y_score_female = rf['predict_score'][rf['GENDER']==1]\n",
    "y_test_female = rf['true_label'][rf['GENDER']==1]\n",
    "print(len(y_score_male), len(y_test_male), len(y_score_female), len(y_test_female))"
   ]
  },
  {
   "cell_type": "code",
   "execution_count": 15,
   "id": "37017231",
   "metadata": {},
   "outputs": [
    {
     "name": "stdout",
     "output_type": "stream",
     "text": [
      "7583 1279\n"
     ]
    }
   ],
   "source": [
    "y_score_white = rf['predict_score'][rf['Race_W']==1]\n",
    "y_test_white = rf['true_label'][rf['Race_W']==1]\n",
    "y_score_black = rf['predict_score'][rf['Race_W']==0]\n",
    "y_test_white = rf['true_label'][rf['Race_W']==1]\n",
    "print(len(y_score_white), len(y_score_black))"
   ]
  },
  {
   "cell_type": "code",
   "execution_count": 30,
   "id": "66e08609",
   "metadata": {},
   "outputs": [],
   "source": [
    "def get_result (records, y_test, y_score, y_test_1, y_score_1, y_test_2, y_score_2):    \n",
    "    threshold = 0.1\n",
    "    ba = thres.calculate_balanced_accuracy(y_test, y_score, threshold)\n",
    "    auroc = roc_auc_score(y_test, y_score)\n",
    "    precision, recall, tpr, tnr, pd_overall = thres.calculate_precision_metrics(y_test, y_score,threshold)\n",
    "    \n",
    "    ba_male = thres.calculate_balanced_accuracy(y_test_1, y_score_1, threshold)\n",
    "    precision_male, recall_male, tpr_male, tnr_male, pd_male = thres.calculate_precision_metrics(y_test_1, y_score_1,threshold)\n",
    "    \n",
    "    ba_female = thres.calculate_balanced_accuracy (y_test_2, y_score_2, threshold)\n",
    "    precision_female, recall_female, tpr_female, tnr_female, pd_female = thres.calculate_precision_metrics(y_test_2, y_score_2,threshold)\n",
    "\n",
    "    eod = fair.get_EOD(y_test_1, y_score_1,threshold, y_test_2, y_score_2, threshold)\n",
    "    sp = fair.get_SP(y_test_1, y_score_1,threshold, y_test_2, y_score_2, threshold)\n",
    "\n",
    "    records.append({\n",
    "        'auroc': auroc,\n",
    "        'overall ba test': ba,\n",
    "        'male ba test': ba_male,\n",
    "        'female ba test': ba_female,\n",
    "        'overall precision':precision,\n",
    "        'overall recall':recall,\n",
    "        'overall tpr':tpr,\n",
    "        'overall tnr':tnr,\n",
    "        'overall pd':pd_overall,\n",
    "        'male precision':precision_male,\n",
    "        'male recall':recall_male,\n",
    "        'male tpr':tpr_male,\n",
    "        'male tnr':tnr_male,\n",
    "        'male pd':pd_male,\n",
    "        'female precision':precision_female,\n",
    "        'female recall':recall_female,\n",
    "        'female tpr':tpr_female,\n",
    "        'female tnr':tnr_female,\n",
    "        'female pd':pd_female,\n",
    "        'eod': eod,\n",
    "        'di': sp,\n",
    "        })"
   ]
  },
  {
   "cell_type": "code",
   "execution_count": 31,
   "id": "cbc3c451",
   "metadata": {},
   "outputs": [
    {
     "name": "stdout",
     "output_type": "stream",
     "text": [
      "True positive rate of class 1 is  0.945\n",
      "True positive rate of class 2 is  0.918\n",
      "Positive prediction rate of class 1 is  0.853\n",
      "Positive prediction rate of class 2 is  0.817\n"
     ]
    }
   ],
   "source": [
    "records_rf = []\n",
    "get_result(records_rf, y_test, y_score, y_test_male, y_score_male, y_test_female, y_score_female)"
   ]
  },
  {
   "cell_type": "code",
   "execution_count": 32,
   "id": "32976fa9",
   "metadata": {},
   "outputs": [
    {
     "data": {
      "text/plain": [
       "[{'auroc': 0.6858008248573554,\n",
       "  'overall ba test': 0.5546751736541801,\n",
       "  'male ba test': 0.551743119266055,\n",
       "  'female ba test': 0.5547078296990058,\n",
       "  'overall precision': 0.5314645308924485,\n",
       "  'overall recall': 0.929,\n",
       "  'overall tpr': 0.929,\n",
       "  'overall tnr': 0.181,\n",
       "  'overall pd': 0.829,\n",
       "  'male precision': 0.5291153415453527,\n",
       "  'male recall': 0.945,\n",
       "  'male tpr': 0.945,\n",
       "  'male tnr': 0.159,\n",
       "  'male pd': 0.853,\n",
       "  'female precision': 0.5318655851680185,\n",
       "  'female recall': 0.918,\n",
       "  'female tpr': 0.918,\n",
       "  'female tnr': 0.192,\n",
       "  'female pd': 0.817,\n",
       "  'eod': 0.026999999999999913,\n",
       "  'di': 1.04406364749082}]"
      ]
     },
     "execution_count": 32,
     "metadata": {},
     "output_type": "execute_result"
    }
   ],
   "source": [
    "records_rf"
   ]
  },
  {
   "cell_type": "code",
   "execution_count": null,
   "id": "e851260e",
   "metadata": {},
   "outputs": [],
   "source": []
  }
 ],
 "metadata": {
  "kernelspec": {
   "display_name": "PyCharm (CVDPrediction-master)",
   "language": "python",
   "name": "pycharm-6defbc71"
  },
  "language_info": {
   "codemirror_mode": {
    "name": "ipython",
    "version": 3
   },
   "file_extension": ".py",
   "mimetype": "text/x-python",
   "name": "python",
   "nbconvert_exporter": "python",
   "pygments_lexer": "ipython3",
   "version": "3.8.3"
  }
 },
 "nbformat": 4,
 "nbformat_minor": 5
}
