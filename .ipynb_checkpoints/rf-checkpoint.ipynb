{
 "cells": [
  {
   "cell_type": "code",
   "execution_count": 1,
   "id": "41db13c9",
   "metadata": {},
   "outputs": [],
   "source": [
    "import pandas as pd\n",
    "import seaborn as sns\n",
    "import numpy as np\n",
    "import matplotlib.pyplot as plt\n",
    "%matplotlib inline\n",
    "from os import path\n",
    "\n",
    "import src.lib.utility_classfier_tuning as uclf\n",
    "import src.lib.optimal_threhold_related as thres\n",
    "import src.lib.fairness_tests as fair\n",
    "\n",
    "from sklearn.metrics import balanced_accuracy_score, roc_auc_score\n",
    "import sklearn.preprocessing\n",
    "from sklearn import preprocessing"
   ]
  },
  {
   "cell_type": "code",
   "execution_count": 2,
   "id": "79cbe261",
   "metadata": {},
   "outputs": [],
   "source": [
    "result_path='/Users/lifuchen/Desktop/Evaluating-and-Mitigating-Bias-in-ML-Models-for-CVD/external validation/'\n",
    "filename = \"rf.csv\"\n",
    "rf = pd.read_csv(path.join(result_path, filename))"
   ]
  },
  {
   "cell_type": "code",
   "execution_count": 3,
   "id": "4940b456",
   "metadata": {},
   "outputs": [
    {
     "data": {
      "text/html": [
       "<div>\n",
       "<style scoped>\n",
       "    .dataframe tbody tr th:only-of-type {\n",
       "        vertical-align: middle;\n",
       "    }\n",
       "\n",
       "    .dataframe tbody tr th {\n",
       "        vertical-align: top;\n",
       "    }\n",
       "\n",
       "    .dataframe thead th {\n",
       "        text-align: right;\n",
       "    }\n",
       "</style>\n",
       "<table border=\"1\" class=\"dataframe\">\n",
       "  <thead>\n",
       "    <tr style=\"text-align: right;\">\n",
       "      <th></th>\n",
       "      <th>predict_score</th>\n",
       "      <th>true_label</th>\n",
       "      <th>GENDER</th>\n",
       "      <th>Race_B</th>\n",
       "      <th>Race_W</th>\n",
       "    </tr>\n",
       "  </thead>\n",
       "  <tbody>\n",
       "    <tr>\n",
       "      <th>0</th>\n",
       "      <td>0.092314</td>\n",
       "      <td>0</td>\n",
       "      <td>0</td>\n",
       "      <td>0</td>\n",
       "      <td>1</td>\n",
       "    </tr>\n",
       "    <tr>\n",
       "      <th>1</th>\n",
       "      <td>0.127191</td>\n",
       "      <td>0</td>\n",
       "      <td>1</td>\n",
       "      <td>1</td>\n",
       "      <td>0</td>\n",
       "    </tr>\n",
       "    <tr>\n",
       "      <th>2</th>\n",
       "      <td>0.115379</td>\n",
       "      <td>0</td>\n",
       "      <td>1</td>\n",
       "      <td>0</td>\n",
       "      <td>1</td>\n",
       "    </tr>\n",
       "    <tr>\n",
       "      <th>3</th>\n",
       "      <td>0.110348</td>\n",
       "      <td>0</td>\n",
       "      <td>1</td>\n",
       "      <td>0</td>\n",
       "      <td>1</td>\n",
       "    </tr>\n",
       "    <tr>\n",
       "      <th>4</th>\n",
       "      <td>0.112240</td>\n",
       "      <td>0</td>\n",
       "      <td>1</td>\n",
       "      <td>0</td>\n",
       "      <td>1</td>\n",
       "    </tr>\n",
       "    <tr>\n",
       "      <th>...</th>\n",
       "      <td>...</td>\n",
       "      <td>...</td>\n",
       "      <td>...</td>\n",
       "      <td>...</td>\n",
       "      <td>...</td>\n",
       "    </tr>\n",
       "    <tr>\n",
       "      <th>8857</th>\n",
       "      <td>0.257139</td>\n",
       "      <td>1</td>\n",
       "      <td>0</td>\n",
       "      <td>0</td>\n",
       "      <td>1</td>\n",
       "    </tr>\n",
       "    <tr>\n",
       "      <th>8858</th>\n",
       "      <td>0.209566</td>\n",
       "      <td>1</td>\n",
       "      <td>1</td>\n",
       "      <td>0</td>\n",
       "      <td>1</td>\n",
       "    </tr>\n",
       "    <tr>\n",
       "      <th>8859</th>\n",
       "      <td>0.243183</td>\n",
       "      <td>1</td>\n",
       "      <td>1</td>\n",
       "      <td>1</td>\n",
       "      <td>0</td>\n",
       "    </tr>\n",
       "    <tr>\n",
       "      <th>8860</th>\n",
       "      <td>0.134244</td>\n",
       "      <td>1</td>\n",
       "      <td>0</td>\n",
       "      <td>1</td>\n",
       "      <td>0</td>\n",
       "    </tr>\n",
       "    <tr>\n",
       "      <th>8861</th>\n",
       "      <td>0.122770</td>\n",
       "      <td>1</td>\n",
       "      <td>0</td>\n",
       "      <td>0</td>\n",
       "      <td>1</td>\n",
       "    </tr>\n",
       "  </tbody>\n",
       "</table>\n",
       "<p>8862 rows × 5 columns</p>\n",
       "</div>"
      ],
      "text/plain": [
       "      predict_score  true_label  GENDER  Race_B  Race_W\n",
       "0          0.092314           0       0       0       1\n",
       "1          0.127191           0       1       1       0\n",
       "2          0.115379           0       1       0       1\n",
       "3          0.110348           0       1       0       1\n",
       "4          0.112240           0       1       0       1\n",
       "...             ...         ...     ...     ...     ...\n",
       "8857       0.257139           1       0       0       1\n",
       "8858       0.209566           1       1       0       1\n",
       "8859       0.243183           1       1       1       0\n",
       "8860       0.134244           1       0       1       0\n",
       "8861       0.122770           1       0       0       1\n",
       "\n",
       "[8862 rows x 5 columns]"
      ]
     },
     "execution_count": 3,
     "metadata": {},
     "output_type": "execute_result"
    }
   ],
   "source": [
    "rf"
   ]
  },
  {
   "cell_type": "code",
   "execution_count": 4,
   "id": "f7cfd440",
   "metadata": {},
   "outputs": [],
   "source": [
    "y_test = rf['true_label']\n",
    "y_score = rf['predict_score']"
   ]
  },
  {
   "cell_type": "code",
   "execution_count": 5,
   "id": "3c4eac1f",
   "metadata": {},
   "outputs": [
    {
     "name": "stdout",
     "output_type": "stream",
     "text": [
      "3052 3052 5810 5810\n"
     ]
    }
   ],
   "source": [
    "y_score_male = rf['predict_score'][rf['GENDER']==0]\n",
    "y_test_male = rf['true_label'][rf['GENDER']==0]\n",
    "y_score_female = rf['predict_score'][rf['GENDER']==1]\n",
    "y_test_female = rf['true_label'][rf['GENDER']==1]\n",
    "print(len(y_score_male), len(y_test_male), len(y_score_female), len(y_test_female))"
   ]
  },
  {
   "cell_type": "code",
   "execution_count": 11,
   "id": "37017231",
   "metadata": {},
   "outputs": [
    {
     "name": "stdout",
     "output_type": "stream",
     "text": [
      "7583 1279\n"
     ]
    }
   ],
   "source": [
    "y_score_white = rf['predict_score'][rf['Race_W']==1]\n",
    "y_test_white = rf['true_label'][rf['Race_W']==1]\n",
    "y_score_black = rf['predict_score'][rf['Race_W']==0]\n",
    "y_test_black = rf['true_label'][rf['Race_W']==0]\n",
    "print(len(y_score_white), len(y_score_black))"
   ]
  },
  {
   "cell_type": "code",
   "execution_count": 7,
   "id": "66e08609",
   "metadata": {},
   "outputs": [],
   "source": [
    "def get_result (records, y_test, y_score, y_test_1, y_score_1, y_test_2, y_score_2):    \n",
    "    threshold = 0.1\n",
    "    ba = thres.calculate_balanced_accuracy(y_test, y_score, threshold)\n",
    "    auroc = roc_auc_score(y_test, y_score)\n",
    "    precision, recall, tpr, tnr, pd_overall = thres.calculate_precision_metrics(y_test, y_score,threshold)\n",
    "    \n",
    "    ba_male = thres.calculate_balanced_accuracy(y_test_1, y_score_1, threshold)\n",
    "    precision_male, recall_male, tpr_male, tnr_male, pd_male = thres.calculate_precision_metrics(y_test_1, y_score_1,threshold)\n",
    "    \n",
    "    ba_female = thres.calculate_balanced_accuracy (y_test_2, y_score_2, threshold)\n",
    "    precision_female, recall_female, tpr_female, tnr_female, pd_female = thres.calculate_precision_metrics(y_test_2, y_score_2,threshold)\n",
    "\n",
    "    eod = fair.get_EOD(y_test_1, y_score_1,threshold, y_test_2, y_score_2, threshold)\n",
    "    sp = fair.get_SP(y_test_1, y_score_1,threshold, y_test_2, y_score_2, threshold)\n",
    "\n",
    "    records.append({\n",
    "        'auroc': auroc,\n",
    "        'overall ba test': ba,\n",
    "        'male ba test': ba_male,\n",
    "        'female ba test': ba_female,\n",
    "        'overall precision':precision,\n",
    "        'overall recall':recall,\n",
    "        'overall tpr':tpr,\n",
    "        'overall tnr':tnr,\n",
    "        'overall pd':pd_overall,\n",
    "        'male precision':precision_male,\n",
    "        'male recall':recall_male,\n",
    "        'male tpr':tpr_male,\n",
    "        'male tnr':tnr_male,\n",
    "        'male pd':pd_male,\n",
    "        'female precision':precision_female,\n",
    "        'female recall':recall_female,\n",
    "        'female tpr':tpr_female,\n",
    "        'female tnr':tnr_female,\n",
    "        'female pd':pd_female,\n",
    "        'eod': eod,\n",
    "        'di': sp,\n",
    "        })"
   ]
  },
  {
   "cell_type": "code",
   "execution_count": 8,
   "id": "cbc3c451",
   "metadata": {},
   "outputs": [
    {
     "name": "stdout",
     "output_type": "stream",
     "text": [
      "True positive rate of class 1 is  0.945\n",
      "True positive rate of class 2 is  0.918\n",
      "Positive prediction rate of class 1 is  0.853\n",
      "Positive prediction rate of class 2 is  0.817\n"
     ]
    }
   ],
   "source": [
    "records_rf = []\n",
    "get_result(records_rf, y_test, y_score, y_test_male, y_score_male, y_test_female, y_score_female)"
   ]
  },
  {
   "cell_type": "code",
   "execution_count": 9,
   "id": "32976fa9",
   "metadata": {},
   "outputs": [
    {
     "data": {
      "text/plain": [
       "[{'auroc': 0.6858008248573554,\n",
       "  'overall ba test': 0.5546751736541801,\n",
       "  'male ba test': 0.551743119266055,\n",
       "  'female ba test': 0.5547078296990058,\n",
       "  'overall precision': 0.5314645308924485,\n",
       "  'overall recall': 0.929,\n",
       "  'overall tpr': 0.929,\n",
       "  'overall tnr': 0.181,\n",
       "  'overall pd': 0.829,\n",
       "  'male precision': 0.5291153415453527,\n",
       "  'male recall': 0.945,\n",
       "  'male tpr': 0.945,\n",
       "  'male tnr': 0.159,\n",
       "  'male pd': 0.853,\n",
       "  'female precision': 0.5318655851680185,\n",
       "  'female recall': 0.918,\n",
       "  'female tpr': 0.918,\n",
       "  'female tnr': 0.192,\n",
       "  'female pd': 0.817,\n",
       "  'eod': 0.026999999999999913,\n",
       "  'di': 1.04406364749082}]"
      ]
     },
     "execution_count": 9,
     "metadata": {},
     "output_type": "execute_result"
    }
   ],
   "source": [
    "records_rf"
   ]
  },
  {
   "cell_type": "code",
   "execution_count": 12,
   "id": "e851260e",
   "metadata": {},
   "outputs": [
    {
     "name": "stdout",
     "output_type": "stream",
     "text": [
      "True positive rate of class 1 is  0.952\n",
      "True positive rate of class 2 is  0.858\n",
      "Positive prediction rate of class 1 is  0.848\n",
      "Positive prediction rate of class 2 is  0.72\n"
     ]
    },
    {
     "data": {
      "text/plain": [
       "[{'auroc': 0.6858008248573554,\n",
       "  'overall ba test': 0.5546751736541801,\n",
       "  'male ba test': 0.5566125912937699,\n",
       "  'female ba test': 0.5814293890801956,\n",
       "  'overall precision': 0.5314645308924485,\n",
       "  'overall recall': 0.929,\n",
       "  'overall tpr': 0.929,\n",
       "  'overall tnr': 0.181,\n",
       "  'overall pd': 0.829,\n",
       "  'male precision': 0.5315466219988833,\n",
       "  'male recall': 0.952,\n",
       "  'male tpr': 0.952,\n",
       "  'male tnr': 0.161,\n",
       "  'male pd': 0.848,\n",
       "  'female precision': 0.5524790727623954,\n",
       "  'female recall': 0.858,\n",
       "  'female tpr': 0.858,\n",
       "  'female tnr': 0.305,\n",
       "  'female pd': 0.72,\n",
       "  'eod': 0.09399999999999997,\n",
       "  'di': 1.1777777777777778}]"
      ]
     },
     "execution_count": 12,
     "metadata": {},
     "output_type": "execute_result"
    }
   ],
   "source": [
    "records_rf_race = []\n",
    "get_result(records_rf_race, y_test, y_score, y_test_white, y_score_white, y_test_black, y_score_black)\n",
    "records_rf_race"
   ]
  }
 ],
 "metadata": {
  "kernelspec": {
   "display_name": "PyCharm (CVDPrediction-master)",
   "language": "python",
   "name": "pycharm-6defbc71"
  },
  "language_info": {
   "codemirror_mode": {
    "name": "ipython",
    "version": 3
   },
   "file_extension": ".py",
   "mimetype": "text/x-python",
   "name": "python",
   "nbconvert_exporter": "python",
   "pygments_lexer": "ipython3",
   "version": "3.8.3"
  }
 },
 "nbformat": 4,
 "nbformat_minor": 5
}
