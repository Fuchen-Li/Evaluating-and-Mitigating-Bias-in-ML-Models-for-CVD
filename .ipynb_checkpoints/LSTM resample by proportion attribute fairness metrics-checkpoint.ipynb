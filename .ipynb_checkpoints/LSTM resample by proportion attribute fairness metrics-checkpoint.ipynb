{
 "cells": [
  {
   "cell_type": "code",
   "execution_count": 1,
   "id": "741e6f76",
   "metadata": {},
   "outputs": [],
   "source": [
    "import pandas as pd\n",
    "import seaborn as sns\n",
    "import numpy as np\n",
    "import matplotlib.pyplot as plt\n",
    "%matplotlib inline\n",
    "from os import path\n",
    "\n",
    "import src.lib.utility_classfier_tuning as uclf\n",
    "import src.lib.optimal_threhold_related as thres\n",
    "import src.lib.fairness_tests as fair\n",
    "\n",
    "from sklearn.metrics import balanced_accuracy_score, roc_auc_score\n",
    "import sklearn.preprocessing\n",
    "from sklearn import preprocessing\n",
    "from sklearn.preprocessing import Normalizer"
   ]
  },
  {
   "cell_type": "code",
   "execution_count": 13,
   "id": "26c8d073",
   "metadata": {},
   "outputs": [],
   "source": [
    "result_path='/Users/lifuchen/Desktop/Evaluating-and-Mitigating-Bias-in-ML-Models-for-CVD/deep learning/protected attribute/'\n",
    "filename = \"LSTM protected gender prediction_0.csv\"\n",
    "prediction = pd.read_csv(path.join(result_path, filename))\n",
    "\n",
    "y_test_score = prediction['test_score'][prediction['test_score'].notna()]   \n",
    "y_test_score_male = prediction['test_male_score'][prediction['test_male_score'].notna()]   \n",
    "y_test_score_female = prediction['test_female_score'][prediction['test_female_score'].notna()]\n",
    "\n",
    "filename = \"LSTM protected result_0.csv\"\n",
    "result = pd.read_csv(path.join(result_path, filename))"
   ]
  },
  {
   "cell_type": "code",
   "execution_count": 14,
   "id": "2d4b3fb9",
   "metadata": {},
   "outputs": [
    {
     "data": {
      "text/plain": [
       "0       0.197643\n",
       "1       0.157256\n",
       "2       0.180440\n",
       "3       0.196703\n",
       "4       0.006917\n",
       "          ...   \n",
       "7702    0.188349\n",
       "7703    0.042140\n",
       "7704    0.029196\n",
       "7705    0.013608\n",
       "7706    0.018408\n",
       "Name: test_male_score, Length: 7707, dtype: float64"
      ]
     },
     "execution_count": 14,
     "metadata": {},
     "output_type": "execute_result"
    }
   ],
   "source": [
    "y_test_score_male"
   ]
  },
  {
   "cell_type": "code",
   "execution_count": 15,
   "id": "97f50019",
   "metadata": {},
   "outputs": [
    {
     "data": {
      "text/plain": [
       "0       0.0\n",
       "1       0.0\n",
       "2       0.0\n",
       "3       1.0\n",
       "4       0.0\n",
       "       ... \n",
       "7702    1.0\n",
       "7703    0.0\n",
       "7704    0.0\n",
       "7705    0.0\n",
       "7706    0.0\n",
       "Name: y_test_male, Length: 7707, dtype: float64"
      ]
     },
     "execution_count": 15,
     "metadata": {},
     "output_type": "execute_result"
    }
   ],
   "source": [
    "result['y_test_male'][result['y_test_male'].notna()]"
   ]
  },
  {
   "cell_type": "code",
   "execution_count": 17,
   "id": "267c4991",
   "metadata": {},
   "outputs": [],
   "source": [
    "def get_result (records, auc_vec, ba_vec, eod_vec, di_vec, y_test, y_score, y_test_1, y_score_1, y_test_2, y_score_2):    \n",
    "    threshold = 0.1\n",
    "    ba = thres.calculate_balanced_accuracy(y_test, y_score, threshold)\n",
    "    auroc = roc_auc_score(y_test, y_score)\n",
    "    precision, recall, tpr, tnr, pd_overall = thres.calculate_precision_metrics(y_test, y_score,threshold)\n",
    "    \n",
    "    ba_male = thres.calculate_balanced_accuracy(y_test_1, y_score_1, threshold)\n",
    "    precision_male, recall_male, tpr_male, tnr_male, pd_male = thres.calculate_precision_metrics(y_test_1, y_score_1,threshold)\n",
    "    \n",
    "    ba_female = thres.calculate_balanced_accuracy (y_test_2, y_score_2, threshold)\n",
    "    precision_female, recall_female, tpr_female, tnr_female, pd_female = thres.calculate_precision_metrics(y_test_2, y_score_2,threshold)\n",
    "\n",
    "    eod = fair.get_EOD(y_test_1, y_score_1,threshold, y_test_2, y_score_2, threshold)\n",
    "    di = fair.get_SP(y_test_1, y_score_1,threshold, y_test_2, y_score_2, threshold)\n",
    "    \n",
    "    auc_vec.append(auroc)\n",
    "    ba_vec.append(ba)\n",
    "    eod_vec.append(eod)\n",
    "    di_vec.append(di)\n",
    "\n",
    "    records.append({\n",
    "        'auroc': auroc,\n",
    "        'overall ba test': ba,\n",
    "        'male ba test': ba_male,\n",
    "        'female ba test': ba_female,\n",
    "        'overall precision':precision,\n",
    "        'overall recall':recall,\n",
    "        'overall tpr':tpr,\n",
    "        'overall tnr':tnr,\n",
    "        'overall pd':pd_overall,\n",
    "        'male precision':precision_male,\n",
    "        'male recall':recall_male,\n",
    "        'male tpr':tpr_male,\n",
    "        'male tnr':tnr_male,\n",
    "        'male pd':pd_male,\n",
    "        'female precision':precision_female,\n",
    "        'female recall':recall_female,\n",
    "        'female tpr':tpr_female,\n",
    "        'female tnr':tnr_female,\n",
    "        'female pd':pd_female,\n",
    "        'eod': eod,\n",
    "        'di': di,\n",
    "        })"
   ]
  },
  {
   "cell_type": "code",
   "execution_count": 30,
   "id": "4c645ce6",
   "metadata": {},
   "outputs": [
    {
     "data": {
      "text/html": [
       "<div>\n",
       "<style scoped>\n",
       "    .dataframe tbody tr th:only-of-type {\n",
       "        vertical-align: middle;\n",
       "    }\n",
       "\n",
       "    .dataframe tbody tr th {\n",
       "        vertical-align: top;\n",
       "    }\n",
       "\n",
       "    .dataframe thead th {\n",
       "        text-align: right;\n",
       "    }\n",
       "</style>\n",
       "<table border=\"1\" class=\"dataframe\">\n",
       "  <thead>\n",
       "    <tr style=\"text-align: right;\">\n",
       "      <th></th>\n",
       "      <th>test_score</th>\n",
       "      <th>test_male_score</th>\n",
       "      <th>test_female_score</th>\n",
       "    </tr>\n",
       "  </thead>\n",
       "  <tbody>\n",
       "    <tr>\n",
       "      <th>0</th>\n",
       "      <td>0.016083</td>\n",
       "      <td>0.170793</td>\n",
       "      <td>0.016891</td>\n",
       "    </tr>\n",
       "    <tr>\n",
       "      <th>1</th>\n",
       "      <td>0.087983</td>\n",
       "      <td>0.042594</td>\n",
       "      <td>0.092065</td>\n",
       "    </tr>\n",
       "    <tr>\n",
       "      <th>2</th>\n",
       "      <td>0.041194</td>\n",
       "      <td>0.166355</td>\n",
       "      <td>0.043251</td>\n",
       "    </tr>\n",
       "    <tr>\n",
       "      <th>3</th>\n",
       "      <td>0.130894</td>\n",
       "      <td>0.038803</td>\n",
       "      <td>0.134733</td>\n",
       "    </tr>\n",
       "    <tr>\n",
       "      <th>4</th>\n",
       "      <td>0.024258</td>\n",
       "      <td>0.011276</td>\n",
       "      <td>0.025327</td>\n",
       "    </tr>\n",
       "    <tr>\n",
       "      <th>...</th>\n",
       "      <td>...</td>\n",
       "      <td>...</td>\n",
       "      <td>...</td>\n",
       "    </tr>\n",
       "    <tr>\n",
       "      <th>21893</th>\n",
       "      <td>0.042684</td>\n",
       "      <td>NaN</td>\n",
       "      <td>NaN</td>\n",
       "    </tr>\n",
       "    <tr>\n",
       "      <th>21894</th>\n",
       "      <td>0.119910</td>\n",
       "      <td>NaN</td>\n",
       "      <td>NaN</td>\n",
       "    </tr>\n",
       "    <tr>\n",
       "      <th>21895</th>\n",
       "      <td>0.061098</td>\n",
       "      <td>NaN</td>\n",
       "      <td>NaN</td>\n",
       "    </tr>\n",
       "    <tr>\n",
       "      <th>21896</th>\n",
       "      <td>0.122637</td>\n",
       "      <td>NaN</td>\n",
       "      <td>NaN</td>\n",
       "    </tr>\n",
       "    <tr>\n",
       "      <th>21897</th>\n",
       "      <td>0.170491</td>\n",
       "      <td>NaN</td>\n",
       "      <td>NaN</td>\n",
       "    </tr>\n",
       "  </tbody>\n",
       "</table>\n",
       "<p>21898 rows × 3 columns</p>\n",
       "</div>"
      ],
      "text/plain": [
       "       test_score  test_male_score  test_female_score\n",
       "0        0.016083         0.170793           0.016891\n",
       "1        0.087983         0.042594           0.092065\n",
       "2        0.041194         0.166355           0.043251\n",
       "3        0.130894         0.038803           0.134733\n",
       "4        0.024258         0.011276           0.025327\n",
       "...           ...              ...                ...\n",
       "21893    0.042684              NaN                NaN\n",
       "21894    0.119910              NaN                NaN\n",
       "21895    0.061098              NaN                NaN\n",
       "21896    0.122637              NaN                NaN\n",
       "21897    0.170491              NaN                NaN\n",
       "\n",
       "[21898 rows x 3 columns]"
      ]
     },
     "execution_count": 30,
     "metadata": {},
     "output_type": "execute_result"
    }
   ],
   "source": [
    "filename = \"LSTM protected race prediction_\" + str(3) + \".csv\"\n",
    "prediction = pd.read_csv(path.join(result_path, filename))\n",
    "prediction\n",
    "#y_test_score_white = prediction['test_white_score'][prediction['test_white_score'].notna()]"
   ]
  },
  {
   "cell_type": "code",
   "execution_count": 31,
   "id": "804a7cd6",
   "metadata": {},
   "outputs": [
    {
     "name": "stdout",
     "output_type": "stream",
     "text": [
      "True positive rate of class 1 is  0.712\n",
      "True positive rate of class 2 is  0.578\n",
      "Positive prediction rate of class 1 is  0.39\n",
      "Positive prediction rate of class 2 is  0.291\n",
      "True positive rate of class 1 is  0.738\n",
      "True positive rate of class 2 is  0.561\n",
      "Positive prediction rate of class 1 is  0.395\n",
      "Positive prediction rate of class 2 is  0.287\n",
      "True positive rate of class 1 is  0.715\n",
      "True positive rate of class 2 is  0.574\n",
      "Positive prediction rate of class 1 is  0.371\n",
      "Positive prediction rate of class 2 is  0.274\n",
      "True positive rate of class 1 is  0.701\n",
      "True positive rate of class 2 is  0.598\n",
      "Positive prediction rate of class 1 is  0.357\n",
      "Positive prediction rate of class 2 is  0.259\n",
      "True positive rate of class 1 is  0.776\n",
      "True positive rate of class 2 is  0.652\n",
      "Positive prediction rate of class 1 is  0.459\n",
      "Positive prediction rate of class 2 is  0.319\n"
     ]
    }
   ],
   "source": [
    "records_lstm_race = []\n",
    "auc_race = []\n",
    "ba_race = []\n",
    "eod_race = []\n",
    "di_race = []\n",
    "for i in range(5):\n",
    "    filename = \"LSTM protected race prediction_\" + str(i) + \".csv\"\n",
    "    prediction = pd.read_csv(path.join(result_path, filename))\n",
    "    \n",
    "    y_test_score = prediction['test_score'][prediction['test_score'].notna()]   \n",
    "    y_test_score_white = prediction['test_white_score'][prediction['test_white_score'].notna()]   \n",
    "    y_test_score_black = prediction['test_black_score'][prediction['test_black_score'].notna()]\n",
    "    \n",
    "    filename_2 = \"LSTM protected result_\" + str(i) + \".csv\"\n",
    "    result = pd.read_csv(path.join(result_path, filename_2))\n",
    "    y_test = result['y_test'][result['y_test'].notna()] \n",
    "    y_test_white = result['y_test_white'][result['y_test_white'].notna()] \n",
    "    y_test_black = result['y_test_black'][result['y_test_black'].notna()] \n",
    "    \n",
    "    get_result(records_lstm_race, auc_race, ba_race, eod_race, di_race, y_test, y_test_score, y_test_white, y_test_score_white, y_test_black, y_test_score_black)\n",
    "    "
   ]
  },
  {
   "cell_type": "code",
   "execution_count": 32,
   "id": "6a366b56",
   "metadata": {},
   "outputs": [
    {
     "name": "stdout",
     "output_type": "stream",
     "text": [
      "[0.7321405035803488, 0.7418224299065419, 0.7533836841303263, 0.7533323241451568, 0.7409287870889054] 0.7443215457702558 0.008117273667692685\n",
      "[0.6745305332444317, 0.6839021150898901, 0.6866911756355324, 0.6893304974638441, 0.6758492186996616] 0.6820607080266721 0.005881632096971819\n",
      "[0.134, 0.17699999999999994, 0.14100000000000001, 0.10299999999999998, 0.124] 0.13579999999999998 0.024260255563369467\n",
      "[1.3402061855670104, 1.3763066202090595, 1.354014598540146, 1.3783783783783783, 1.438871473354232] 1.3775554512097652 0.03379654049774827\n"
     ]
    }
   ],
   "source": [
    "print(auc_race, np.mean(auc_race), np.std(auc_race))\n",
    "print(ba_race, np.mean(ba_race), np.std(ba_race))\n",
    "print(eod_race, np.mean(eod_race), np.std(eod_race))\n",
    "print(di_race, np.mean(di_race), np.std(di_race))"
   ]
  },
  {
   "cell_type": "code",
   "execution_count": 11,
   "id": "b20fa64b",
   "metadata": {},
   "outputs": [
    {
     "name": "stdout",
     "output_type": "stream",
     "text": [
      "True positive rate of class 1 is  0.763\n",
      "True positive rate of class 2 is  0.684\n",
      "Positive prediction rate of class 1 is  0.47\n",
      "Positive prediction rate of class 2 is  0.356\n",
      "True positive rate of class 1 is  0.806\n",
      "True positive rate of class 2 is  0.733\n",
      "Positive prediction rate of class 1 is  0.496\n",
      "Positive prediction rate of class 2 is  0.377\n",
      "True positive rate of class 1 is  0.814\n",
      "True positive rate of class 2 is  0.763\n",
      "Positive prediction rate of class 1 is  0.495\n",
      "Positive prediction rate of class 2 is  0.4\n",
      "True positive rate of class 1 is  0.805\n",
      "True positive rate of class 2 is  0.667\n",
      "Positive prediction rate of class 1 is  0.471\n",
      "Positive prediction rate of class 2 is  0.319\n",
      "True positive rate of class 1 is  0.801\n",
      "True positive rate of class 2 is  0.738\n",
      "Positive prediction rate of class 1 is  0.502\n",
      "Positive prediction rate of class 2 is  0.399\n"
     ]
    }
   ],
   "source": [
    "records_lstm_gender = []\n",
    "auc_gender = []\n",
    "ba_gender = []\n",
    "eod_gender = []\n",
    "di_gender = []\n",
    "for i in range(5):\n",
    "    filename = \"LSTM protected gender prediction_\" + str(i) + \".csv\"\n",
    "    prediction = pd.read_csv(path.join(result_path, filename))\n",
    "    \n",
    "    y_test_score = prediction['test_score'][prediction['test_score'].notna()]   \n",
    "    y_test_score_male = prediction['test_male_score'][prediction['test_male_score'].notna()]   \n",
    "    y_test_score_female = prediction['test_female_score'][prediction['test_female_score'].notna()]\n",
    "    \n",
    "    filename_2 = \"LSTM protected result_\" + str(i) + \".csv\"\n",
    "    result = pd.read_csv(path.join(result_path, filename_2))\n",
    "    y_test = result['y_test'][result['y_test'].notna()] \n",
    "    y_test_male = result['y_test_male'][result['y_test_male'].notna()] \n",
    "    y_test_female = result['y_test_female'][result['y_test_female'].notna()] \n",
    "    \n",
    "    get_result(records_lstm_gender, auc_gender, ba_gender, eod_gender, di_gender, y_test, y_test_score, y_test_male, y_test_score_male, y_test_female, y_test_score_female)\n",
    "    "
   ]
  },
  {
   "cell_type": "code",
   "execution_count": 12,
   "id": "498fbb0d",
   "metadata": {},
   "outputs": [
    {
     "name": "stdout",
     "output_type": "stream",
     "text": [
      "[0.7393006519273275, 0.7468198078556084, 0.7420881761281162, 0.7517842091971021, 0.744794149212777] 0.7449573988641862 0.004250453670808893\n",
      "[0.676885453156312, 0.688893604733023, 0.6936673335538958, 0.6949698308519475, 0.6806229836177177] 0.6870078411825792 0.007134807184287758\n",
      "[0.07899999999999996, 0.07300000000000006, 0.050999999999999934, 0.138, 0.06300000000000006] 0.08080000000000001 0.03013569312293979\n",
      "[1.3202247191011236, 1.3156498673740054, 1.2374999999999998, 1.476489028213166, 1.2581453634085213] 1.321601795619363 0.08381790670909417\n"
     ]
    }
   ],
   "source": [
    "print(auc_gender, np.mean(auc_gender), np.std(auc_gender))\n",
    "print(ba_gender, np.mean(ba_gender), np.std(ba_gender))\n",
    "print(eod_gender, np.mean(eod_gender), np.std(eod_gender))\n",
    "print(di_gender, np.mean(di_gender), np.std(di_gender))"
   ]
  },
  {
   "cell_type": "code",
   "execution_count": null,
   "id": "5aafef75",
   "metadata": {},
   "outputs": [],
   "source": []
  }
 ],
 "metadata": {
  "kernelspec": {
   "display_name": "PyCharm (CVDPrediction-master)",
   "language": "python",
   "name": "pycharm-6defbc71"
  },
  "language_info": {
   "codemirror_mode": {
    "name": "ipython",
    "version": 3
   },
   "file_extension": ".py",
   "mimetype": "text/x-python",
   "name": "python",
   "nbconvert_exporter": "python",
   "pygments_lexer": "ipython3",
   "version": "3.8.3"
  }
 },
 "nbformat": 4,
 "nbformat_minor": 5
}
