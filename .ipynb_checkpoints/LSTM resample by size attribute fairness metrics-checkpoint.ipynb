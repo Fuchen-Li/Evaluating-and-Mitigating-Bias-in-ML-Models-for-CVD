{
 "cells": [
  {
   "cell_type": "code",
   "execution_count": 2,
   "id": "741e6f76",
   "metadata": {},
   "outputs": [],
   "source": [
    "import pandas as pd\n",
    "import seaborn as sns\n",
    "import numpy as np\n",
    "import matplotlib.pyplot as plt\n",
    "%matplotlib inline\n",
    "from os import path\n",
    "\n",
    "import src.lib.utility_classfier_tuning as uclf\n",
    "import src.lib.optimal_threhold_related as thres\n",
    "import src.lib.fairness_tests as fair\n",
    "\n",
    "from sklearn.metrics import balanced_accuracy_score, roc_auc_score\n",
    "import sklearn.preprocessing\n",
    "from sklearn import preprocessing\n",
    "from sklearn.preprocessing import Normalizer"
   ]
  },
  {
   "cell_type": "code",
   "execution_count": 3,
   "id": "26c8d073",
   "metadata": {},
   "outputs": [],
   "source": [
    "result_path='/Users/lifuchen/Desktop/Evaluating-and-Mitigating-Bias-in-ML-Models-for-CVD/deep learning/resample by proportion/'\n",
    "filename = \"LSTM resample_proportion gender prediction_0.csv\"\n",
    "prediction = pd.read_csv(path.join(result_path, filename))\n",
    "\n",
    "y_test_score = prediction['test_score'][prediction['test_score'].notna()]   \n",
    "y_test_score_male = prediction['test_male_score'][prediction['test_male_score'].notna()]   \n",
    "y_test_score_female = prediction['test_female_score'][prediction['test_female_score'].notna()]\n",
    "\n",
    "filename = \"LSTM resample_proportion gender result_0.csv\"\n",
    "result = pd.read_csv(path.join(result_path, filename))"
   ]
  },
  {
   "cell_type": "code",
   "execution_count": 4,
   "id": "2d4b3fb9",
   "metadata": {},
   "outputs": [
    {
     "data": {
      "text/plain": [
       "0       0.191605\n",
       "1       0.115376\n",
       "2       0.191605\n",
       "3       0.191605\n",
       "4       0.008895\n",
       "          ...   \n",
       "7702    0.133343\n",
       "7703    0.036308\n",
       "7704    0.034383\n",
       "7705    0.001899\n",
       "7706    0.024911\n",
       "Name: test_male_score, Length: 7707, dtype: float64"
      ]
     },
     "execution_count": 4,
     "metadata": {},
     "output_type": "execute_result"
    }
   ],
   "source": [
    "y_test_score_male"
   ]
  },
  {
   "cell_type": "code",
   "execution_count": 5,
   "id": "97f50019",
   "metadata": {},
   "outputs": [
    {
     "data": {
      "text/plain": [
       "0       0.0\n",
       "1       0.0\n",
       "2       0.0\n",
       "3       1.0\n",
       "4       0.0\n",
       "       ... \n",
       "7702    1.0\n",
       "7703    0.0\n",
       "7704    0.0\n",
       "7705    0.0\n",
       "7706    0.0\n",
       "Name: y_test_male, Length: 7707, dtype: float64"
      ]
     },
     "execution_count": 5,
     "metadata": {},
     "output_type": "execute_result"
    }
   ],
   "source": [
    "result['y_test_male'][result['y_test_male'].notna()]"
   ]
  },
  {
   "cell_type": "code",
   "execution_count": 7,
   "id": "267c4991",
   "metadata": {},
   "outputs": [],
   "source": [
    "def get_result (records, auc_vec, ba_vec, eod_vec, di_vec, y_test, y_score, y_test_1, y_score_1, y_test_2, y_score_2):    \n",
    "    threshold = 0.1\n",
    "    ba = thres.calculate_balanced_accuracy(y_test, y_score, threshold)\n",
    "    auroc = roc_auc_score(y_test, y_score)\n",
    "    precision, recall, tpr, tnr, pd_overall = thres.calculate_precision_metrics(y_test, y_score,threshold)\n",
    "    \n",
    "    ba_male = thres.calculate_balanced_accuracy(y_test_1, y_score_1, threshold)\n",
    "    precision_male, recall_male, tpr_male, tnr_male, pd_male = thres.calculate_precision_metrics(y_test_1, y_score_1,threshold)\n",
    "    \n",
    "    ba_female = thres.calculate_balanced_accuracy (y_test_2, y_score_2, threshold)\n",
    "    precision_female, recall_female, tpr_female, tnr_female, pd_female = thres.calculate_precision_metrics(y_test_2, y_score_2,threshold)\n",
    "\n",
    "    eod = fair.get_EOD(y_test_1, y_score_1,threshold, y_test_2, y_score_2, threshold)\n",
    "    di = fair.get_SP(y_test_1, y_score_1,threshold, y_test_2, y_score_2, threshold)\n",
    "    \n",
    "    auc_vec.append(auroc)\n",
    "    ba_vec.append(ba)\n",
    "    eod_vec.append(eod)\n",
    "    di_vec.append(di)\n",
    "\n",
    "    records.append({\n",
    "        'auroc': auroc,\n",
    "        'overall ba test': ba,\n",
    "        'male ba test': ba_male,\n",
    "        'female ba test': ba_female,\n",
    "        'overall precision':precision,\n",
    "        'overall recall':recall,\n",
    "        'overall tpr':tpr,\n",
    "        'overall tnr':tnr,\n",
    "        'overall pd':pd_overall,\n",
    "        'male precision':precision_male,\n",
    "        'male recall':recall_male,\n",
    "        'male tpr':tpr_male,\n",
    "        'male tnr':tnr_male,\n",
    "        'male pd':pd_male,\n",
    "        'female precision':precision_female,\n",
    "        'female recall':recall_female,\n",
    "        'female tpr':tpr_female,\n",
    "        'female tnr':tnr_female,\n",
    "        'female pd':pd_female,\n",
    "        'eod': eod,\n",
    "        'di': di,\n",
    "        })"
   ]
  },
  {
   "cell_type": "code",
   "execution_count": 8,
   "id": "804a7cd6",
   "metadata": {},
   "outputs": [
    {
     "name": "stdout",
     "output_type": "stream",
     "text": [
      "True positive rate of class 1 is  0.765\n",
      "True positive rate of class 2 is  0.68\n",
      "Positive prediction rate of class 1 is  0.441\n",
      "Positive prediction rate of class 2 is  0.361\n",
      "True positive rate of class 1 is  0.787\n",
      "True positive rate of class 2 is  0.711\n",
      "Positive prediction rate of class 1 is  0.447\n",
      "Positive prediction rate of class 2 is  0.377\n",
      "True positive rate of class 1 is  0.705\n",
      "True positive rate of class 2 is  0.555\n",
      "Positive prediction rate of class 1 is  0.367\n",
      "Positive prediction rate of class 2 is  0.28\n",
      "True positive rate of class 1 is  0.743\n",
      "True positive rate of class 2 is  0.646\n",
      "Positive prediction rate of class 1 is  0.404\n",
      "Positive prediction rate of class 2 is  0.314\n",
      "True positive rate of class 1 is  0.75\n",
      "True positive rate of class 2 is  0.728\n",
      "Positive prediction rate of class 1 is  0.413\n",
      "Positive prediction rate of class 2 is  0.348\n"
     ]
    }
   ],
   "source": [
    "records_lstm_race = []\n",
    "auc_race = []\n",
    "ba_race = []\n",
    "eod_race = []\n",
    "di_race = []\n",
    "for i in range(5):\n",
    "    filename = \"LSTM resample_proportion race prediction_\" + str(i) + \".csv\"\n",
    "    prediction = pd.read_csv(path.join(result_path, filename))\n",
    "    \n",
    "    y_test_score = prediction['test_score'][prediction['test_score'].notna()]   \n",
    "    y_test_score_white = prediction['test_white_score'][prediction['test_white_score'].notna()]   \n",
    "    y_test_score_black = prediction['test_black_score'][prediction['test_black_score'].notna()]\n",
    "    \n",
    "    filename_2 = \"LSTM resample_proportion race result_\" + str(i) + \".csv\"\n",
    "    result = pd.read_csv(path.join(result_path, filename_2))\n",
    "    y_test = result['y_test'][result['y_test'].notna()] \n",
    "    y_test_white = result['y_test_white'][result['y_test_white'].notna()] \n",
    "    y_test_black = result['y_test_black'][result['y_test_black'].notna()] \n",
    "    \n",
    "    get_result(records_lstm_race, auc_race, ba_race, eod_race, di_race, y_test, y_test_score, y_test_white, y_test_score_white, y_test_black, y_test_score_black)\n",
    "    "
   ]
  },
  {
   "cell_type": "code",
   "execution_count": 9,
   "id": "6a366b56",
   "metadata": {},
   "outputs": [
    {
     "name": "stdout",
     "output_type": "stream",
     "text": [
      "[0.7387658933339489, 0.7384937952593651, 0.747828606279739, 0.7441116532327999, 0.7443549106169502] 0.7427109717445607 0.003583374054057464\n",
      "[0.6780299376945957, 0.6865305872666176, 0.6821155995826205, 0.6861927843552504, 0.6880126028570555] 0.6841763023512278 0.003642810813073731\n",
      "[0.08499999999999996, 0.07600000000000007, 0.1499999999999999, 0.09699999999999998, 0.02200000000000002] 0.086 0.041021945346363047\n",
      "[1.221606648199446, 1.1856763925729443, 1.3107142857142855, 1.2866242038216562, 1.1867816091954022] 1.238280627900747 0.051538552983538814\n"
     ]
    }
   ],
   "source": [
    "print(auc_race, np.mean(auc_race), np.std(auc_race))\n",
    "print(ba_race, np.mean(ba_race), np.std(ba_race))\n",
    "print(eod_race, np.mean(eod_race), np.std(eod_race))\n",
    "print(di_race, np.mean(di_race), np.std(di_race))"
   ]
  },
  {
   "cell_type": "code",
   "execution_count": 10,
   "id": "b20fa64b",
   "metadata": {},
   "outputs": [
    {
     "name": "stdout",
     "output_type": "stream",
     "text": [
      "True positive rate of class 1 is  0.746\n",
      "True positive rate of class 2 is  0.689\n",
      "Positive prediction rate of class 1 is  0.456\n",
      "Positive prediction rate of class 2 is  0.364\n",
      "True positive rate of class 1 is  0.805\n",
      "True positive rate of class 2 is  0.755\n",
      "Positive prediction rate of class 1 is  0.509\n",
      "Positive prediction rate of class 2 is  0.399\n",
      "True positive rate of class 1 is  0.869\n",
      "True positive rate of class 2 is  0.826\n",
      "Positive prediction rate of class 1 is  0.572\n",
      "Positive prediction rate of class 2 is  0.485\n",
      "True positive rate of class 1 is  0.852\n",
      "True positive rate of class 2 is  0.765\n",
      "Positive prediction rate of class 1 is  0.61\n",
      "Positive prediction rate of class 2 is  0.459\n",
      "True positive rate of class 1 is  0.819\n",
      "True positive rate of class 2 is  0.758\n",
      "Positive prediction rate of class 1 is  0.502\n",
      "Positive prediction rate of class 2 is  0.434\n"
     ]
    }
   ],
   "source": [
    "records_lstm_gender = []\n",
    "auc_gender = []\n",
    "ba_gender = []\n",
    "eod_gender = []\n",
    "di_gender = []\n",
    "for i in range(5):\n",
    "    filename = \"LSTM resample_proportion gender prediction_\" + str(i) + \".csv\"\n",
    "    prediction = pd.read_csv(path.join(result_path, filename))\n",
    "    \n",
    "    y_test_score = prediction['test_score'][prediction['test_score'].notna()]   \n",
    "    y_test_score_male = prediction['test_male_score'][prediction['test_male_score'].notna()]   \n",
    "    y_test_score_female = prediction['test_female_score'][prediction['test_female_score'].notna()]\n",
    "    \n",
    "    filename_2 = \"LSTM resample_proportion gender result_\" + str(i) + \".csv\"\n",
    "    result = pd.read_csv(path.join(result_path, filename_2))\n",
    "    y_test = result['y_test'][result['y_test'].notna()] \n",
    "    y_test_male = result['y_test_male'][result['y_test_male'].notna()] \n",
    "    y_test_female = result['y_test_female'][result['y_test_female'].notna()] \n",
    "    \n",
    "    get_result(records_lstm_gender, auc_gender, ba_gender, eod_gender, di_gender, y_test, y_test_score, y_test_male, y_test_score_male, y_test_female, y_test_score_female)\n",
    "    "
   ]
  },
  {
   "cell_type": "code",
   "execution_count": 11,
   "id": "498fbb0d",
   "metadata": {},
   "outputs": [
    {
     "name": "stdout",
     "output_type": "stream",
     "text": [
      "[0.7342492828165941, 0.7416872198440224, 0.7441942684805367, 0.7199038201213845, 0.738894725238832] 0.7357858633002741 0.008599914934507912\n",
      "[0.6744474689080892, 0.6852009999877294, 0.6813444132043422, 0.6603603715792857, 0.6789844237005942] 0.6760675354760082 0.008592013301018315\n",
      "[0.05700000000000005, 0.050000000000000044, 0.04300000000000004, 0.08699999999999997, 0.06099999999999994] 0.05960000000000001 0.01501465950329874\n",
      "[1.2527472527472527, 1.275689223057644, 1.179381443298969, 1.3289760348583877, 1.1566820276497696] 1.2386951963224049 0.06318374671395509\n"
     ]
    }
   ],
   "source": [
    "print(auc_gender, np.mean(auc_gender), np.std(auc_gender))\n",
    "print(ba_gender, np.mean(ba_gender), np.std(ba_gender))\n",
    "print(eod_gender, np.mean(eod_gender), np.std(eod_gender))\n",
    "print(di_gender, np.mean(di_gender), np.std(di_gender))"
   ]
  },
  {
   "cell_type": "code",
   "execution_count": null,
   "id": "5aafef75",
   "metadata": {},
   "outputs": [],
   "source": []
  }
 ],
 "metadata": {
  "kernelspec": {
   "display_name": "PyCharm (CVDPrediction-master)",
   "language": "python",
   "name": "pycharm-6defbc71"
  },
  "language_info": {
   "codemirror_mode": {
    "name": "ipython",
    "version": 3
   },
   "file_extension": ".py",
   "mimetype": "text/x-python",
   "name": "python",
   "nbconvert_exporter": "python",
   "pygments_lexer": "ipython3",
   "version": "3.8.3"
  }
 },
 "nbformat": 4,
 "nbformat_minor": 5
}
