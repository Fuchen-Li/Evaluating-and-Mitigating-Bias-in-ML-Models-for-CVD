{
 "cells": [
  {
   "cell_type": "code",
   "execution_count": 1,
   "id": "41db13c9",
   "metadata": {},
   "outputs": [],
   "source": [
    "import pandas as pd\n",
    "import seaborn as sns\n",
    "import numpy as np\n",
    "import matplotlib.pyplot as plt\n",
    "%matplotlib inline\n",
    "from os import path\n",
    "\n",
    "import src.lib.utility_classfier_tuning as uclf\n",
    "import src.lib.optimal_threhold_related as thres\n",
    "import src.lib.fairness_tests as fair\n",
    "\n",
    "from sklearn.metrics import balanced_accuracy_score, roc_auc_score\n",
    "import sklearn.preprocessing\n",
    "from sklearn import preprocessing"
   ]
  },
  {
   "cell_type": "code",
   "execution_count": 2,
   "id": "79cbe261",
   "metadata": {},
   "outputs": [],
   "source": [
    "result_path='/Users/lifuchen/Desktop/Evaluating-and-Mitigating-Bias-in-ML-Models-for-CVD/external validation/'\n",
    "filename = \"lr.csv\"\n",
    "lr= pd.read_csv(path.join(result_path, filename))"
   ]
  },
  {
   "cell_type": "code",
   "execution_count": 3,
   "id": "4940b456",
   "metadata": {},
   "outputs": [
    {
     "data": {
      "text/html": [
       "<div>\n",
       "<style scoped>\n",
       "    .dataframe tbody tr th:only-of-type {\n",
       "        vertical-align: middle;\n",
       "    }\n",
       "\n",
       "    .dataframe tbody tr th {\n",
       "        vertical-align: top;\n",
       "    }\n",
       "\n",
       "    .dataframe thead th {\n",
       "        text-align: right;\n",
       "    }\n",
       "</style>\n",
       "<table border=\"1\" class=\"dataframe\">\n",
       "  <thead>\n",
       "    <tr style=\"text-align: right;\">\n",
       "      <th></th>\n",
       "      <th>predict_score</th>\n",
       "      <th>true_label</th>\n",
       "      <th>GENDER</th>\n",
       "      <th>Race_B</th>\n",
       "      <th>Race_W</th>\n",
       "    </tr>\n",
       "  </thead>\n",
       "  <tbody>\n",
       "    <tr>\n",
       "      <th>0</th>\n",
       "      <td>0.701356</td>\n",
       "      <td>0</td>\n",
       "      <td>0</td>\n",
       "      <td>0</td>\n",
       "      <td>1</td>\n",
       "    </tr>\n",
       "    <tr>\n",
       "      <th>1</th>\n",
       "      <td>0.008414</td>\n",
       "      <td>0</td>\n",
       "      <td>1</td>\n",
       "      <td>1</td>\n",
       "      <td>0</td>\n",
       "    </tr>\n",
       "    <tr>\n",
       "      <th>2</th>\n",
       "      <td>0.994235</td>\n",
       "      <td>0</td>\n",
       "      <td>1</td>\n",
       "      <td>0</td>\n",
       "      <td>1</td>\n",
       "    </tr>\n",
       "    <tr>\n",
       "      <th>3</th>\n",
       "      <td>0.500436</td>\n",
       "      <td>0</td>\n",
       "      <td>1</td>\n",
       "      <td>0</td>\n",
       "      <td>1</td>\n",
       "    </tr>\n",
       "    <tr>\n",
       "      <th>4</th>\n",
       "      <td>0.657214</td>\n",
       "      <td>0</td>\n",
       "      <td>1</td>\n",
       "      <td>0</td>\n",
       "      <td>1</td>\n",
       "    </tr>\n",
       "    <tr>\n",
       "      <th>...</th>\n",
       "      <td>...</td>\n",
       "      <td>...</td>\n",
       "      <td>...</td>\n",
       "      <td>...</td>\n",
       "      <td>...</td>\n",
       "    </tr>\n",
       "    <tr>\n",
       "      <th>8857</th>\n",
       "      <td>0.997459</td>\n",
       "      <td>1</td>\n",
       "      <td>0</td>\n",
       "      <td>0</td>\n",
       "      <td>1</td>\n",
       "    </tr>\n",
       "    <tr>\n",
       "      <th>8858</th>\n",
       "      <td>0.254504</td>\n",
       "      <td>1</td>\n",
       "      <td>1</td>\n",
       "      <td>0</td>\n",
       "      <td>1</td>\n",
       "    </tr>\n",
       "    <tr>\n",
       "      <th>8859</th>\n",
       "      <td>0.081665</td>\n",
       "      <td>1</td>\n",
       "      <td>1</td>\n",
       "      <td>1</td>\n",
       "      <td>0</td>\n",
       "    </tr>\n",
       "    <tr>\n",
       "      <th>8860</th>\n",
       "      <td>0.182880</td>\n",
       "      <td>1</td>\n",
       "      <td>0</td>\n",
       "      <td>1</td>\n",
       "      <td>0</td>\n",
       "    </tr>\n",
       "    <tr>\n",
       "      <th>8861</th>\n",
       "      <td>0.375622</td>\n",
       "      <td>1</td>\n",
       "      <td>0</td>\n",
       "      <td>0</td>\n",
       "      <td>1</td>\n",
       "    </tr>\n",
       "  </tbody>\n",
       "</table>\n",
       "<p>8862 rows × 5 columns</p>\n",
       "</div>"
      ],
      "text/plain": [
       "      predict_score  true_label  GENDER  Race_B  Race_W\n",
       "0          0.701356           0       0       0       1\n",
       "1          0.008414           0       1       1       0\n",
       "2          0.994235           0       1       0       1\n",
       "3          0.500436           0       1       0       1\n",
       "4          0.657214           0       1       0       1\n",
       "...             ...         ...     ...     ...     ...\n",
       "8857       0.997459           1       0       0       1\n",
       "8858       0.254504           1       1       0       1\n",
       "8859       0.081665           1       1       1       0\n",
       "8860       0.182880           1       0       1       0\n",
       "8861       0.375622           1       0       0       1\n",
       "\n",
       "[8862 rows x 5 columns]"
      ]
     },
     "execution_count": 3,
     "metadata": {},
     "output_type": "execute_result"
    }
   ],
   "source": [
    "lr"
   ]
  },
  {
   "cell_type": "code",
   "execution_count": 4,
   "id": "f7cfd440",
   "metadata": {},
   "outputs": [],
   "source": [
    "y_test = lr['true_label']\n",
    "y_score = lr['predict_score']"
   ]
  },
  {
   "cell_type": "code",
   "execution_count": 7,
   "id": "3c4eac1f",
   "metadata": {},
   "outputs": [
    {
     "name": "stdout",
     "output_type": "stream",
     "text": [
      "3052 3052 5810 5810\n"
     ]
    }
   ],
   "source": [
    "y_score_male = lr['predict_score'][lr['GENDER']==0]\n",
    "y_test_male = lr['true_label'][lr['GENDER']==0]\n",
    "y_score_female = lr['predict_score'][lr['GENDER']==1]\n",
    "y_test_female = lr['true_label'][lr['GENDER']==1]\n",
    "print(len(y_score_male), len(y_test_male), len(y_score_female), len(y_test_female))"
   ]
  },
  {
   "cell_type": "code",
   "execution_count": 8,
   "id": "37017231",
   "metadata": {},
   "outputs": [
    {
     "name": "stdout",
     "output_type": "stream",
     "text": [
      "7583 1279\n"
     ]
    }
   ],
   "source": [
    "y_score_white = lr['predict_score'][lr['Race_W']==1]\n",
    "y_test_white = lr['true_label'][lr['Race_W']==1]\n",
    "y_score_black = lr['predict_score'][lr['Race_W']==0]\n",
    "y_test_white = lr['true_label'][lr['Race_W']==1]\n",
    "print(len(y_score_white), len(y_score_black))"
   ]
  },
  {
   "cell_type": "code",
   "execution_count": 9,
   "id": "66e08609",
   "metadata": {},
   "outputs": [],
   "source": [
    "def get_result (records, y_test, y_score, y_test_1, y_score_1, y_test_2, y_score_2):    \n",
    "    threshold = 0.1\n",
    "    ba = thres.calculate_balanced_accuracy(y_test, y_score, threshold)\n",
    "    auroc = roc_auc_score(y_test, y_score)\n",
    "    precision, recall, tpr, tnr, pd_overall = thres.calculate_precision_metrics(y_test, y_score,threshold)\n",
    "    \n",
    "    ba_male = thres.calculate_balanced_accuracy(y_test_1, y_score_1, threshold)\n",
    "    precision_male, recall_male, tpr_male, tnr_male, pd_male = thres.calculate_precision_metrics(y_test_1, y_score_1,threshold)\n",
    "    \n",
    "    ba_female = thres.calculate_balanced_accuracy (y_test_2, y_score_2, threshold)\n",
    "    precision_female, recall_female, tpr_female, tnr_female, pd_female = thres.calculate_precision_metrics(y_test_2, y_score_2,threshold)\n",
    "\n",
    "    eod = fair.get_EOD(y_test_1, y_score_1,threshold, y_test_2, y_score_2, threshold)\n",
    "    sp = fair.get_SP(y_test_1, y_score_1,threshold, y_test_2, y_score_2, threshold)\n",
    "\n",
    "    records.append({\n",
    "        'auroc': auroc,\n",
    "        'overall ba test': ba,\n",
    "        'male ba test': ba_male,\n",
    "        'female ba test': ba_female,\n",
    "        'overall precision':precision,\n",
    "        'overall recall':recall,\n",
    "        'overall tpr':tpr,\n",
    "        'overall tnr':tnr,\n",
    "        'overall pd':pd_overall,\n",
    "        'male precision':precision_male,\n",
    "        'male recall':recall_male,\n",
    "        'male tpr':tpr_male,\n",
    "        'male tnr':tnr_male,\n",
    "        'male pd':pd_male,\n",
    "        'female precision':precision_female,\n",
    "        'female recall':recall_female,\n",
    "        'female tpr':tpr_female,\n",
    "        'female tnr':tnr_female,\n",
    "        'female pd':pd_female,\n",
    "        'eod': eod,\n",
    "        'di': sp,\n",
    "        })"
   ]
  },
  {
   "cell_type": "code",
   "execution_count": 10,
   "id": "cbc3c451",
   "metadata": {},
   "outputs": [
    {
     "name": "stdout",
     "output_type": "stream",
     "text": [
      "True positive rate of class 1 is  0.936\n",
      "True positive rate of class 2 is  0.892\n",
      "Positive prediction rate of class 1 is  0.884\n",
      "Positive prediction rate of class 2 is  0.866\n"
     ]
    }
   ],
   "source": [
    "records_lr = []\n",
    "get_result(records_lr, y_test, y_score, y_test_male, y_score_male, y_test_female, y_score_female)"
   ]
  },
  {
   "cell_type": "code",
   "execution_count": 11,
   "id": "32976fa9",
   "metadata": {},
   "outputs": [
    {
     "data": {
      "text/plain": [
       "[{'auroc': 0.543401606301166,\n",
       "  'overall ba test': 0.5207405110394443,\n",
       "  'male ba test': 0.5291743119266056,\n",
       "  'female ba test': 0.5141045341053184,\n",
       "  'overall precision': 0.5115233277121979,\n",
       "  'overall recall': 0.91,\n",
       "  'overall tpr': 0.91,\n",
       "  'overall tnr': 0.131,\n",
       "  'overall pd': 0.872,\n",
       "  'male precision': 0.5162713734142306,\n",
       "  'male recall': 0.936,\n",
       "  'male tpr': 0.936,\n",
       "  'male tnr': 0.123,\n",
       "  'male pd': 0.884,\n",
       "  'female precision': 0.5079726651480638,\n",
       "  'female recall': 0.892,\n",
       "  'female tpr': 0.892,\n",
       "  'female tnr': 0.136,\n",
       "  'female pd': 0.866,\n",
       "  'eod': 0.04400000000000004,\n",
       "  'di': 1.0207852193995381}]"
      ]
     },
     "execution_count": 11,
     "metadata": {},
     "output_type": "execute_result"
    }
   ],
   "source": [
    "records_lr"
   ]
  },
  {
   "cell_type": "code",
   "execution_count": null,
   "id": "e851260e",
   "metadata": {},
   "outputs": [],
   "source": []
  }
 ],
 "metadata": {
  "kernelspec": {
   "display_name": "PyCharm (CVDPrediction-master)",
   "language": "python",
   "name": "pycharm-6defbc71"
  },
  "language_info": {
   "codemirror_mode": {
    "name": "ipython",
    "version": 3
   },
   "file_extension": ".py",
   "mimetype": "text/x-python",
   "name": "python",
   "nbconvert_exporter": "python",
   "pygments_lexer": "ipython3",
   "version": "3.8.3"
  }
 },
 "nbformat": 4,
 "nbformat_minor": 5
}
